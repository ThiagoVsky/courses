{
 "cells": [
  {
   "cell_type": "markdown",
   "metadata": {},
   "source": [
    "## Árvore Binária"
   ]
  },
  {
   "cell_type": "markdown",
   "metadata": {},
   "source": [
    "Abaixo segue uma implementação de árvore binária de busca usando o conceito de classes. Note que cada objeto vai ter 3 valores: a chave, o nó da esquerda e o nó da direita. No exemplo abaixo, existe uma ligação entre vários objetos."
   ]
  },
  {
   "cell_type": "code",
   "execution_count": 2,
   "metadata": {},
   "outputs": [
    {
     "name": "stdout",
     "output_type": "stream",
     "text": [
      "Pre-Ordem\n",
      "20\n",
      "10\n",
      "8\n",
      "15\n",
      "40\n",
      "30\n",
      "50\n",
      "Em Ordem\n",
      "8\n",
      "10\n",
      "15\n",
      "20\n",
      "30\n",
      "40\n",
      "50\n",
      "Pos-Ordem\n",
      "8\n",
      "15\n",
      "10\n",
      "30\n",
      "50\n",
      "40\n",
      "20\n"
     ]
    }
   ],
   "source": [
    "class BinaryTree:\n",
    "    def __init__(self, value):\n",
    "        self.key = value\n",
    "        self.left = None\n",
    "        self.right = None\n",
    "        \n",
    "    def insertNode(self, value):\n",
    "        if value < self.key and self.left == None:\n",
    "            self.left = BinaryTree(value)\n",
    "        elif value < self.key and self.left != None:\n",
    "            self.left.insertNode(value)\n",
    "        elif value >self.key and self.right == None:\n",
    "            self.right = BinaryTree(value)\n",
    "        elif value >self.key and self.right != None:\n",
    "            self.right.insertNode(value)\n",
    "            \n",
    "    def preOrder(self):\n",
    "        print(self.key)\n",
    "        if self.left!=None:\n",
    "            self.left.preOrder()\n",
    "        if self.right!=None:\n",
    "            self.right.preOrder()\n",
    "            \n",
    "    def inOrder(self):\n",
    "        if self.left!=None:\n",
    "            self.left.inOrder()\n",
    "        print(self.key)\n",
    "        if self.right!=None:\n",
    "            self.right.inOrder()\n",
    "\n",
    "    def posOrder(self):\n",
    "        if self.left!=None:\n",
    "            self.left.posOrder()\n",
    "        if self.right!=None:\n",
    "            self.right.posOrder()\n",
    "        print(self.key)\n",
    "        \n",
    "    def searchValue(self, value):\n",
    "        if self.key==value:\n",
    "            print(\"Achei!!!\")\n",
    "        elif value>self.key and self.right!=None:\n",
    "            self.right.searchValue(value)\n",
    "        elif value<self.key and self.left!=None:\n",
    "            self.left.searchValue(value)\n",
    "            \n",
    "            \n",
    "    \n",
    "#criando um nó\n",
    "raiz = BinaryTree(20)\n",
    "raiz.insertNode(10)\n",
    "raiz.insertNode(8)\n",
    "raiz.insertNode(15)\n",
    "raiz.insertNode(40)\n",
    "raiz.insertNode(30)\n",
    "raiz.insertNode(50)\n",
    "\n",
    "#\n",
    "print(\"Pre-Ordem\")\n",
    "raiz.preOrder()\n",
    "print(\"Em Ordem\")\n",
    "raiz.inOrder()\n",
    "print(\"Pos-Ordem\")\n",
    "raiz.posOrder()\n",
    "\n"
   ]
  },
  {
   "cell_type": "markdown",
   "metadata": {},
   "source": [
    "### Desafio:\n",
    "\n",
    "Implemente a remoção usando o exemplo acima"
   ]
  },
  {
   "cell_type": "code",
   "execution_count": null,
   "metadata": {
    "collapsed": true
   },
   "outputs": [],
   "source": [
    "# implemente aqui"
   ]
  },
  {
   "cell_type": "markdown",
   "metadata": {},
   "source": [
    "## Comparação de tempos de busca"
   ]
  },
  {
   "cell_type": "markdown",
   "metadata": {},
   "source": [
    "### Usando árvore binária de busca"
   ]
  },
  {
   "cell_type": "code",
   "execution_count": 3,
   "metadata": {},
   "outputs": [
    {
     "name": "stdout",
     "output_type": "stream",
     "text": [
      "\n",
      "Ini: 2018-04-17 23:53:19.465902\n",
      "Fim: 2018-04-17 23:53:19.465902\n"
     ]
    }
   ],
   "source": [
    "from datetime import datetime \n",
    "import random\n",
    "\n",
    "total = 100000\n",
    "qtde = 10000\n",
    "lista = random.sample(range(total), k=qtde)\n",
    "##print(lista)\n",
    "\n",
    "raiz = BinaryTree(total/2)\n",
    "for i in lista:\n",
    "    raiz.insertNode(i)\n",
    "\n",
    "busca = random.randrange(total)\n",
    "print()\n",
    "print(\"Ini:\",datetime.now())\n",
    "raiz.searchValue(busca)\n",
    "print(\"Fim:\",datetime.now())    "
   ]
  },
  {
   "cell_type": "markdown",
   "metadata": {},
   "source": [
    "### Usando vetores"
   ]
  },
  {
   "cell_type": "code",
   "execution_count": null,
   "metadata": {},
   "outputs": [],
   "source": [
    "from datetime import datetime \n",
    "import random\n",
    "\n",
    "total = 100000\n",
    "qtde = 10000\n",
    "lista = random.sample(range(total), k=qtde)\n",
    "busca = random.randrange(total)\n",
    "\n",
    "ini = datetime.now()\n",
    "print(\"Ini:\",ini)\n",
    "for i in lista:\n",
    "    if i==busca:\n",
    "        print(\"Achei\")\n",
    "\n",
    "fim = datetime.now()\n",
    "print(\"Fim:\",fim) "
   ]
  }
 ],
 "metadata": {
  "kernelspec": {
   "display_name": "Python 3",
   "language": "python",
   "name": "python3"
  },
  "language_info": {
   "codemirror_mode": {
    "name": "ipython",
    "version": 3
   },
   "file_extension": ".py",
   "mimetype": "text/x-python",
   "name": "python",
   "nbconvert_exporter": "python",
   "pygments_lexer": "ipython3",
   "version": "3.6.1"
  }
 },
 "nbformat": 4,
 "nbformat_minor": 2
}
