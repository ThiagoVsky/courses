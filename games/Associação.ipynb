{
 "cells": [
  {
   "cell_type": "markdown",
   "metadata": {},
   "source": [
    "## Associação"
   ]
  },
  {
   "cell_type": "code",
   "execution_count": null,
   "metadata": {
    "collapsed": true
   },
   "outputs": [],
   "source": [
    "class Endereco:\n",
    "    \n",
    "    def __init__(self):\n",
    "        pass\n",
    "    \n",
    "class Cliente:\n",
    "    \n",
    "    def __init__(self, endereco):\n",
    "        self.enderecoCliente = endereco\n",
    "\n",
    "end = Endereco()\n",
    "cliente1 = Cliente(end)"
   ]
  },
  {
   "cell_type": "code",
   "execution_count": 17,
   "metadata": {},
   "outputs": [
    {
     "name": "stdout",
     "output_type": "stream",
     "text": [
      "1\n",
      "2\n"
     ]
    }
   ],
   "source": [
    "class Professor:\n",
    "    \n",
    "    def __init__(self, nome):\n",
    "        self.nome = nome\n",
    "        self.textbook = []\n",
    "        \n",
    "class Book:\n",
    "    \n",
    "    author = []\n",
    "    \n",
    "    def __init__(self, titulo, autor):\n",
    "        self.titulo = titulo\n",
    "        self.author.append(autor)\n",
    "        \n",
    "        \n",
    "livro = Book(\"ha\",\"b\")\n",
    "print(len(livro.author))\n",
    "livro.author.append(\"c\")\n",
    "print(len(livro.author))\n"
   ]
  },
  {
   "cell_type": "markdown",
   "metadata": {},
   "source": [
    "## Agregação"
   ]
  },
  {
   "cell_type": "code",
   "execution_count": 8,
   "metadata": {},
   "outputs": [
    {
     "name": "stdout",
     "output_type": "stream",
     "text": [
      "O aluno está cursando 2 disciplinas\n"
     ]
    }
   ],
   "source": [
    "class Aluno:\n",
    "    def __init__(self, nomeAluno, rgm):\n",
    "        self.nome = nomeAluno\n",
    "        self.rgm = rgm\n",
    "        self.disciplinas = []\n",
    "        \n",
    "    def inscricaoDisciplina(self, disciplina):\n",
    "        self.disciplinas.append(disciplina)\n",
    "        \n",
    "class Disciplina:\n",
    "    def __init__(self, nome, cargaHoraria):\n",
    "        self.nome = nome\n",
    "        self.cargaHoraria = cargaHoraria\n",
    "        \n",
    "disc1 = Disciplina(\"Programação OO\", 80)\n",
    "disc2 = Disciplina(\"Estruturas de Dados\", 40)\n",
    "\n",
    "aluno = Aluno(\"Fernando X\", \"1234567-7\")\n",
    "aluno.inscricaoDisciplina(disc1)\n",
    "aluno.inscricaoDisciplina(disc2)\n",
    "\n",
    "print(\"O aluno está cursando {} disciplinas\".format(len(aluno.disciplinas)))"
   ]
  },
  {
   "cell_type": "markdown",
   "metadata": {},
   "source": [
    "## Composição"
   ]
  },
  {
   "cell_type": "code",
   "execution_count": 5,
   "metadata": {},
   "outputs": [
    {
     "name": "stdout",
     "output_type": "stream",
     "text": [
      "O livro tem 3 capítulos\n"
     ]
    }
   ],
   "source": [
    "class livro:\n",
    "    \n",
    "    def __init__(self):\n",
    "        self.titulo = None\n",
    "        self.autor = None\n",
    "        self.capitulos = []\n",
    "        \n",
    "    def criarCapitulo(self, nome):\n",
    "        self.capitulos.append(capitulo(nome))\n",
    "    \n",
    "class capitulo:\n",
    "        def __init__(self, nome):\n",
    "            self.titulo = nome\n",
    "    \n",
    "livro = livro()\n",
    "livro.criarCapitulo(\"1 - Introdução\")\n",
    "livro.criarCapitulo(\"2 - Desenvolvimento\")\n",
    "livro.criarCapitulo(\"3 - Conclusão\")\n",
    "\n",
    "print(\"O livro tem {} capítulos\".format(len(livro.capitulos)))\n"
   ]
  },
  {
   "cell_type": "code",
   "execution_count": null,
   "metadata": {
    "collapsed": true
   },
   "outputs": [],
   "source": []
  }
 ],
 "metadata": {
  "kernelspec": {
   "display_name": "Python 3",
   "language": "python",
   "name": "python3"
  },
  "language_info": {
   "codemirror_mode": {
    "name": "ipython",
    "version": 3
   },
   "file_extension": ".py",
   "mimetype": "text/x-python",
   "name": "python",
   "nbconvert_exporter": "python",
   "pygments_lexer": "ipython3",
   "version": "3.6.1"
  }
 },
 "nbformat": 4,
 "nbformat_minor": 2
}
