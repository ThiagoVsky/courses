{
 "cells": [
  {
   "cell_type": "markdown",
   "metadata": {},
   "source": [
    "Questão 1: Considerando o programa abaixo e sabendo que o usuário digitou 4 e 9 (nessa ordem), preencha no campo resposta o valor final da variável total:"
   ]
  },
  {
   "cell_type": "code",
   "execution_count": 1,
   "metadata": {},
   "outputs": [
    {
     "name": "stdout",
     "output_type": "stream",
     "text": [
      "Digite um número4\n",
      "Digite outro número9\n",
      "O novo número é  11.0\n"
     ]
    }
   ],
   "source": [
    "num1 = int(input(\"Digite um número\"))\n",
    "num2 = int(input(\"Digite outro número\"))\n",
    "\n",
    "total = num2 + num1/2\n",
    "\n",
    "print(\"O novo número é \", total)"
   ]
  },
  {
   "cell_type": "markdown",
   "metadata": {},
   "source": [
    "Questão 2: Considerando o programa abaixo e sabendo que o usuário digitou 80 e 10 (nessa ordem), o que seria impresso na ordem exata de execução?"
   ]
  },
  {
   "cell_type": "code",
   "execution_count": 2,
   "metadata": {},
   "outputs": [
    {
     "name": "stdout",
     "output_type": "stream",
     "text": [
      "Digite o valor do salário80\n",
      "Digite o percentual de aumento10\n",
      "88.0\n",
      "80.0\n"
     ]
    }
   ],
   "source": [
    "salario = float(input(\"Digite o valor do salário\"))\n",
    "aumento = float(input(\"Digite o percentual de aumento\"))\n",
    "\n",
    "novoSalario = salario*(1+aumento/100)\n",
    "\n",
    "print(novoSalario)\n",
    "print(salario)"
   ]
  },
  {
   "cell_type": "markdown",
   "metadata": {},
   "source": [
    "Questão 3: O programa abaixo foi executado diversas vezes e, após o usuário digitar um valor, o programa imprimiu a situação do aluno. Para cada valor digitado, coloque do lado a situação do aluno (“Reprovado”, “Recuperação” ou “Aprovado”):"
   ]
  },
  {
   "cell_type": "code",
   "execution_count": 7,
   "metadata": {},
   "outputs": [
    {
     "name": "stdout",
     "output_type": "stream",
     "text": [
      "Qual a média do aluno?8\n",
      "Aprovado\n"
     ]
    }
   ],
   "source": [
    "media = float(input(\"Qual a média do aluno?\"))\n",
    "\n",
    "if 0 < media <=5:\n",
    "    print(\"Reprovado\")\n",
    "else:\n",
    "    if 5 < media < 6:\n",
    "        print(\"Recuperação\")\n",
    "    else:\n",
    "        print(\"Aprovado\")"
   ]
  },
  {
   "cell_type": "markdown",
   "metadata": {},
   "source": [
    "| Valor Digitado | Situação |\n",
    "| --- |--- |\n",
    "| 3 | Reprovado |\n",
    "| 6| Aprovado |\n",
    "| 5 | Reprovado |\n",
    "| -5 | Aprovado |\n",
    "| 8 | Aprovado |"
   ]
  },
  {
   "cell_type": "markdown",
   "metadata": {},
   "source": [
    "Questão 4: Para cada execução do programa abaixo, indique na tabela os valores finais das variáveis precoA e precoB:"
   ]
  },
  {
   "cell_type": "code",
   "execution_count": 12,
   "metadata": {},
   "outputs": [
    {
     "name": "stdout",
     "output_type": "stream",
     "text": [
      "Digite o valor do produto 150\n",
      "Digite o valor do produto 230\n",
      "50\n",
      "60\n"
     ]
    }
   ],
   "source": [
    "precoA = int(input(\"Digite o valor do produto 1\"))\n",
    "precoB = int(input(\"Digite o valor do produto 2\"))\n",
    "\n",
    "if precoA>precoB:\n",
    "    precoB = precoB*2\n",
    "else:\n",
    "    if precoA==precoB:\n",
    "        precoB = precoB*1.5\n",
    "    else:\n",
    "        precoA = precoB*2 + 10\n",
    "\n",
    "print(precoA)\n",
    "print(precoB)"
   ]
  },
  {
   "cell_type": "markdown",
   "metadata": {},
   "source": [
    "| Valor Digitado 1 | Valor Digitado 2 | precoA | precoB\n",
    "| --- |--- | --- |--- |\n",
    "| 32 | 20 | 32  | 40  |\n",
    "| 40 | 4 | 40 | 4 |\n",
    "| 70 | 70 | 70 | 105   |\n",
    "| 20 | 10 | 20 | 20  |\n",
    "| 50 | 30 | 50 | 60 |"
   ]
  },
  {
   "cell_type": "markdown",
   "metadata": {},
   "source": [
    "Questão 5: Ao executar o programa abaixo, qual é a média final do aluno?"
   ]
  },
  {
   "cell_type": "code",
   "execution_count": 13,
   "metadata": {},
   "outputs": [
    {
     "name": "stdout",
     "output_type": "stream",
     "text": [
      "Média 8.0\n"
     ]
    }
   ],
   "source": [
    "notas = (3,8,5,6)\n",
    "soma = 10\n",
    "for nota in notas:\n",
    "    soma = soma + nota\n",
    "print(\"Média\", soma/4)"
   ]
  },
  {
   "cell_type": "markdown",
   "metadata": {},
   "source": [
    "Questão 6: Ao executar o programa abaixo, o usuário digitou 3 e 5 (nessa ordem). Qual será o valor final da variável c?"
   ]
  },
  {
   "cell_type": "code",
   "execution_count": 15,
   "metadata": {},
   "outputs": [
    {
     "name": "stdout",
     "output_type": "stream",
     "text": [
      "Digite a primeira nota3\n",
      "Digite a primeira nota5\n",
      "9\n"
     ]
    }
   ],
   "source": [
    "a = int(input(\"Digite a primeira nota\"))\n",
    "b = int(input(\"Digite a primeira nota\"))\n",
    "c = 0\n",
    "\n",
    "if a>b:\n",
    "    c = a*b+1\n",
    "elif a<b:\n",
    "    c = a**2\n",
    "if a>b or a==b:\n",
    "    c = b\n",
    "    \n",
    "print(c)"
   ]
  },
  {
   "cell_type": "markdown",
   "metadata": {},
   "source": [
    "Questão 7: Um usuário pretendia digitar os números 4,1,3,1,4,-2,-2,1,2,3,1,2,0, mas o programa encerrou antes que ele digitasse todos os valores. Qual foi o último valor digitado?"
   ]
  },
  {
   "cell_type": "code",
   "execution_count": 16,
   "metadata": {},
   "outputs": [
    {
     "name": "stdout",
     "output_type": "stream",
     "text": [
      "Digite um número de 1 a 104\n",
      "Digite um número de 1 a 101\n",
      "Digite um número de 1 a 103\n",
      "Digite um número de 1 a 101\n",
      "Digite um número de 1 a 104\n",
      "3.25\n"
     ]
    }
   ],
   "source": [
    "soma = 0\n",
    "rodadas = 10\n",
    "num = 0\n",
    "while soma <= rodadas:\n",
    "    num = int(input(\"Digite um número de 1 a 10\"))\n",
    "    soma = soma + num\n",
    "    if soma > 20:\n",
    "        break\n",
    "print(soma/4)"
   ]
  },
  {
   "cell_type": "markdown",
   "metadata": {},
   "source": [
    "Questão 8: Ao executar o programa abaixo, qual será o valor final da variável mediaFinal:"
   ]
  },
  {
   "cell_type": "code",
   "execution_count": 17,
   "metadata": {},
   "outputs": [
    {
     "name": "stdout",
     "output_type": "stream",
     "text": [
      "3.5\n"
     ]
    }
   ],
   "source": [
    "notas = (6,4,4,2)\n",
    "mediaFinal = 0\n",
    "soma = 0\n",
    "\n",
    "for i in notas:\n",
    "    if i < 4:\n",
    "        mediaFinal = 0\n",
    "    else:\n",
    "        soma = soma + i\n",
    "\n",
    "mediaFinal = soma / 4\n",
    "print(mediaFinal)"
   ]
  },
  {
   "cell_type": "markdown",
   "metadata": {},
   "source": [
    "Questão 9: O responsável pelo depósito da empresa pediu-lhe que implemente um programa para calcular a soma de todos os itens disponíveis em estoque, de acordo com uma contagem individual por produto. Como ele precisará usar esse programa em outros momentos, você deve implementar de tal forma que o mesmo programa sirva para uma lista de 5 produtos, exemplo dessa questão, como também sirva para uma quantidade variada. Continue a implementação abaixo desse programa considerando os requisitos acima, sabendo que você só precisa implementar de 3 a 5 linhas para o cálculo e para imprimir a contagem total."
   ]
  },
  {
   "cell_type": "code",
   "execution_count": 18,
   "metadata": {},
   "outputs": [
    {
     "name": "stdout",
     "output_type": "stream",
     "text": [
      "280\n"
     ]
    }
   ],
   "source": [
    "estoqueCadaProduto = (30,20,100,50,80)\n",
    "\n",
    "qtdeProdutos = len(estoqueCadaProduto)\n",
    "soma = 0\n",
    "for prod in estoqueCadaProduto:\n",
    "    soma +=prod\n",
    "print(soma)"
   ]
  }
 ],
 "metadata": {
  "kernelspec": {
   "display_name": "Python 3",
   "language": "python",
   "name": "python3"
  },
  "language_info": {
   "codemirror_mode": {
    "name": "ipython",
    "version": 3
   },
   "file_extension": ".py",
   "mimetype": "text/x-python",
   "name": "python",
   "nbconvert_exporter": "python",
   "pygments_lexer": "ipython3",
   "version": "3.6.1"
  }
 },
 "nbformat": 4,
 "nbformat_minor": 2
}
