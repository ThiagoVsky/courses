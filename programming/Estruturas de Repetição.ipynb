{
 "cells": [
  {
   "cell_type": "markdown",
   "metadata": {},
   "source": [
    "# Estruturas de Repetição"
   ]
  },
  {
   "cell_type": "markdown",
   "metadata": {},
   "source": [
    "## Introdução"
   ]
  },
  {
   "cell_type": "markdown",
   "metadata": {},
   "source": [
    "Como visto nas estruturas de decisão, o fluxo de execução das instruções não é necessariamente linear e nem precisa seguir apenas uma direção. Existem situações, como no exemplo de aumento de salário, em que tarefas repetitivas devem ser executadas. Embora seja possível repetir instruções manualmente, essa não é uma boa prática, pois:"
   ]
  },
  {
   "cell_type": "markdown",
   "metadata": {},
   "source": [
    "- Repetição de código\n",
    "- Dificuldade de manutenção\n",
    "- Pouca legibilidade do código"
   ]
  },
  {
   "cell_type": "markdown",
   "metadata": {},
   "source": [
    "Da mesma forma que com as estruturas de decisão, as linguagens de programação provêm estruturas que podem ser usadas para a execução múltipla de uma mesma instrução: as estruturas de repetição. Vamos a um exemplo: "
   ]
  },
  {
   "cell_type": "code",
   "execution_count": null,
   "metadata": {
    "collapsed": true
   },
   "outputs": [],
   "source": [
    "aumento = 1.10\n",
    "salario1 = 1000\n",
    "salario2 = 2000\n",
    "salario3 = 3000\n",
    "\n",
    "print(\"O novo salário é: \", (salario1*aumento))\n",
    "print(\"O novo salário é: \", (salario2*aumento))\n",
    "print(\"O novo salário é: \", (salario3*aumento))\n"
   ]
  },
  {
   "cell_type": "markdown",
   "metadata": {},
   "source": [
    "Veja como no código acima o cálculo e impressão do novo salário é feito 3 vezes. Ou seja, a quantidade de instruções é diretamente proporcional a quantidade de salários que se deseja aumentar. E se tivéssemos que calcular o salário de 20 funcionáros? 50? 100? Pouco prático, certo? Por isso usa-se estruturas de repetição como veremos a seguir."
   ]
  },
  {
   "cell_type": "markdown",
   "metadata": {},
   "source": [
    "## Estruturas de Repetição: For"
   ]
  },
  {
   "cell_type": "markdown",
   "metadata": {},
   "source": [
    "Talvez seja a estrutura mais conhecida independente das linguagens de programação. Basicamente, a regra de um *for* é que um conjunto de instruções (bloco) seja executado um número determinado de vezes. Veja o exemplo abaixo:"
   ]
  },
  {
   "cell_type": "code",
   "execution_count": null,
   "metadata": {
    "collapsed": true
   },
   "outputs": [],
   "source": [
    "for i in (1,2,3):\n",
    "    print(\"Executando a {}a vez\".format(i))"
   ]
  },
  {
   "cell_type": "markdown",
   "metadata": {},
   "source": [
    "Note que, para cada número (1,2,3) executamos a instrução de impressão no console, indicando o valor de cada rodada da repetição. Veja na tabela abaixo uma outra forma de ver a execução do programa implementado acima:"
   ]
  },
  {
   "cell_type": "markdown",
   "metadata": {},
   "source": [
    "|Rodada|Valor de i|Saída|\n",
    "|:--:|:--:|:--:|\n",
    "|1a|1|\"Executando a 1a vez\"|\n",
    "|2a|2|\"Executando a 2a vez\"|\n",
    "|3a|3|\"Executando a 3a vez\"|"
   ]
  },
  {
   "cell_type": "markdown",
   "metadata": {},
   "source": [
    "Ou seja, para cada rodada da repetição, a variável i assume um valor e a saída (impressão no console) é produzida usando esse valor. Em Python, o uso do *for* é um pouco diferente das outras linguagens, que usam condições iniciais, de incremento e de parada. \n",
    "\n",
    "Já em Python, o uso do *for* é através de um conjunto de valores, como fizemos no código anterior. Ou seja, executamos a instrução de impressão para cada valor do conjunto dado (1,2,3). Veja outro exemplo:"
   ]
  },
  {
   "cell_type": "code",
   "execution_count": null,
   "metadata": {
    "collapsed": true
   },
   "outputs": [],
   "source": [
    "for cor in (\"azul\", \"amarelo\", \"vermelho\"):\n",
    "    print(\"A cor é\",cor)"
   ]
  },
  {
   "cell_type": "markdown",
   "metadata": {},
   "source": [
    "Note que, no código acima, não usamos um conjunto de números e sim um conjunto de palavras. Em Python é perfeitamente possível iterar sobre qualquer conjunto de valores, sejam eles números ou strings. Agora, veja um exemplo usando uma pilha de valores:"
   ]
  },
  {
   "cell_type": "code",
   "execution_count": null,
   "metadata": {
    "collapsed": true
   },
   "outputs": [],
   "source": [
    "notas = [10,9,6]\n",
    "soma = 0\n",
    "\n",
    "for nota in notas:\n",
    "    soma+=nota\n",
    "\n",
    "print(\"A média das notas é\",(soma/3))"
   ]
  },
  {
   "cell_type": "markdown",
   "metadata": {},
   "source": [
    "Repare que percorremos a lista de valores da pilha da mesma forma que fizemos com os exemplos anteriores. Ou seja, a ideia básica de um *for* em Python é:"
   ]
  },
  {
   "cell_type": "markdown",
   "metadata": {},
   "source": [
    "```\n",
    "para cada valor no conjunto:\n",
    "    execute instrução 1\n",
    "    execute instrução 2\n",
    "    ...\n",
    "```"
   ]
  },
  {
   "cell_type": "markdown",
   "metadata": {},
   "source": [
    "Se você quiser criar uma estrutura de repetição para executar uma instrução x vezes, basta criar uma lista sequencial de números através da função [range()](https://docs.python.org/3/library/stdtypes.html#range):"
   ]
  },
  {
   "cell_type": "code",
   "execution_count": null,
   "metadata": {
    "collapsed": true
   },
   "outputs": [],
   "source": [
    "for i in range(1,10):\n",
    "    print(\"Imprimindo\",i)"
   ]
  },
  {
   "cell_type": "markdown",
   "metadata": {},
   "source": [
    "A instrução range(1,10) cria um conjunto de números de 1 a 9. Veja embaixo:"
   ]
  },
  {
   "cell_type": "code",
   "execution_count": null,
   "metadata": {
    "collapsed": true
   },
   "outputs": [],
   "source": [
    "conjunto = list(range(1,10))\n",
    "print(conjunto)"
   ]
  },
  {
   "cell_type": "markdown",
   "metadata": {},
   "source": [
    "Consulte a [documentação oficial](https://docs.python.org/3/library/stdtypes.html#range) para ver outras formas de usar a função range."
   ]
  },
  {
   "cell_type": "markdown",
   "metadata": {},
   "source": [
    "### Outros exemplos com o for"
   ]
  },
  {
   "cell_type": "markdown",
   "metadata": {},
   "source": [
    "Imprimindo uma palavra 10 vezes"
   ]
  },
  {
   "cell_type": "code",
   "execution_count": 8,
   "metadata": {},
   "outputs": [
    {
     "name": "stdout",
     "output_type": "stream",
     "text": [
      "Python\n",
      "Python\n",
      "Python\n",
      "Python\n",
      "Python\n",
      "Python\n",
      "Python\n",
      "Python\n",
      "Python\n",
      "Python\n"
     ]
    }
   ],
   "source": [
    "for i in range(10):\n",
    "    print(\"Python\")"
   ]
  },
  {
   "cell_type": "markdown",
   "metadata": {},
   "source": [
    "Pedindo ao usuário que digite um número 3 vezes"
   ]
  },
  {
   "cell_type": "code",
   "execution_count": 2,
   "metadata": {},
   "outputs": [
    {
     "name": "stdout",
     "output_type": "stream",
     "text": [
      "Digite um nome: d\n",
      "O nome digitado foi: d\n",
      "Digite um nome: \n",
      "O nome digitado foi: \n",
      "Digite um nome: f\n",
      "O nome digitado foi: f\n"
     ]
    }
   ],
   "source": [
    "for i in range(3):\n",
    "    nome = input(\"Digite um nome: \")\n",
    "    print(\"O nome digitado foi:\", nome)"
   ]
  },
  {
   "cell_type": "markdown",
   "metadata": {},
   "source": [
    "Imprimindo todas as letras de uma string"
   ]
  },
  {
   "cell_type": "code",
   "execution_count": 3,
   "metadata": {},
   "outputs": [
    {
     "name": "stdout",
     "output_type": "stream",
     "text": [
      "P\n",
      "y\n",
      "t\n",
      "h\n",
      "o\n",
      "n\n"
     ]
    }
   ],
   "source": [
    "for letra in \"Python\":\n",
    "    print(letra)"
   ]
  },
  {
   "cell_type": "markdown",
   "metadata": {},
   "source": [
    "Colocando as letras de uma string em uma pilha e invertendo a palavra"
   ]
  },
  {
   "cell_type": "code",
   "execution_count": 7,
   "metadata": {},
   "outputs": [
    {
     "name": "stdout",
     "output_type": "stream",
     "text": [
      "n\n",
      "o\n",
      "h\n",
      "t\n",
      "y\n",
      "P\n"
     ]
    }
   ],
   "source": [
    "pilha = []\n",
    "\n",
    "for letra in \"Python\":\n",
    "    pilha.append(letra)\n",
    "\n",
    "for i in range(0,len(pilha)):\n",
    "    print(pilha.pop())"
   ]
  },
  {
   "cell_type": "markdown",
   "metadata": {},
   "source": [
    "## Estruturas de Repetição: While"
   ]
  },
  {
   "cell_type": "markdown",
   "metadata": {},
   "source": [
    "Outra estrutura de repetição bastante conhecida nas linguagens de programação é o while (enquanto). A ideia básica do while é:"
   ]
  },
  {
   "cell_type": "markdown",
   "metadata": {},
   "source": [
    "```\n",
    "enquanto (condição):\n",
    "    execute instrução 1\n",
    "    execute instrução 2\n",
    "    ...\n",
    "```"
   ]
  },
  {
   "cell_type": "markdown",
   "metadata": {},
   "source": [
    "Diferente do *for*, que usa um conjunto de valores para fazer iteração, o *while* usa uma condição booleana para decidir se continua a repetir as instruções. Vamos a um exemplo:"
   ]
  },
  {
   "cell_type": "code",
   "execution_count": null,
   "metadata": {
    "collapsed": true
   },
   "outputs": [],
   "source": [
    "repeticoes = 10\n",
    "i = 1\n",
    "while i<=repeticoes:\n",
    "    print(\"Rodada número\",i)\n",
    "    i = i + 1"
   ]
  },
  {
   "cell_type": "markdown",
   "metadata": {},
   "source": [
    "A linha *while i<=repeticoes* quer dizer: \"enquanto i for menor ou igual a repetições faça\". Note que a comparação de i com repetições só pode retornar dois valores possíveis: True ou False, que é justamente o resultado de uma expressão booleana. "
   ]
  },
  {
   "cell_type": "markdown",
   "metadata": {},
   "source": [
    "Um exemplo clássico de uso do *while* é a criação de repetições para o usuário digitar diversos valores. Veja um exemplo:"
   ]
  },
  {
   "cell_type": "code",
   "execution_count": null,
   "metadata": {
    "collapsed": true
   },
   "outputs": [],
   "source": [
    "numero = int(input(\"Quantas notas serão digitadas?\"))\n",
    "notas = []\n",
    "\n",
    "while numero>0:\n",
    "    nota = int(input(\"Digite a nota:\"))\n",
    "    notas.append(nota)\n",
    "    numero = numero - 1\n",
    "\n",
    "print(\"Foram digitadas {} notas\".format(len(notas)))"
   ]
  },
  {
   "cell_type": "markdown",
   "metadata": {},
   "source": [
    "Veja que a instrução pedindo para digitar a nota será repetida de acordo com o número de notas que o usuário disse que vai digitar. Existem formas diferentes de fazer o programa acima, inclusive sem indicar previamente o número de notas que serão digitadas. Como você faria? Implemente sua solução no exercício 5."
   ]
  },
  {
   "cell_type": "markdown",
   "metadata": {},
   "source": [
    "### Outros exemplos com o While"
   ]
  },
  {
   "cell_type": "markdown",
   "metadata": {},
   "source": [
    "Uma repetição com break, dependendo da resposta do usuário"
   ]
  },
  {
   "cell_type": "code",
   "execution_count": 15,
   "metadata": {},
   "outputs": [
    {
     "name": "stdout",
     "output_type": "stream",
     "text": [
      "Só vai parar se digitar a letra a4\n",
      "Só vai parar se digitar a letra aa\n"
     ]
    }
   ],
   "source": [
    "while True:\n",
    "    letra = input(\"Só vai parar se digitar a letra a\")\n",
    "    if letra==\"a\":\n",
    "        break"
   ]
  },
  {
   "cell_type": "markdown",
   "metadata": {},
   "source": [
    "Imprimindo uma palavra n vezes"
   ]
  },
  {
   "cell_type": "code",
   "execution_count": 12,
   "metadata": {},
   "outputs": [
    {
     "name": "stdout",
     "output_type": "stream",
     "text": [
      "Python\n",
      "Python\n",
      "Python\n",
      "Python\n",
      "Python\n",
      "Python\n",
      "Python\n",
      "Python\n",
      "Python\n",
      "Python\n"
     ]
    }
   ],
   "source": [
    "contador = 10\n",
    "palavra = \"Python\"\n",
    "\n",
    "while contador>0:\n",
    "    print(palavra)\n",
    "    contador-=1"
   ]
  },
  {
   "cell_type": "markdown",
   "metadata": {},
   "source": [
    "Imprimindo as letras de uma palavra"
   ]
  },
  {
   "cell_type": "code",
   "execution_count": 17,
   "metadata": {},
   "outputs": [
    {
     "name": "stdout",
     "output_type": "stream",
     "text": [
      "P\n",
      "y\n",
      "t\n",
      "h\n",
      "o\n",
      "n\n"
     ]
    }
   ],
   "source": [
    "i = 0\n",
    "palavra = \"Python\"\n",
    "\n",
    "while i<len(palavra):\n",
    "    print(palavra[i])\n",
    "    i+=1"
   ]
  },
  {
   "cell_type": "markdown",
   "metadata": {},
   "source": [
    "## Interrompendo uma repetição"
   ]
  },
  {
   "cell_type": "markdown",
   "metadata": {},
   "source": [
    "Uma repetição é basicamente interrompida de duas formas:\n",
    "\n",
    "- Esgotou-se o número de itens no conjunto ou a condição de continuidade é falsa\n",
    "- Força-se uma interrupção"
   ]
  },
  {
   "cell_type": "markdown",
   "metadata": {},
   "source": [
    "No caso de um *for*, quando o número de itens do conjunto for completamente processado, então a repetição será interrompida. Já no caso do *while*, basta a condição de continuidade não ser mais atendida e a repetição parará. Veja dois exemplos:"
   ]
  },
  {
   "cell_type": "code",
   "execution_count": 13,
   "metadata": {},
   "outputs": [
    {
     "name": "stdout",
     "output_type": "stream",
     "text": [
      "Python com for\n",
      "Python com for\n",
      "Python com for\n",
      "Python com for\n"
     ]
    }
   ],
   "source": [
    "# o for parará quando os itens forem processados. Ou seja, terminará quando processar os valores 1, 2, 3 e 4\n",
    "for i in (1,2,3,4):\n",
    "    print(\"Python com for\")"
   ]
  },
  {
   "cell_type": "markdown",
   "metadata": {},
   "source": [
    "Repare que no exemplo acima o *for* irá terminar depois que executar a instrução para:\n",
    "- i = 1\n",
    "- i = 2\n",
    "- i = 3\n",
    "- i = 4"
   ]
  },
  {
   "cell_type": "code",
   "execution_count": null,
   "metadata": {
    "collapsed": true
   },
   "outputs": [],
   "source": [
    "# no caso do while, basta a condição ser invalidada\n",
    "i = 0\n",
    "while i<10:\n",
    "    print(\"Python com while\")\n",
    "    i = i + 1"
   ]
  },
  {
   "cell_type": "markdown",
   "metadata": {},
   "source": [
    "No exemplo com *while*, a repetição irá terminar depois que i for maior do que 10. "
   ]
  },
  {
   "cell_type": "markdown",
   "metadata": {},
   "source": [
    "### Usando break"
   ]
  },
  {
   "cell_type": "markdown",
   "metadata": {},
   "source": [
    "Além do fluxo normal dos laços de repetição, pode-se interromper a execução de uma repetição com o uso da palavra break. Essa instrução basicamente encerra a execução e não haverá mais repetições de instruções. Veja um exemplo:"
   ]
  },
  {
   "cell_type": "code",
   "execution_count": null,
   "metadata": {
    "collapsed": true
   },
   "outputs": [],
   "source": [
    "cores = (\"azul\", \"amarelo\", \"verde\")\n",
    "\n",
    "for cor in cores:\n",
    "    print(\"Lendo\", cor)\n",
    "    if cor==\"amarelo\":\n",
    "        print(\"Cor achada!\")\n",
    "        break"
   ]
  },
  {
   "cell_type": "markdown",
   "metadata": {},
   "source": [
    "Note que estávamos procurando uma cor dentro de um conjunto de cores. Quando essa cor foi achada, não faria sentido continuar a procurar. Por isso usamos o *break* e encerramos a repetição quando a cor amarelo foi achada. \n",
    "\n",
    "Agora veja um exemplo com *while*:"
   ]
  },
  {
   "cell_type": "code",
   "execution_count": null,
   "metadata": {
    "collapsed": true
   },
   "outputs": [],
   "source": [
    "cores = (\"azul\", \"amarelo\", \"verde\")\n",
    "i = 0\n",
    "\n",
    "while True:\n",
    "    print(\"Lendo\", cores[i])\n",
    "    i = i + 1\n",
    "    if cor==\"amarelo\":\n",
    "        print(\"Cor achada!\")\n",
    "        break"
   ]
  },
  {
   "cell_type": "markdown",
   "metadata": {},
   "source": [
    "## Exercícios"
   ]
  },
  {
   "cell_type": "markdown",
   "metadata": {},
   "source": [
    "** Ex 1: Implemente o exemplo do aumento de salário usando um for e os valores do salário como um conjunto**"
   ]
  },
  {
   "cell_type": "code",
   "execution_count": null,
   "metadata": {
    "collapsed": true
   },
   "outputs": [],
   "source": [
    "# Implemente sua solução aqui TESTE"
   ]
  },
  {
   "cell_type": "markdown",
   "metadata": {},
   "source": [
    "** Ex 2: Faça o mesmo exemplo do exercício 1, dessa vez usando while**"
   ]
  },
  {
   "cell_type": "code",
   "execution_count": null,
   "metadata": {
    "collapsed": true
   },
   "outputs": [],
   "source": [
    "# Implemente sua solução aqui"
   ]
  },
  {
   "cell_type": "markdown",
   "metadata": {},
   "source": [
    "** Ex 3: Usando a pilha de notas fornecida abaixo, calcule:**\n",
    "\n",
    "- A média das notas\n",
    "- A maior nota\n",
    "- A menor nota\n",
    "\n",
    "**Sua solução deve usar for/while e também if.**"
   ]
  },
  {
   "cell_type": "code",
   "execution_count": null,
   "metadata": {
    "collapsed": true
   },
   "outputs": [],
   "source": [
    "# Implemente sua solução aqui\n",
    "notas = [8, 5, 7, 9]"
   ]
  },
  {
   "cell_type": "markdown",
   "metadata": {},
   "source": [
    "** Ex 4: Implemente uma solução para que, dado um número x digitado pelo usuário, o sistema imprima \"Python\" x vezes.**"
   ]
  },
  {
   "cell_type": "code",
   "execution_count": null,
   "metadata": {
    "collapsed": true
   },
   "outputs": [],
   "source": [
    "# Implemente sua solução aqui\n"
   ]
  },
  {
   "cell_type": "markdown",
   "metadata": {},
   "source": [
    "** Ex 5: Dado o exemplo de digitação de notas dado anteriormente, faça modificações de modo que o usuário não precise indicar o número de notas previamente. Ou seja, ele não precisará indicar que digitará 3 ou 4 notas.**"
   ]
  },
  {
   "cell_type": "code",
   "execution_count": null,
   "metadata": {
    "collapsed": true
   },
   "outputs": [],
   "source": [
    "# Implemente sua solução aqui"
   ]
  },
  {
   "cell_type": "markdown",
   "metadata": {},
   "source": [
    "** Ex 6: Implemente o cálculo de fatorial usando estruturas de repetição.**"
   ]
  },
  {
   "cell_type": "code",
   "execution_count": null,
   "metadata": {
    "collapsed": true
   },
   "outputs": [],
   "source": [
    "# Implemente sua solução aqui"
   ]
  },
  {
   "cell_type": "markdown",
   "metadata": {},
   "source": [
    "** Ex 7: No código abaixo, é implementada inicialmente a leitura de um CSV (medalhas olímpicas) usando o módulo Pandas. Continue a implementação para que seu código conte quantas medalhas de prata o Brasil tem no total. Sua solução não deve usar as funções prontas do módulo pandas. **"
   ]
  },
  {
   "cell_type": "code",
   "execution_count": null,
   "metadata": {
    "collapsed": true
   },
   "outputs": [],
   "source": [
    "# Implemente sua solução aqui\n",
    "import pandas as pd\n",
    "data = pd.read_csv('http://winterolympicsmedals.com/medals.csv')\n",
    "\n",
    "# a linha abaixo vai imprimir uma tabela formatada\n",
    "data\n",
    "\n",
    "#para acessar uma coluna específica\n",
    "data.NOC\n"
   ]
  },
  {
   "cell_type": "markdown",
   "metadata": {},
   "source": [
    "** Ex 8: No trecho de código abaixo, é baixada uma lista de países classificados pelo IDH em 2015 ([link](http://www.br.undp.org/content/brazil/pt/home/idh0/rankings/idh-global.html)). Sua tarefa é continuar a implementação de modo que seja impressa a posição do Brasil nesse ranking. Dica: para ler cada linha do arquivo baixado, você poderia usar o método readlines. **"
   ]
  },
  {
   "cell_type": "code",
   "execution_count": null,
   "metadata": {
    "collapsed": true
   },
   "outputs": [],
   "source": [
    "# Implemente sua solução aqui\n",
    "import urllib.request\n",
    "\n",
    "arquivo  = urllib.request.urlopen('http://www.fernandoxavier.com.br/idh_2015.txt')\n",
    "\n"
   ]
  },
  {
   "cell_type": "markdown",
   "metadata": {},
   "source": [
    "** Ex 9: O trecho de código abaixo faz o download do CSV dos endereços escolares do DF, a partir do portal de [dados abertos do Distrito Federal](http://dados.df.gov.br). Continue a implementação para percorrer os dados baixados, linha por linha, e mostrando os nomes das escolas. Dicas: (1) baixe o CSV manualmente e veja a estrutura dele; (2) Consulte o módulo de processamento CSV do Python ou o módulo Pandas**"
   ]
  },
  {
   "cell_type": "code",
   "execution_count": null,
   "metadata": {
    "collapsed": true
   },
   "outputs": [],
   "source": [
    "# Implemente sua solução aqui\n",
    "import urllib.request\n",
    "\n",
    "arquivo  = urllib.request.urlopen('http://dados.df.gov.br/dataset/0c6315c3-9b77-40b6-819a-03d170ca470a/resource/75cf998f-2f8f-44e1-9a5e-08052f1cd8bb/download/201801212201enderecos.csv')\n"
   ]
  }
 ],
 "metadata": {
  "kernelspec": {
   "display_name": "Python 3",
   "language": "python",
   "name": "python3"
  },
  "language_info": {
   "codemirror_mode": {
    "name": "ipython",
    "version": 3
   },
   "file_extension": ".py",
   "mimetype": "text/x-python",
   "name": "python",
   "nbconvert_exporter": "python",
   "pygments_lexer": "ipython3",
   "version": "3.6.4"
  }
 },
 "nbformat": 4,
 "nbformat_minor": 2
}
