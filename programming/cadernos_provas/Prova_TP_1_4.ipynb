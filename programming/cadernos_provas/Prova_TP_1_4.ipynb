{
 "cells": [
  {
   "cell_type": "markdown",
   "metadata": {},
   "source": [
    "Questão 1: Considerando o programa abaixo e sabendo que o usuário digitou 4 e 8 (nessa ordem), preencha no campo resposta o valor final da variável total:"
   ]
  },
  {
   "cell_type": "code",
   "execution_count": 1,
   "metadata": {},
   "outputs": [
    {
     "name": "stdout",
     "output_type": "stream",
     "text": [
      "Digite um número4\n",
      "Digite outro número8\n",
      "O novo número é  10.0\n"
     ]
    }
   ],
   "source": [
    "num1 = int(input(\"Digite um número\"))\n",
    "num2 = int(input(\"Digite outro número\"))\n",
    "\n",
    "total = num2 + num1/2\n",
    "\n",
    "print(\"O novo número é \", total)"
   ]
  },
  {
   "cell_type": "markdown",
   "metadata": {},
   "source": [
    "Questão 2: Considerando o programa abaixo e sabendo que o usuário digitou 150 e 30 (nessa ordem), o que seria impresso na ordem exata de execução?"
   ]
  },
  {
   "cell_type": "code",
   "execution_count": 2,
   "metadata": {},
   "outputs": [
    {
     "name": "stdout",
     "output_type": "stream",
     "text": [
      "Digite o valor do salário150\n",
      "Digite o percentual de aumento30\n",
      "195.0\n",
      "150.0\n"
     ]
    }
   ],
   "source": [
    "salario = float(input(\"Digite o valor do salário\"))\n",
    "aumento = float(input(\"Digite o percentual de aumento\"))\n",
    "\n",
    "novoSalario = salario*(1+aumento/100)\n",
    "\n",
    "print(novoSalario)\n",
    "print(salario)"
   ]
  },
  {
   "cell_type": "markdown",
   "metadata": {},
   "source": [
    "Questão 3: O programa abaixo foi executado diversas vezes e, após o usuário digitar um valor, o programa imprimiu a situação do aluno. Para cada valor digitado, coloque do lado a situação do aluno (“Reprovado”, “Recuperação” ou “Aprovado”):"
   ]
  },
  {
   "cell_type": "code",
   "execution_count": 8,
   "metadata": {},
   "outputs": [
    {
     "name": "stdout",
     "output_type": "stream",
     "text": [
      "Qual a média do aluno?2\n",
      "Reprovado\n"
     ]
    }
   ],
   "source": [
    "media = float(input(\"Qual a média do aluno?\"))\n",
    "\n",
    "if 0 < media <=5:\n",
    "    print(\"Reprovado\")\n",
    "else:\n",
    "    if 5 < media < 6:\n",
    "        print(\"Recuperação\")\n",
    "    else:\n",
    "        print(\"Aprovado\")"
   ]
  },
  {
   "cell_type": "markdown",
   "metadata": {},
   "source": [
    "| Valor Digitado | Situação |\n",
    "| --- |--- |\n",
    "| -4 | Aprovado |\n",
    "| 8 | Aprovado |\n",
    "| 6 | Aprovado  |\n",
    "| 4 | Reprovado|\n",
    "| 2 | Reprovado |"
   ]
  },
  {
   "cell_type": "markdown",
   "metadata": {},
   "source": [
    "Questão 4: Para cada execução do programa abaixo, indique na tabela os valores finais das variáveis precoA e precoB:"
   ]
  },
  {
   "cell_type": "code",
   "execution_count": 13,
   "metadata": {},
   "outputs": [
    {
     "name": "stdout",
     "output_type": "stream",
     "text": [
      "Digite o valor do produto 1300\n",
      "Digite o valor do produto 2150\n",
      "300\n",
      "300\n"
     ]
    }
   ],
   "source": [
    "precoA = int(input(\"Digite o valor do produto 1\"))\n",
    "precoB = int(input(\"Digite o valor do produto 2\"))\n",
    "\n",
    "if precoA>precoB:\n",
    "    precoB = precoB*2\n",
    "else:\n",
    "    if precoA==precoB:\n",
    "        precoB = precoB*1.5\n",
    "    else:\n",
    "        precoA = precoB*2 + 10\n",
    "\n",
    "print(precoA)\n",
    "print(precoB)"
   ]
  },
  {
   "cell_type": "markdown",
   "metadata": {},
   "source": [
    "| Valor Digitado 1 | Valor Digitado 2 | precoA | precoB\n",
    "| --- |--- | --- |--- |\n",
    "| 80 | 90 |   |   |\n",
    "| 20 | 4 |  |  |\n",
    "| 30 | 30 |  |    |\n",
    "| 50 | 20 |  |   |\n",
    "| 300 | 150 |  |  |"
   ]
  },
  {
   "cell_type": "markdown",
   "metadata": {},
   "source": [
    "Questão 5: Ao executar o programa abaixo, qual é a média final do aluno?"
   ]
  },
  {
   "cell_type": "code",
   "execution_count": 14,
   "metadata": {},
   "outputs": [
    {
     "name": "stdout",
     "output_type": "stream",
     "text": [
      "Média 8.0\n"
     ]
    }
   ],
   "source": [
    "notas = (3,8,5,6)\n",
    "soma = 10\n",
    "for nota in notas:\n",
    "    soma = soma + nota\n",
    "print(\"Média\", soma/4)"
   ]
  },
  {
   "cell_type": "markdown",
   "metadata": {},
   "source": [
    "Questão 6: Ao executar o programa abaixo, o usuário digitou 3 e 5 (nessa ordem). Qual será o valor final da variável c?"
   ]
  },
  {
   "cell_type": "code",
   "execution_count": 15,
   "metadata": {},
   "outputs": [
    {
     "name": "stdout",
     "output_type": "stream",
     "text": [
      "Digite a primeira nota3\n",
      "Digite a primeira nota5\n",
      "9\n"
     ]
    }
   ],
   "source": [
    "a = int(input(\"Digite a primeira nota\"))\n",
    "b = int(input(\"Digite a primeira nota\"))\n",
    "c = 0\n",
    "\n",
    "if a>b:\n",
    "    c = a*b+1\n",
    "elif a<b:\n",
    "    c = a**2\n",
    "if a>b or a==b:\n",
    "    c = b\n",
    "    \n",
    "print(c)"
   ]
  },
  {
   "cell_type": "markdown",
   "metadata": {},
   "source": [
    "Questão 7: Um usuário pretendia digitar os números 3,3,1,2,2,1,-2,1,2,3,1,2,0, mas o programa encerrou antes que ele digitasse todos os valores. Qual foi o último valor digitado?"
   ]
  },
  {
   "cell_type": "code",
   "execution_count": 16,
   "metadata": {},
   "outputs": [
    {
     "name": "stdout",
     "output_type": "stream",
     "text": [
      "Digite um número de 1 a 103\n",
      "Digite um número de 1 a 103\n",
      "Digite um número de 1 a 101\n",
      "Digite um número de 1 a 102\n",
      "Digite um número de 1 a 102\n",
      "2.75\n"
     ]
    }
   ],
   "source": [
    "soma = 0\n",
    "rodadas = 10\n",
    "num = 0\n",
    "while soma <= rodadas:\n",
    "    num = int(input(\"Digite um número de 1 a 10\"))\n",
    "    soma = soma + num\n",
    "    if soma > 20:\n",
    "        break\n",
    "print(soma/4)"
   ]
  },
  {
   "cell_type": "markdown",
   "metadata": {},
   "source": [
    "Questão 8: Ao executar o programa abaixo, qual será o valor final da variável mediaFinal:"
   ]
  },
  {
   "cell_type": "code",
   "execution_count": 17,
   "metadata": {},
   "outputs": [
    {
     "name": "stdout",
     "output_type": "stream",
     "text": [
      "3.0\n"
     ]
    }
   ],
   "source": [
    "notas = (7,5,3,2)\n",
    "mediaFinal = 0\n",
    "soma = 0\n",
    "\n",
    "for i in notas:\n",
    "    if i < 4:\n",
    "        mediaFinal = 0\n",
    "    else:\n",
    "        soma = soma + i\n",
    "\n",
    "mediaFinal = soma / 4\n",
    "print(mediaFinal)"
   ]
  },
  {
   "cell_type": "markdown",
   "metadata": {},
   "source": [
    "Questão 9: Lhe foi solicitado que implemente um programa para cálculo de novos salários de acordo com a seguinte regra: se o salário estiver abaixo de 3000, será aplicado 50% de aumento. Caso o salário seja igual ou acima de 3000, o percentual a ser aplicado será de 20%. Continue  implementação abaixo desse programa considerando os requisitos acima, sabendo que você só precisa implementar de 2 a 4 linhas para o cálculo e mais uma/duas para imprimir o novo valor de cada salário."
   ]
  },
  {
   "cell_type": "code",
   "execution_count": 18,
   "metadata": {},
   "outputs": [
    {
     "name": "stdout",
     "output_type": "stream",
     "text": [
      "1500.0\n",
      "3750.0\n",
      "6000.0\n",
      "4800.0\n",
      "3600.0\n"
     ]
    }
   ],
   "source": [
    "salarios = (1000,2500,5000,4000,3000)\n",
    "percentual1 = 1.20\n",
    "percentual2 = 1.5\n",
    "\n",
    "for salario in salarios:\n",
    "    if salario<3000:\n",
    "        print(salario*percentual2)\n",
    "    else:\n",
    "        print(salario*percentual1)"
   ]
  }
 ],
 "metadata": {
  "kernelspec": {
   "display_name": "Python 3",
   "language": "python",
   "name": "python3"
  },
  "language_info": {
   "codemirror_mode": {
    "name": "ipython",
    "version": 3
   },
   "file_extension": ".py",
   "mimetype": "text/x-python",
   "name": "python",
   "nbconvert_exporter": "python",
   "pygments_lexer": "ipython3",
   "version": "3.6.1"
  }
 },
 "nbformat": 4,
 "nbformat_minor": 2
}
