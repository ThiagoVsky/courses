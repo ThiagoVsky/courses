{
 "cells": [
  {
   "cell_type": "markdown",
   "metadata": {},
   "source": [
    "### Nota do professor: as implementações abaixo são algumas possíveis soluções para os exercícios apresentados. Caso tenha outras, esteja a vontade para implementar :-)"
   ]
  },
  {
   "cell_type": "markdown",
   "metadata": {},
   "source": [
    "## Técnicas de Programação"
   ]
  },
  {
   "cell_type": "markdown",
   "metadata": {},
   "source": [
    "Escreva um programa que receba dois números digitados pelo usuário e informe se são iguais."
   ]
  },
  {
   "cell_type": "code",
   "execution_count": null,
   "metadata": {},
   "outputs": [],
   "source": [
    "numero1 = int(input(\"Digite um número\"))\n",
    "numero2 = int(input(\"Digite um número\"))\n",
    "\n",
    "if numero1==numero2:\n",
    "    print(\"São iguais\")\n",
    "else:\n",
    "    print(\"Não são iguais\")\n"
   ]
  },
  {
   "cell_type": "code",
   "execution_count": null,
   "metadata": {},
   "outputs": [],
   "source": [
    "if (int(input(\"Digite um número\"))==int(input(\"Digite um número\"))):\n",
    "    print(\"São iguais\")\n",
    "else:\n",
    "    print(\"Não são iguais\")"
   ]
  },
  {
   "cell_type": "markdown",
   "metadata": {},
   "source": [
    "Escreva um programa que informe se um número digitado pelo usuário é múltiplo de 17."
   ]
  },
  {
   "cell_type": "code",
   "execution_count": null,
   "metadata": {},
   "outputs": [],
   "source": [
    "numero = int(input(\"Digite um número: \"))\n",
    "\n",
    "if numero % 17 == 0:\n",
    "    print(\"É mmúltiplo de 17\")\n",
    "else:\n",
    "    print(\"Não é mmúltiplo de 17\")"
   ]
  },
  {
   "cell_type": "code",
   "execution_count": null,
   "metadata": {},
   "outputs": [],
   "source": [
    "#com tratamento de exceção\n",
    "\n",
    "try:\n",
    "    numero = int(input(\"Digite um número: \"))\n",
    "\n",
    "    if numero % 17 == 0:\n",
    "        print(\"É mmúltiplo de 17\")\n",
    "    else:\n",
    "        print(\"Não é mmúltiplo de 17\")\n",
    "except:\n",
    "    print(\"Erro ao ler o número\")"
   ]
  },
  {
   "cell_type": "markdown",
   "metadata": {},
   "source": [
    "Implemente uma solução para que seja impressa a palavra \"Python\" 10 vezes usando while."
   ]
  },
  {
   "cell_type": "code",
   "execution_count": null,
   "metadata": {},
   "outputs": [],
   "source": [
    "i = 10\n",
    "\n",
    "while i>0:\n",
    "    print(\"Python\")\n",
    "    i-=1"
   ]
  },
  {
   "cell_type": "markdown",
   "metadata": {},
   "source": [
    "Faça o mesmo exercício anterior, dessa vez usando for."
   ]
  },
  {
   "cell_type": "code",
   "execution_count": null,
   "metadata": {},
   "outputs": [],
   "source": [
    "for i in range(10):\n",
    "    print(\"Python\")"
   ]
  },
  {
   "cell_type": "markdown",
   "metadata": {},
   "source": [
    "Implemente um programa que imprima todos os números positivos menores do que o um número que o usuário digitar. Se o usuário digitar 10, seu programa deverá imprimir 9,8,7,6,5,4,3,2,1."
   ]
  },
  {
   "cell_type": "code",
   "execution_count": null,
   "metadata": {},
   "outputs": [],
   "source": [
    "numero = int(input(\"Digite um número: \"))\n",
    "\n",
    "while numero>1:\n",
    "    numero -=1\n",
    "    print(numero)"
   ]
  },
  {
   "cell_type": "markdown",
   "metadata": {},
   "source": [
    "Dado o conjunto de valores abaixo, implemente um programa que imprima o valor de cada número elevado ao quadrado."
   ]
  },
  {
   "cell_type": "code",
   "execution_count": null,
   "metadata": {},
   "outputs": [],
   "source": [
    "numeros= (2,3,6,10,20)\n",
    "\n",
    "for numero in numeros:\n",
    "    print(numero**2)"
   ]
  },
  {
   "cell_type": "markdown",
   "metadata": {},
   "source": [
    "Uma empresa deseja criar um programa que calcule o aumento do salário de seus funcionários, de acordo com as seguintes regras:\n",
    "\n",
    "- Caso salário esteja entre 0 e 1500 (inclusive), o salário será aumentado em 25%. \n",
    "- Caso o salário esteja entre 1500 e 4500 (inclusive), o salário será reajustado em 20%\n",
    "- Caso o salário seja maior do que 4500, o salário será aumentado em 15%"
   ]
  },
  {
   "cell_type": "code",
   "execution_count": null,
   "metadata": {},
   "outputs": [],
   "source": [
    "vencimentos = (1000,1200,900,4000,2000,3000,8000)\n",
    "\n",
    "for salario in vencimentos:\n",
    "    if 0<=salario<=1500:\n",
    "        print(\"Salario de {} foi aumentado para {} \".format(salario,salario*1.25))\n",
    "    elif 1500<salario<=4500:\n",
    "        print(\"Salario de {} foi aumentado para {} \".format(salario,salario*1.20))\n",
    "    else:\n",
    "        print(\"Salario de {} foi aumentado para {} \".format(salario,salario*1.15))"
   ]
  },
  {
   "cell_type": "markdown",
   "metadata": {},
   "source": [
    "Crie um programa que, dado um número digitado por um usuário, imprima a tabuada até 10."
   ]
  },
  {
   "cell_type": "code",
   "execution_count": null,
   "metadata": {},
   "outputs": [],
   "source": [
    "numero = int(input(\"Digite um número: \"))\n",
    "\n",
    "for i in range(1,11):\n",
    "    print(\"{} x {} = {} \".format(numero, i, numero*i))"
   ]
  },
  {
   "cell_type": "markdown",
   "metadata": {},
   "source": [
    "Crie um programa que peça ao usuário que digite um número e fique perguntando até o usuário acertar o número sorteado ou o programa esgotar as 5 tentativas. O código abaixo é um exemplo para sorteio de um número até 10."
   ]
  },
  {
   "cell_type": "code",
   "execution_count": null,
   "metadata": {},
   "outputs": [],
   "source": [
    "import random \n",
    "\n",
    "numeroSorteado = random.randrange(10)\n",
    "\n",
    "while True:\n",
    "    numeroEscolhido = int(input(\"Escolha um número:\"))\n",
    "    if (numeroEscolhido==numeroSorteado):\n",
    "        print(\"Parabéns!!!\")\n",
    "        break\n",
    "    else:\n",
    "        print(\"Tente de novo...\")"
   ]
  },
  {
   "cell_type": "markdown",
   "metadata": {},
   "source": [
    "Escreva um programa que imprima um triângulo de acordo com um número de linhas, a ser digitado pelo usuário. A saída seria algo assim (para 5 linhas):\n",
    "\n",
    "```\n",
    "*\n",
    "**\n",
    "***\n",
    "****\n",
    "*****\n",
    "```"
   ]
  },
  {
   "cell_type": "code",
   "execution_count": null,
   "metadata": {},
   "outputs": [],
   "source": [
    "numero = int(input(\"Digite um número: \"))\n",
    "\n",
    "for i in range(1,(numero+1)):\n",
    "    saida = \"\"\n",
    "    for j in range(1,i+1):\n",
    "        saida += \"* \"\n",
    "    print(saida)"
   ]
  },
  {
   "cell_type": "markdown",
   "metadata": {},
   "source": [
    "## Estruturas de Dados"
   ]
  },
  {
   "cell_type": "markdown",
   "metadata": {},
   "source": [
    "Crie um programa que gere uma pilha com 3 notas (8, 5, 6), usando operações de push. Ao final, seu programa deverá imprimir os valores inseridos, usando operações de pop."
   ]
  },
  {
   "cell_type": "code",
   "execution_count": null,
   "metadata": {},
   "outputs": [],
   "source": [
    "notas = []\n",
    "\n",
    "notas.append(8)\n",
    "notas.append(5)\n",
    "notas.append(6)\n",
    "\n",
    "print(notas.pop())\n",
    "print(notas.pop())\n",
    "print(notas.pop())"
   ]
  },
  {
   "cell_type": "code",
   "execution_count": null,
   "metadata": {},
   "outputs": [],
   "source": [
    "notas = []\n",
    "\n",
    "for i in (8,5,6):\n",
    "    notas.append(i)\n",
    "\n",
    "for nota in notas:\n",
    "    print(nota)\n"
   ]
  },
  {
   "cell_type": "markdown",
   "metadata": {},
   "source": [
    "Modifique o programa anterior para que peça ao usuário que digite as 3 notas. Pesquise a função [input](https://docs.python.org/3/library/functions.html#input) para saber como executar a leitura de dados do teclado. "
   ]
  },
  {
   "cell_type": "code",
   "execution_count": null,
   "metadata": {},
   "outputs": [],
   "source": [
    "notas = []\n",
    "\n",
    "for i in range(3):\n",
    "    notas.append(input(\"Digite uma nota: \"))\n",
    "\n",
    "for nota in notas:\n",
    "    print(nota)"
   ]
  },
  {
   "cell_type": "markdown",
   "metadata": {},
   "source": [
    "Crie um programa que dada, a pilha de notas do exemplo acima, informe a menor nota e a maior."
   ]
  },
  {
   "cell_type": "code",
   "execution_count": null,
   "metadata": {},
   "outputs": [],
   "source": [
    "notas = []\n",
    "\n",
    "for i in range(3):\n",
    "    notas.append(input(\"Digite uma nota: \"))\n",
    "\n",
    "maior = notas[0] \n",
    "menor = notas[0]\n",
    "    \n",
    "for nota in notas:\n",
    "    if nota>maior:\n",
    "        maior = nota\n",
    "    if nota<menor:\n",
    "        menor = nota\n",
    "    \n",
    "print(\"Maior: {} ; Menor: {} \".format(maior, menor))    "
   ]
  },
  {
   "cell_type": "markdown",
   "metadata": {},
   "source": [
    "Considerando a lista de valores abaixo, implemente a inserção de um novo valor na 5 posição."
   ]
  },
  {
   "cell_type": "code",
   "execution_count": null,
   "metadata": {},
   "outputs": [],
   "source": [
    "linguagens = [\"C++\", \"PHP\", \"R\", \"Java\", \"Lua\", \"C\", \"Basic\", \"Cobol\"]\n",
    "linguagens.insert(5, \"Python\")\n",
    "print(linguagens)"
   ]
  },
  {
   "cell_type": "markdown",
   "metadata": {},
   "source": [
    "Usando a mesma lista do exercício anterior, implemente um código que peça ao usuário que digite um nome de linguagem de programação. Caso esse nome exista na lista, o seu código deverá informar a posição dele na lista."
   ]
  },
  {
   "cell_type": "code",
   "execution_count": null,
   "metadata": {},
   "outputs": [],
   "source": [
    "linguagens = [\"C++\", \"PHP\", \"R\", \"Java\", \"Lua\", \"C\", \"Basic\", \"Cobol\"]\n",
    "\n",
    "linguagem = input(\"Digite o nome de uma linguagem: \")\n",
    "\n",
    "posicao = 0\n",
    "\n",
    "try:\n",
    "    posicao = linguagens.index(linguagem)\n",
    "except:\n",
    "    posicao = -1\n",
    "\n",
    "if posicao<0:\n",
    "    print(\"A linguagem não está na lista\")\n",
    "else:\n",
    "    print(\"A linguagem está na posição {} da lista\".format(posicao))"
   ]
  },
  {
   "cell_type": "markdown",
   "metadata": {},
   "source": [
    "Crie um programa que peça ao usuário que digite dois números e a operação que deseja executar. Após a digitação dos valores e do operador, deverá ser impresso o resultado da operação."
   ]
  },
  {
   "cell_type": "code",
   "execution_count": null,
   "metadata": {},
   "outputs": [],
   "source": [
    "# notação posfixa\n",
    "\n",
    "valores = []\n",
    "\n",
    "for i in range(3):\n",
    "    valores.append(input(\"Digite um valor/operador:\"))\n",
    "\n",
    "operador = valores.pop()\n",
    "    \n",
    "    \n",
    "if operador==\"+\":\n",
    "    print(int(valores.pop())+int(valores.pop()))\n",
    "elif operador==\"-\":\n",
    "    print(int(valores.pop())-int(valores.pop()))\n",
    "elif operador==\"*\":\n",
    "    print(int(valores.pop())*int(valores.pop()))\n",
    "elif operador==\"/\":\n",
    "    print(int(valores.pop())/int(valores.pop()))"
   ]
  },
  {
   "cell_type": "markdown",
   "metadata": {},
   "source": [
    "Sem usar a função de busca em uma lista, crie um programa que informa se um determinado valor aparece ou não na lista. O programa deve perguntar ao usuário um número e buscará esse número da lista data (gerada randomicamente)."
   ]
  },
  {
   "cell_type": "code",
   "execution_count": null,
   "metadata": {},
   "outputs": [],
   "source": [
    "import random \n",
    "\n",
    "# gerando números da mega\n",
    "numeros = []\n",
    "for i in range(6):\n",
    "    numeros.append(random.randrange(60))\n",
    "\n",
    "palpite = input(\"Escolha num numero\")\n",
    "\n",
    "msg = \"Não encontrado\"\n",
    "\n",
    "for num in numeros:\n",
    "    if palpite==num:\n",
    "        msg =\"Achou\"\n",
    "        break\n",
    "\n",
    "print(msg, \"na lista:\", numeros)"
   ]
  },
  {
   "cell_type": "markdown",
   "metadata": {},
   "source": [
    "Considerando o código abaixo que retorna a hora do sistema, como você implementaria um programa que pedisse ao usuário que digitasse um número qualquer e, depois da digitação, o programa informaria o tempo que o usuário demorou para digitar?"
   ]
  },
  {
   "cell_type": "code",
   "execution_count": null,
   "metadata": {},
   "outputs": [],
   "source": [
    "from datetime import datetime\n",
    "\n",
    "horaAtual = datetime.now()\n",
    "\n",
    "nome = input(\"Digite o seu nome: \")\n",
    "\n",
    "horaFinal = datetime.now()\n",
    "\n",
    "print(\"Você levou {} para digitar\".format(horaFinal-horaAtual))"
   ]
  },
  {
   "cell_type": "markdown",
   "metadata": {},
   "source": [
    "## Estruturas de Dados e Técnicas de Programação"
   ]
  },
  {
   "cell_type": "markdown",
   "metadata": {},
   "source": [
    "Implemente um programa que solicite ao usuário que digite uma letra ou asterisco. Se o usuário digitar uma letra, o programa deverá empilhar o valor. Caso contrário, se o usuário digitar asterisco, o sistema tira o valor da pilha e mostra ao usuário. Caso o usuário digite #, o sistema deverá encerrar a execução e imprimir a lista resultante. "
   ]
  },
  {
   "cell_type": "code",
   "execution_count": null,
   "metadata": {},
   "outputs": [],
   "source": [
    "pilha = []\n",
    "\n",
    "while True:\n",
    "    letra = input(\"Digite uma letra para empilhar, * para desempilhar e # para sair\")\n",
    "    if letra==\"#\":\n",
    "        break\n",
    "    elif letra==\"*\":\n",
    "        pilha.pop()\n",
    "    else:\n",
    "        pilha.append(letra)\n",
    "\n",
    "print(\"Pilha final: \", pilha)"
   ]
  },
  {
   "cell_type": "markdown",
   "metadata": {},
   "source": [
    "A transformação de graus Celsius em graus Fahrenheit tem a seguinte fórmula: F = C + 273. Crie um programa que peça a temperatura em Celsius e transforme em Fahrenheit."
   ]
  },
  {
   "cell_type": "code",
   "execution_count": null,
   "metadata": {},
   "outputs": [],
   "source": [
    "temp = int(input(\"Digite a temperatura em Celsius\"))\n",
    "\n",
    "print(\"A temp em Fahrenheit é\", temp+273)"
   ]
  },
  {
   "cell_type": "markdown",
   "metadata": {},
   "source": [
    "Crie um programa que calcule a média das notas a partir da pilha fornecida abaixo:"
   ]
  },
  {
   "cell_type": "code",
   "execution_count": null,
   "metadata": {},
   "outputs": [],
   "source": [
    "notas = [10,4,6,8,7]\n",
    "soma = 0 \n",
    "\n",
    "for valor in notas:\n",
    "    soma += valor\n",
    "\n",
    "print(\"A média é:\", soma/len(notas))"
   ]
  },
  {
   "cell_type": "markdown",
   "metadata": {},
   "source": [
    "Implemente um programa que implemente um gerenciador de fila. Ou seja, seu programa deve dar opções ao usuário de inserir e remover pessoas na fila. "
   ]
  },
  {
   "cell_type": "code",
   "execution_count": null,
   "metadata": {},
   "outputs": [],
   "source": [
    "import queue\n",
    "\n",
    "fila = queue.Queue()\n",
    "\n",
    "while True:\n",
    "    op = input(\"Digite 1 para inserir, 2 para remover e 3 para sair: \")\n",
    "    \n",
    "    if op==\"3\":\n",
    "        break\n",
    "    elif op==\"1\":\n",
    "        valor = input(\"Qual valor a inserir? \")\n",
    "        fila.put(valor)\n",
    "    elif op==\"2\":\n",
    "        fila.get()\n",
    "    else:\n",
    "        print(\"Opção incorreta. Leia as instruções\")\n",
    "\n",
    "while not fila.empty():\n",
    "    print(fila.get())\n",
    "        "
   ]
  },
  {
   "cell_type": "markdown",
   "metadata": {},
   "source": [
    "Implemente um programa que monte uma matriz, a partir de dados fornecidos pelo usuário. Seu programa deve pedir as dimensões da matriz (i e j) e, em seguida, pedir ao usuário que digite os valores da matriz, um por linha. Ao final o programa deverá imprimir a matriz"
   ]
  },
  {
   "cell_type": "code",
   "execution_count": null,
   "metadata": {},
   "outputs": [],
   "source": [
    "import queue\n",
    "\n",
    "q = queue.Queue()\n",
    "\n",
    "i = int(input(\"digite o número de linhas: \"))\n",
    "j = int(input(\"digite o número de colunas: \"))\n",
    "\n",
    "for k in range(i*j):\n",
    "    q.put(input(\"Insira um número: \"))\n",
    "\n",
    "for a in range(i):\n",
    "    linha = \"\"\n",
    "    for b in range(j):\n",
    "        linha += q.get() + \" \"\n",
    "    print(linha)"
   ]
  },
  {
   "cell_type": "markdown",
   "metadata": {},
   "source": [
    "Implemente um programa que peça ao usuário que digite x notas e informe a média delas"
   ]
  },
  {
   "cell_type": "code",
   "execution_count": null,
   "metadata": {},
   "outputs": [],
   "source": [
    "qtde = int(input(\"Quantas notas? \"))\n",
    "soma = 0\n",
    "\n",
    "for num in range(qtde):\n",
    "    soma += int(input(\"digite a nota: \"))\n",
    "\n",
    "print(\"A média é:\", soma/qtde)"
   ]
  },
  {
   "cell_type": "markdown",
   "metadata": {},
   "source": [
    "Crie um programa gerenciador de listas de usuários, que apresente um menu para: 1) inserir usuários, 2) remover usuários, 3) Informar se um usuário está cadastrado, 4) listar usuários e 5) sair. Seu programa deverá usar o conceito de listas em Python, bem como estruturas de repetição e estruturas de decisão. "
   ]
  },
  {
   "cell_type": "code",
   "execution_count": null,
   "metadata": {},
   "outputs": [],
   "source": [
    "usuarios = []\n",
    "\n",
    "while True:\n",
    "    op = input(3\n",
    "               \"Digite:\\n 1) inserir usuários\\n 2) remover usuários\\n 3) Informar se um usuário está cadastrado\\n 4) listar usuários\\n 5) sair\\n\")\n",
    "    if op==\"5\":\n",
    "        break\n",
    "    elif op==\"1\":\n",
    "        nome = input(\"Digite o nome: \")\n",
    "        posicao = int(input(\"Digite a posição\"))\n",
    "        usuarios.insert(posicao, nome)\n",
    "    elif op==\"2\":\n",
    "        posicao = int(input(\"Remover o usuário de qual posição\"))\n",
    "        usuarios.pop(posicao)\n",
    "    elif op==\"3\":\n",
    "        nome = input(\"Digite o nome: \")\n",
    "        try:\n",
    "            posicao = usuarios.index(nome)\n",
    "        except:\n",
    "            posicao = -1\n",
    "        print(\"O usuário está na posição:\", posicao)   \n",
    "    elif op==\"4\":\n",
    "        print(\"Lista de usuários\", usuarios)\n",
    "    else:\n",
    "        print(\"Opção inválida\")\n",
    "        "
   ]
  }
 ],
 "metadata": {
  "kernelspec": {
   "display_name": "Python 3",
   "language": "python",
   "name": "python3"
  },
  "language_info": {
   "codemirror_mode": {
    "name": "ipython",
    "version": 3
   },
   "file_extension": ".py",
   "mimetype": "text/x-python",
   "name": "python",
   "nbconvert_exporter": "python",
   "pygments_lexer": "ipython3",
   "version": "3.6.1"
  }
 },
 "nbformat": 4,
 "nbformat_minor": 2
}
