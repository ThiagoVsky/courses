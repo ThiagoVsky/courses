{
 "cells": [
  {
   "cell_type": "markdown",
   "metadata": {},
   "source": [
    "# Vetores"
   ]
  },
  {
   "cell_type": "markdown",
   "metadata": {},
   "source": [
    "## Introdução"
   ]
  },
  {
   "cell_type": "markdown",
   "metadata": {},
   "source": [
    "Vetores são estruturas de dados utilizadas para armazenamento de diversos valores, que podem ser acessados através de índices. A implementação acaba variando de acordo com a linguagem de programação, mas pode-se resumir de maneira geral:\n",
    "\n",
    "- Cada posição do vetor tem um índice ou chave\n",
    "- Quando é indexado, a primeira posição é o zero\n",
    "- Em algumas linguagens não são redimensionáveis\n",
    "- Pode ou não armazenar valores de diferentes tipos, dependendo da linguagem"
   ]
  },
  {
   "cell_type": "markdown",
   "metadata": {},
   "source": [
    "Além disso, um vetor pode ser de diversas dimensões. Em um vetor unidimensional, por exemplo, um elemento do vetor pode ser acessado por um índice. Já em um vetor bidimensional, são necessários dois índices para localizar um elemento de um vetor. Esse caso especial é conhecido como matriz."
   ]
  },
  {
   "cell_type": "markdown",
   "metadata": {},
   "source": [
    "## Linguagens de Programação"
   ]
  },
  {
   "cell_type": "markdown",
   "metadata": {},
   "source": [
    "Veja alguns exemplos:"
   ]
  },
  {
   "cell_type": "markdown",
   "metadata": {},
   "source": [
    "**Java**"
   ]
  },
  {
   "cell_type": "markdown",
   "metadata": {},
   "source": [
    "```\n",
    "String[] linguagens = {\"Java\", \"Python\", \"C\"}\n",
    "\n",
    "```\n",
    "\n",
    "OU\n",
    "\n",
    "```\n",
    " String[] linguagens = new String[3];\n",
    " linguagens[0] = \"Java\";\n",
    "```"
   ]
  },
  {
   "cell_type": "markdown",
   "metadata": {},
   "source": [
    "**PHP**"
   ]
  },
  {
   "cell_type": "markdown",
   "metadata": {},
   "source": [
    "Usando índices\n",
    "\n",
    "```\n",
    "<?php\n",
    "$array = array(\"foo\", \"bar\", \"hello\", \"world\");\n",
    "?>\n",
    "\n",
    "```\n",
    "\n",
    "Usando chaves\n",
    "\n",
    "```\n",
    "<?php\n",
    "$arr[\"x\"] = 42; \n",
    "?>\n",
    "```"
   ]
  },
  {
   "cell_type": "markdown",
   "metadata": {},
   "source": [
    "**Python**"
   ]
  },
  {
   "cell_type": "markdown",
   "metadata": {},
   "source": [
    "Usando estruturas de listas:"
   ]
  },
  {
   "cell_type": "code",
   "execution_count": null,
   "metadata": {
    "collapsed": true
   },
   "outputs": [],
   "source": [
    "linguagens = [\"Java\", \"PHP\", \"C\"]\n",
    "print(\"O primeiro valor é\", linguagens[1])"
   ]
  },
  {
   "cell_type": "markdown",
   "metadata": {},
   "source": [
    "Usando biblioteca própria, pode-se restringir os tipos de valores:"
   ]
  },
  {
   "cell_type": "code",
   "execution_count": null,
   "metadata": {
    "collapsed": true
   },
   "outputs": [],
   "source": [
    "from array import array\n",
    "\n",
    "#apenas float\n",
    "precos = array('d', [10, 20, 23, 14, 5.1])\n",
    "print(precos)\n"
   ]
  },
  {
   "cell_type": "markdown",
   "metadata": {},
   "source": [
    "Por outro lado, se deseja-se adicionar um valor que não seja do tipo definido do vetor, dá erro"
   ]
  },
  {
   "cell_type": "code",
   "execution_count": null,
   "metadata": {
    "collapsed": true
   },
   "outputs": [],
   "source": [
    "from array import array\n",
    "\n",
    "#apenas float\n",
    "precos = array('d', [10, 20, 23, 14, 5.1])\n",
    "print(precos)\n",
    "\n",
    "precos.append(\"Java\")"
   ]
  },
  {
   "cell_type": "markdown",
   "metadata": {},
   "source": [
    "Para saber mais sobre esse módulo em Python, acesse  https://docs.python.org/3/library/array.html#module-array"
   ]
  },
  {
   "cell_type": "markdown",
   "metadata": {},
   "source": [
    "Importante ressaltar que cada linguagem possui suas bibliotecas e funções para manipulação de vetores, geralmente buscando facilitar a operação desse tipo de estrutura de dados."
   ]
  },
  {
   "cell_type": "markdown",
   "metadata": {},
   "source": [
    "## Operações em Python"
   ]
  },
  {
   "cell_type": "markdown",
   "metadata": {},
   "source": [
    "Por usar a mesma estrutura de listas lineares, um vetor tem as mesmas operações em Python, ou seja:\n",
    "\n",
    "- insert: insere um valor X na posição Y do vetor\n",
    "- remove: retira um determinado valor do vetor\n",
    "- count: contar o número de ocorrências de um valor no vetor\n",
    "- reverse: inverter a posição dos valores\n",
    "- index: informar a posição de um valor na lista\n",
    "- pop: retirar um elemento\n",
    "- append: adicionar ao final"
   ]
  },
  {
   "cell_type": "markdown",
   "metadata": {},
   "source": [
    "## Inicializando um vetor em Python"
   ]
  },
  {
   "cell_type": "markdown",
   "metadata": {},
   "source": [
    "Como lista:"
   ]
  },
  {
   "cell_type": "code",
   "execution_count": null,
   "metadata": {
    "collapsed": true
   },
   "outputs": [],
   "source": [
    "vetor = []\n",
    "# vai imprimir um vetor vazio\n",
    "print(vetor)"
   ]
  },
  {
   "cell_type": "markdown",
   "metadata": {},
   "source": [
    "Com n posições:"
   ]
  },
  {
   "cell_type": "code",
   "execution_count": null,
   "metadata": {
    "collapsed": true
   },
   "outputs": [],
   "source": [
    "vetor = [0] * 10\n",
    "# vai imprimir um vetor com 10 posições 0\n",
    "print(vetor)"
   ]
  },
  {
   "cell_type": "markdown",
   "metadata": {},
   "source": [
    "Caso queira inicializar um vetor com 10 posições com valores 1"
   ]
  },
  {
   "cell_type": "code",
   "execution_count": null,
   "metadata": {
    "collapsed": true
   },
   "outputs": [],
   "source": [
    "vetor = [1] * 10\n",
    "# vai imprimir um vetor com 10 posições 0\n",
    "print(vetor)"
   ]
  },
  {
   "cell_type": "markdown",
   "metadata": {},
   "source": [
    "## Acessando dados em um vetor"
   ]
  },
  {
   "cell_type": "markdown",
   "metadata": {},
   "source": [
    "Com um vetor criado, basta acessar o valor por seu índice. Veja um exemplo abaixo:"
   ]
  },
  {
   "cell_type": "code",
   "execution_count": null,
   "metadata": {
    "collapsed": true
   },
   "outputs": [],
   "source": [
    "notas = [10,8,5,4,9]\n",
    "nota1 = notas[0]"
   ]
  },
  {
   "cell_type": "markdown",
   "metadata": {},
   "source": [
    "Ou seja, o valor correspodente a *notas[0]* é 10."
   ]
  },
  {
   "cell_type": "markdown",
   "metadata": {},
   "source": [
    "## Atribuindo valores em um vetor"
   ]
  },
  {
   "cell_type": "markdown",
   "metadata": {},
   "source": [
    "Para atribuir um valor a uma determinada posição do vetor, basta acessar a posição por seu índice e atribuir o valor desejado."
   ]
  },
  {
   "cell_type": "code",
   "execution_count": null,
   "metadata": {
    "collapsed": true
   },
   "outputs": [],
   "source": [
    "notas = [10,8,5,4,9]\n",
    "notas[1] = 9"
   ]
  },
  {
   "cell_type": "markdown",
   "metadata": {},
   "source": [
    "Após o comando acima, o vetor terá o conteúdo *[10,9,5,4,9]*"
   ]
  },
  {
   "cell_type": "markdown",
   "metadata": {},
   "source": [
    "## Acessando partes de um vetor"
   ]
  },
  {
   "cell_type": "markdown",
   "metadata": {},
   "source": [
    "Em Python, é possível acessar partes de um vetor, através da operação de *slice*, de acordo com o seguinte formato:\n",
    "\n",
    "- vetor[início:final] # retorna os itens de início até final-1\n",
    "- vetor[início:]    # retorna os itens começando de início e indo até o fim do vetor\n",
    "- vetor[:final]      # itens da posição 0 até o final-1\n",
    "- vetor[:]         # retorna todo o vetor"
   ]
  },
  {
   "cell_type": "markdown",
   "metadata": {},
   "source": [
    "Exemplo: vetor[início:fim]"
   ]
  },
  {
   "cell_type": "code",
   "execution_count": null,
   "metadata": {
    "collapsed": true
   },
   "outputs": [],
   "source": [
    "notas = [10,8,5,4,9]\n",
    "notasParte = notas[1:4]\n",
    "print(notasParte)"
   ]
  },
  {
   "cell_type": "markdown",
   "metadata": {},
   "source": [
    "Exemplo: vetor[início]"
   ]
  },
  {
   "cell_type": "code",
   "execution_count": null,
   "metadata": {
    "collapsed": true
   },
   "outputs": [],
   "source": [
    "notas = [10,8,5,4,9]\n",
    "notasParte = notas[1:]\n",
    "print(notasParte)"
   ]
  },
  {
   "cell_type": "markdown",
   "metadata": {},
   "source": [
    "Exemplo: vetor[:final]"
   ]
  },
  {
   "cell_type": "code",
   "execution_count": null,
   "metadata": {
    "collapsed": true
   },
   "outputs": [],
   "source": [
    "notas = [10,8,5,4,9]\n",
    "notasParte = notas[:3]\n",
    "print(notasParte)"
   ]
  },
  {
   "cell_type": "markdown",
   "metadata": {},
   "source": [
    "Exemplo: vetor[:]"
   ]
  },
  {
   "cell_type": "code",
   "execution_count": null,
   "metadata": {
    "collapsed": true
   },
   "outputs": [],
   "source": [
    "notas = [10,8,5,4,9]\n",
    "notasParte = notas[:]\n",
    "print(notasParte)"
   ]
  },
  {
   "cell_type": "markdown",
   "metadata": {},
   "source": [
    "Se as posições forem negativas, então os valores são acessados a partir do final."
   ]
  },
  {
   "cell_type": "markdown",
   "metadata": {},
   "source": [
    "Exemplo: vetor[-1]"
   ]
  },
  {
   "cell_type": "code",
   "execution_count": null,
   "metadata": {
    "collapsed": true
   },
   "outputs": [],
   "source": [
    "notas = [10,8,5,4,9]\n",
    "notasParte = notas[-1]\n",
    "print(notasParte)"
   ]
  },
  {
   "cell_type": "markdown",
   "metadata": {},
   "source": [
    "Exemplo: vetor[-2:] - Últimos dois itens do vetor"
   ]
  },
  {
   "cell_type": "code",
   "execution_count": null,
   "metadata": {
    "collapsed": true
   },
   "outputs": [],
   "source": [
    "notas = [10,8,5,4,9]\n",
    "notasParte = notas[-2:]\n",
    "print(notasParte)"
   ]
  },
  {
   "cell_type": "markdown",
   "metadata": {},
   "source": [
    "Exemplo: vetor[:-2] - todos os valores do vetor, com exceção dos dois últimos"
   ]
  },
  {
   "cell_type": "code",
   "execution_count": null,
   "metadata": {
    "collapsed": true
   },
   "outputs": [],
   "source": [
    "notas = [10,8,5,4,9]\n",
    "notasParte = notas[:-2]\n",
    "print(notasParte)"
   ]
  },
  {
   "cell_type": "markdown",
   "metadata": {},
   "source": [
    "Além disso, o slice pode ser feito indicando-se deslocamentos a partir do ínicio:\n",
    "\n",
    "vetor[ini:fim:desloc]"
   ]
  },
  {
   "cell_type": "code",
   "execution_count": null,
   "metadata": {
    "collapsed": true
   },
   "outputs": [],
   "source": [
    "notas = [10,8,5,4,9,10,7,5,4,3,3]\n",
    "notasParte = notas[1:10:2] #vai pular de 2 em 2\n",
    "print(notasParte)"
   ]
  },
  {
   "cell_type": "markdown",
   "metadata": {},
   "source": [
    "## Dicionário"
   ]
  },
  {
   "cell_type": "markdown",
   "metadata": {},
   "source": [
    "Uma outra forma de usar uma estrutura semelhante a vetores, com o uso de chaves para localizar valores, é o dicionário. Veja um exemplo:"
   ]
  },
  {
   "cell_type": "code",
   "execution_count": null,
   "metadata": {
    "collapsed": true
   },
   "outputs": [],
   "source": [
    "dados = {}\n",
    "dados[\"nome\"] = \"Fernando\"\n",
    "dados[\"time\"] = \"Corinthians\"\n",
    "\n",
    "for key in dados.keys():\n",
    "    print(key,\":\",dados[key])"
   ]
  },
  {
   "cell_type": "markdown",
   "metadata": {},
   "source": [
    "Para acessar um valor específico"
   ]
  },
  {
   "cell_type": "code",
   "execution_count": null,
   "metadata": {
    "collapsed": true
   },
   "outputs": [],
   "source": [
    "print(dados[\"nome\"])"
   ]
  },
  {
   "cell_type": "markdown",
   "metadata": {},
   "source": [
    "Para alterar o valor de uma posição do dicionário:"
   ]
  },
  {
   "cell_type": "code",
   "execution_count": null,
   "metadata": {
    "collapsed": true
   },
   "outputs": [],
   "source": [
    "dados = {}\n",
    "dados[\"nome\"] = \"Fernando\"\n",
    "dados[\"time\"] = \"Corinthians\"\n",
    "\n",
    "print(\"===== Valores Iniciais =====\")\n",
    "for key in dados.keys():\n",
    "    print(key,\":\",dados[key])\n",
    "    \n",
    "print()\n",
    "print(\"===== Novos Valores =====\")\n",
    "# mudando o nome\n",
    "dados[\"nome\"] = \"Fernando Xavier\"\n",
    "\n",
    "for key in dados.keys():\n",
    "    print(key,\":\",dados[key])"
   ]
  },
  {
   "cell_type": "markdown",
   "metadata": {},
   "source": [
    "Os dados podem ser inicializados em listas de elementos *chave:valor*"
   ]
  },
  {
   "cell_type": "code",
   "execution_count": null,
   "metadata": {
    "collapsed": true
   },
   "outputs": [],
   "source": [
    "dados = {\"nome\":\"Fernando\", \"RGM\":\"123456\"}\n",
    "\n",
    "for key in dados.keys():\n",
    "    print(key,\":\",dados[key])"
   ]
  },
  {
   "cell_type": "markdown",
   "metadata": {},
   "source": [
    "Os dados são localizados no dicionário através de chaves (que ficam dentro dos colchetes) que são, no exemplo acima, *nome* e *time*."
   ]
  },
  {
   "cell_type": "markdown",
   "metadata": {},
   "source": [
    "## Exercícios"
   ]
  },
  {
   "cell_type": "markdown",
   "metadata": {},
   "source": [
    "**Ex 1: Escreva um programa que imprima os valores de um vetor, um por linha. O vetor deve ser inicializado com no mínimo 5 valores **"
   ]
  },
  {
   "cell_type": "code",
   "execution_count": null,
   "metadata": {},
   "outputs": [],
   "source": []
  },
  {
   "cell_type": "markdown",
   "metadata": {},
   "source": [
    "**Ex 2: Escreva um programa que salve os 10 primeiros números pares (a partir de 2) em um vetor.**"
   ]
  },
  {
   "cell_type": "code",
   "execution_count": null,
   "metadata": {
    "collapsed": true
   },
   "outputs": [],
   "source": []
  },
  {
   "cell_type": "markdown",
   "metadata": {},
   "source": [
    "**Ex 3: Faça um programa que pergunte ao usuário um nome de linguagem e, caso essa linguagem exista no vetor, informe a posição dela. Dica: pesquise sobre try/except para implementar sua solução, caso o valor não exista.**"
   ]
  },
  {
   "cell_type": "code",
   "execution_count": null,
   "metadata": {
    "collapsed": true
   },
   "outputs": [],
   "source": [
    "linguagens = [\"Java\", \"PHP\", \"C\"]"
   ]
  },
  {
   "cell_type": "markdown",
   "metadata": {},
   "source": [
    "**Ex 4: Crie um programa que peça ao usuário que informe as notas de um aluno e depois calcule a média. Use vetores na sua solução e só aceite números inteiros. Caso o usuário digite um valor que não seja um número inteiro, seu programa deverá informar o erro e pedir novo número**"
   ]
  },
  {
   "cell_type": "code",
   "execution_count": null,
   "metadata": {
    "collapsed": true
   },
   "outputs": [],
   "source": []
  },
  {
   "cell_type": "markdown",
   "metadata": {},
   "source": [
    "** Ex 5 (adaptado do Sedgewick): O que vai ser produzido nos vetores abaixo?**"
   ]
  },
  {
   "cell_type": "code",
   "execution_count": null,
   "metadata": {
    "collapsed": true
   },
   "outputs": [],
   "source": [
    "vetor = [0] * 99\n",
    "\n",
    "for i in range(99):\n",
    "    vetor[i] = 98 - i\n",
    "print(vetor)\n",
    "\n",
    "print()\n",
    "\n",
    "for i in range(99):\n",
    "    vetor[i] = vetor[vetor[i]]\n",
    "print(vetor)\n",
    " "
   ]
  },
  {
   "cell_type": "markdown",
   "metadata": {},
   "source": [
    "**Ex 6: Dada o vetor abaixo, crie um novo vetor onde cada valor será o dobro do valor correspondente do primeiro vetor**"
   ]
  },
  {
   "cell_type": "code",
   "execution_count": null,
   "metadata": {
    "collapsed": true
   },
   "outputs": [],
   "source": [
    "quantidade = [2,4,5,7,1,4,5,6,8]"
   ]
  },
  {
   "cell_type": "markdown",
   "metadata": {},
   "source": [
    "**Ex 7: Dado o vetor abaixo, implemente um código que some os valores de um vetor**"
   ]
  },
  {
   "cell_type": "code",
   "execution_count": null,
   "metadata": {
    "collapsed": true
   },
   "outputs": [],
   "source": [
    "quantidade = [2,4,5,7,1,4,5,6,8]"
   ]
  },
  {
   "cell_type": "markdown",
   "metadata": {},
   "source": [
    "** Ex 8: Faça um código que acesse apenas os índices ímpares de um vetor e imprima os valores dessas posições**"
   ]
  },
  {
   "cell_type": "code",
   "execution_count": null,
   "metadata": {
    "collapsed": true
   },
   "outputs": [],
   "source": [
    "quantidade = [2,4,5,7,1,4,5,6,8]"
   ]
  },
  {
   "cell_type": "markdown",
   "metadata": {},
   "source": [
    "** Ex 9: O código abaixo irá gerar um vetor com 10 posições, com números aleatórios de 1 a 100. Crie um código que peça a um usuário um número entre 1 e 100 e seu código retorne se esse número exista e a posição dele, caso exista**"
   ]
  },
  {
   "cell_type": "code",
   "execution_count": null,
   "metadata": {
    "collapsed": true
   },
   "outputs": [],
   "source": [
    "import random\n",
    "\n",
    "total = 100\n",
    "qtde = 10\n",
    "vetor = random.sample(range(1,total), k=qtde)\n",
    "print(vetor)\n"
   ]
  },
  {
   "cell_type": "markdown",
   "metadata": {},
   "source": [
    "**Ex 10: Faça um código que, dado o vetor abaixo, inverta os valores em um novo vetor.**"
   ]
  },
  {
   "cell_type": "code",
   "execution_count": null,
   "metadata": {
    "collapsed": true
   },
   "outputs": [],
   "source": [
    "vetor = [82, 62, 61, 88, 89, 37, 95, 29, 45, 98]"
   ]
  }
 ],
 "metadata": {
  "kernelspec": {
   "display_name": "Python 3",
   "language": "python",
   "name": "python3"
  },
  "language_info": {
   "codemirror_mode": {
    "name": "ipython",
    "version": 3
   },
   "file_extension": ".py",
   "mimetype": "text/x-python",
   "name": "python",
   "nbconvert_exporter": "python",
   "pygments_lexer": "ipython3",
   "version": "3.6.1"
  }
 },
 "nbformat": 4,
 "nbformat_minor": 2
}
