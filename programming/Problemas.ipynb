{
 "cells": [
  {
   "cell_type": "markdown",
   "metadata": {},
   "source": [
    "## Técnicas de Programação"
   ]
  },
  {
   "cell_type": "markdown",
   "metadata": {},
   "source": [
    "Escreva um programa que receba dois números digitados pelo usuário e informe se são iguais."
   ]
  },
  {
   "cell_type": "code",
   "execution_count": null,
   "metadata": {
    "collapsed": true
   },
   "outputs": [],
   "source": [
    "#teste!"
   ]
  },
  {
   "cell_type": "markdown",
   "metadata": {},
   "source": [
    "Escreva um programa que informe se um número digitado pelo usuário é múltiplo de 17."
   ]
  },
  {
   "cell_type": "code",
   "execution_count": null,
   "metadata": {
    "collapsed": true
   },
   "outputs": [],
   "source": []
  },
  {
   "cell_type": "markdown",
   "metadata": {},
   "source": [
    "Implemente uma solução para que seja impressa a palavra \"Python\" 10 vezes usando while."
   ]
  },
  {
   "cell_type": "code",
   "execution_count": null,
   "metadata": {
    "collapsed": true
   },
   "outputs": [],
   "source": []
  },
  {
   "cell_type": "markdown",
   "metadata": {},
   "source": [
    "Faça o mesmo exercício anterior, dessa vez usando for."
   ]
  },
  {
   "cell_type": "code",
   "execution_count": null,
   "metadata": {
    "collapsed": true
   },
   "outputs": [],
   "source": []
  },
  {
   "cell_type": "markdown",
   "metadata": {},
   "source": [
    "Implemente um programa que imprima todos os números positivos menores do que o um número que o usuário digitar. Se o usuário digitar 10, seu programa deverá imprimir 9,8,7,6,5,4,3,2,1."
   ]
  },
  {
   "cell_type": "code",
   "execution_count": null,
   "metadata": {
    "collapsed": true
   },
   "outputs": [],
   "source": []
  },
  {
   "cell_type": "markdown",
   "metadata": {},
   "source": [
    "Dado o conjunto de valores abaixo, implemente um programa que imprima o valor de cada número elevado ao quadrado."
   ]
  },
  {
   "cell_type": "code",
   "execution_count": 1,
   "metadata": {
    "collapsed": true
   },
   "outputs": [],
   "source": [
    "numeros= (2,3,6,10,20)"
   ]
  },
  {
   "cell_type": "markdown",
   "metadata": {},
   "source": [
    "Uma empresa deseja criar um programa que calcule o aumento do salário de seus funcionários, de acordo com as seguintes regras:\n",
    "\n",
    "- Caso salário esteja entre 0 e 1500 (inclusive), o salário será aumentado em 25%. \n",
    "- Caso o salário esteja entre 1500 e 4500 (inclusive), o salário será reajustado em 20%\n",
    "- Caso o salário seja maior do que 4500, o salário será aumentado em 15%"
   ]
  },
  {
   "cell_type": "code",
   "execution_count": null,
   "metadata": {
    "collapsed": true
   },
   "outputs": [],
   "source": [
    "vencimentos = (1000,1200,900,4000,2000,3000)"
   ]
  },
  {
   "cell_type": "markdown",
   "metadata": {},
   "source": [
    "Crie um programa que, dado um número digitado por um usuário, imprima a tabuada até 10."
   ]
  },
  {
   "cell_type": "code",
   "execution_count": null,
   "metadata": {
    "collapsed": true
   },
   "outputs": [],
   "source": []
  },
  {
   "cell_type": "markdown",
   "metadata": {},
   "source": [
    "Crie um programa que peça ao usuário que digite um número e fique perguntando até o usuário acertar o número sorteado ou o programa esgotar as 5 tentativas. O código abaixo é um exemplo para sorteio de um número até 10."
   ]
  },
  {
   "cell_type": "code",
   "execution_count": 2,
   "metadata": {
    "collapsed": true
   },
   "outputs": [],
   "source": [
    "import random \n",
    "\n",
    "numeroSorteado = random.randrange(10)"
   ]
  },
  {
   "cell_type": "markdown",
   "metadata": {},
   "source": [
    "Escreva um programa que imprima um triângulo de acordo com um número de linhas, a ser digitado pelo usuário. A saída seria algo assim (para 5 linhas):\n",
    "\n",
    "```\n",
    "*\n",
    "**\n",
    "***\n",
    "****\n",
    "*****\n",
    "```"
   ]
  },
  {
   "cell_type": "code",
   "execution_count": null,
   "metadata": {
    "collapsed": true
   },
   "outputs": [],
   "source": []
  },
  {
   "cell_type": "markdown",
   "metadata": {},
   "source": [
    "## Estruturas de Dados"
   ]
  },
  {
   "cell_type": "markdown",
   "metadata": {},
   "source": [
    "Crie um programa que gere uma pilha com 3 notas (8, 5, 6), usando operações de push. Ao final, seu programa deverá imprimir os valores inseridos, usando operações de pop."
   ]
  },
  {
   "cell_type": "code",
   "execution_count": null,
   "metadata": {
    "collapsed": true
   },
   "outputs": [],
   "source": []
  },
  {
   "cell_type": "markdown",
   "metadata": {},
   "source": [
    "Modifique o programa anterior para que peça ao usuário que digite as 3 notas. Pesquise a função [input](https://docs.python.org/3/library/functions.html#input) para saber como executar a leitura de dados do teclado. "
   ]
  },
  {
   "cell_type": "code",
   "execution_count": null,
   "metadata": {
    "collapsed": true
   },
   "outputs": [],
   "source": []
  },
  {
   "cell_type": "markdown",
   "metadata": {},
   "source": [
    "Crie um programa que dada, a pilha de notas do exemplo acima, informe a menor nota e a maior."
   ]
  },
  {
   "cell_type": "code",
   "execution_count": null,
   "metadata": {
    "collapsed": true
   },
   "outputs": [],
   "source": []
  },
  {
   "cell_type": "markdown",
   "metadata": {},
   "source": [
    "Considerando a lista de valores abaixo, implemente a inserção de um novo valor na 5 posição."
   ]
  },
  {
   "cell_type": "code",
   "execution_count": null,
   "metadata": {
    "collapsed": true
   },
   "outputs": [],
   "source": [
    "linguagens = [\"C++\", \"PHP\", \"R\", \"Java\", \"Lua\", \"C\", \"Basic\", \"Cobol\"]"
   ]
  },
  {
   "cell_type": "markdown",
   "metadata": {},
   "source": [
    "Usando a mesma lista do exercício anterior, implemente um código que peça ao usuário que digite um nome de linguagem de programação. Caso esse nome exista na lista, o seu código deverá informar a posição dele na lista."
   ]
  },
  {
   "cell_type": "code",
   "execution_count": null,
   "metadata": {
    "collapsed": true
   },
   "outputs": [],
   "source": [
    "linguagens = [\"C++\", \"PHP\", \"R\", \"Java\", \"Lua\", \"C\", \"Basic\", \"Cobol\"]"
   ]
  },
  {
   "cell_type": "markdown",
   "metadata": {},
   "source": [
    "Crie um programa que peça ao usuário que digite dois números e a operação que deseja executar. Após a digitação dos valores e do operador, deverá ser impresso o resultado da operação."
   ]
  },
  {
   "cell_type": "code",
   "execution_count": null,
   "metadata": {
    "collapsed": true
   },
   "outputs": [],
   "source": []
  },
  {
   "cell_type": "markdown",
   "metadata": {},
   "source": [
    "Sem usar a função de busca em uma lista, crie um programa que informa se um determinado valor aparece ou não na lista. O programa deve perguntar ao usuário um valor e buscará esse valor da lista dada."
   ]
  },
  {
   "cell_type": "code",
   "execution_count": null,
   "metadata": {
    "collapsed": true
   },
   "outputs": [],
   "source": [
    "linguagens = [\"C++\", \"PHP\", \"R\", \"Java\", \"Lua\", \"C\", \"Basic\", \"Cobol\"]\n",
    "\n"
   ]
  },
  {
   "cell_type": "markdown",
   "metadata": {},
   "source": [
    "Faça um programa que peça ao usuário que adivinhe um número e continue a perguntar até o número escolhido for igual ao gerado randomicamente pelo programa."
   ]
  },
  {
   "cell_type": "code",
   "execution_count": null,
   "metadata": {
    "collapsed": true
   },
   "outputs": [],
   "source": [
    "import random \n",
    "\n",
    "# gerando um número aleatório de 1 a 10\n",
    "numero = random.randrange(10)\n",
    "    \n"
   ]
  },
  {
   "cell_type": "markdown",
   "metadata": {},
   "source": [
    "Faça um programa que gere os 6 números da mega-sena e pergunte ao usuário que informe 6 números. Ao final, seu programa deverá informar quantos números o usuário acertou."
   ]
  },
  {
   "cell_type": "code",
   "execution_count": null,
   "metadata": {
    "collapsed": true
   },
   "outputs": [],
   "source": [
    "import random \n",
    "\n",
    "# gerando os números da mega\n",
    "numeros = []\n",
    "for i in range(6):\n",
    "    numeros.append(random.randrange(60))\n",
    "    \n"
   ]
  },
  {
   "cell_type": "markdown",
   "metadata": {},
   "source": [
    "Considerando o código abaixo que retorna a hora do sistema, como você implementaria um programa que pedisse ao usuário que digitasse um número qualquer e, depois da digitação, o programa informaria o tempo que o usuário demorou para digitar?"
   ]
  },
  {
   "cell_type": "code",
   "execution_count": null,
   "metadata": {
    "collapsed": true
   },
   "outputs": [],
   "source": [
    "from datetime import datetime\n",
    "\n",
    "horaAtual = datetime.now()\n",
    "print(horaAtual)"
   ]
  },
  {
   "cell_type": "markdown",
   "metadata": {},
   "source": [
    "## Estruturas de Dados e Técnicas de Programação"
   ]
  },
  {
   "cell_type": "markdown",
   "metadata": {},
   "source": [
    "Implemente um programa que solicite ao usuário que digite uma letra ou asterisco. Se o usuário digitar uma letra, o programa deverá empilhar o valor. Caso contrário, se o usuário digitar asterisco, o sistema tira o valor da pilha e mostra ao usuário. Caso o usuário digite #, o sistema deverá encerrar a execução e imprimir a lista resultante. "
   ]
  },
  {
   "cell_type": "code",
   "execution_count": null,
   "metadata": {
    "collapsed": true
   },
   "outputs": [],
   "source": []
  },
  {
   "cell_type": "markdown",
   "metadata": {},
   "source": [
    "A transformação de graus Celsius em graus Fahrenheit tem a seguinte fórmula: F = C + 273. Crie um programa que peça a temperatura em Celsius e transforme em Fahrenheit."
   ]
  },
  {
   "cell_type": "code",
   "execution_count": null,
   "metadata": {
    "collapsed": true
   },
   "outputs": [],
   "source": []
  },
  {
   "cell_type": "markdown",
   "metadata": {},
   "source": [
    "Crie um programa que calcule a média das notas a partir da pilha fornecida abaixo:"
   ]
  },
  {
   "cell_type": "code",
   "execution_count": null,
   "metadata": {
    "collapsed": true
   },
   "outputs": [],
   "source": [
    "notas = [10,4,6,8,7]"
   ]
  },
  {
   "cell_type": "markdown",
   "metadata": {},
   "source": [
    "Implemente um programa que implemente um gerenciador de fila. Ou seja, seu programa deve dar opções ao usuário de inserir e remover pessoas na fila. "
   ]
  },
  {
   "cell_type": "code",
   "execution_count": null,
   "metadata": {
    "collapsed": true
   },
   "outputs": [],
   "source": []
  },
  {
   "cell_type": "markdown",
   "metadata": {},
   "source": [
    "Implemente um programa que monte uma matriz, a partir de dados fornecidos pelo usuário. Seu programa deve pedir as dimensões da matriz (i e j) e, em seguida, pedir ao usuário que digite os valores da matriz, um por linha. Ao final o programa deverá imprimir a matriz"
   ]
  },
  {
   "cell_type": "code",
   "execution_count": null,
   "metadata": {
    "collapsed": true
   },
   "outputs": [],
   "source": []
  },
  {
   "cell_type": "markdown",
   "metadata": {},
   "source": [
    "Implemente um programa que peça ao usuário que digite x notas e informe a média delas"
   ]
  },
  {
   "cell_type": "code",
   "execution_count": null,
   "metadata": {
    "collapsed": true
   },
   "outputs": [],
   "source": []
  },
  {
   "cell_type": "markdown",
   "metadata": {},
   "source": [
    "Crie um programa gerenciador de listas de usuários, que apresente um menu para: 1) inserir usuários, 2) remover usuários, 3) Informar se um usuário está cadastrado, 4) listar usuários e 5) sair. Seu programa deverá usar o conceito de listas em Python, bem como estruturas de repetição e estruturas de decisão. "
   ]
  },
  {
   "cell_type": "code",
   "execution_count": null,
   "metadata": {
    "collapsed": true
   },
   "outputs": [],
   "source": []
  },
  {
   "cell_type": "markdown",
   "metadata": {},
   "source": [
    "## Questões"
   ]
  },
  {
   "cell_type": "markdown",
   "metadata": {},
   "source": [
    "(Enade 2011) A pilha é uma estrutura de dados que permite a inserção/ remoção de itens dinamicamente seguindo a norma de último a entrar, primeiro a sair. Suponha que para uma estrutura de dados, tipo pilha, são definidos os comandos:\n",
    "\n",
    "\n",
    "\n",
    "PUSH (p, n): Empilha um número “ n “ em uma estrutura de dados do tipo pilha “ p “\n",
    "\n",
    "\n",
    "POP (p): Desempilha o elemento no topo da pilha.\n",
    "\n",
    "Considere que, em uma estrutura de dados tipo pilha “ p “ inicialmente vazia, sejam executados os seguintes comandos:\n",
    "\n",
    "```\n",
    "PUSH(p,10)\n",
    "PUSH(p,5)\n",
    "PUSH(p,3)\n",
    "PUSH(p,40)\n",
    "POP(p)\n",
    "PUSH(p,11)\n",
    "PUSH(p,4)\n",
    "PUSH(p,7)\n",
    "POP(p)\n",
    "POP(p)\n",
    "```\n",
    "\n",
    "Após a execução dos comandos, o elemento no topo da pilha “ p “ e a soma dos elementos armazenados na pilha “ p “são, respectivamente, \n",
    "\n",
    "\n",
    "a) 11 e 29.\n",
    "\n",
    "b) 11 e 80.\n",
    "\n",
    "c) 4 e 80.\n",
    "\n",
    "d) 7 e 29.\n",
    "\n",
    "e) 7 e 40.\n",
    "\n"
   ]
  },
  {
   "cell_type": "markdown",
   "metadata": {},
   "source": [
    "(ENADE 2011) No desenvolvimento de um software que analisa bases de DNA, representadas pelas letras A, C, G, T, utilizou-se as estruturas de dados: pilha e fila. Considere que, se uma sequência representa uma pilha, o topo é o elemento mais à esquerda; e se uma sequência representa uma fila, a sua frente é o elemento mais à esquerda.\n",
    "\n",
    "Analise o seguinte cenário: “a sequência inicial ficou armazenada na primeira estrutura de dados na seguinte ordem: (A,G,T,C,A,G,T,T). Cada elemento foi retirado da primeira estrutura de dados e inserido na segunda estrutura de dados, e a sequência ficou armazenada na seguinte ordem: (T,T,G,A,C,T,G,A). Finalmente, cada elemento foi retirado da segunda estrutura de dados e\n",
    "inserido na terceira estrutura de dados e a sequência ficou armazenada na seguinte ordem: (T,T,G,A,C,T,G,A)”. \n",
    "\n",
    "Qual a única sequência de estruturas de dados apresentadas a seguir pode ter sido usada no cenário descrito acima?\n",
    "\n",
    "- a) Fila - Pilha - Fila.\n",
    "- b) Fila - Fila - Pilha.\n",
    "- c) Fila - Pilha - Pilha.\n",
    "- d) Pilha - Fila - Pilha.\n",
    "- e) Pilha - Pilha - Pilha"
   ]
  },
  {
   "cell_type": "markdown",
   "metadata": {},
   "source": [
    "(UFRj-2018) Assinale a alternativa que apresenta a estrutura de condição básica, utilizando o português estruturado.\n",
    "\n",
    "a)\n",
    "```\n",
    "Enquanto (condição) Se\n",
    "\n",
    "     (bloco de código)\n",
    "\n",
    "Fim Se\n",
    "```\n",
    "\n",
    "b)\n",
    "```\n",
    "Enquanto (condição) Faça\n",
    "\n",
    "     (bloco de código)\n",
    "\n",
    "Fim Enquanto\n",
    "```\n",
    "c)\n",
    "```\n",
    "Escolha X\n",
    "\n",
    "     Caso X: (bloco de código)\n",
    "\n",
    "Fim Escolha\n",
    "```\n",
    "d)\n",
    "```\n",
    "Se (condição) Então\n",
    "\n",
    "      (bloco de código)\n",
    "\n",
    "Fim Se\n",
    "```\n",
    "e)\n",
    "```\n",
    "Escolha (condição) Faça\n",
    "\n",
    "      (bloco de código)\n",
    "\n",
    "Fim Escolha\n",
    "```"
   ]
  },
  {
   "cell_type": "markdown",
   "metadata": {},
   "source": [
    "(TRT/CE - 2017) A estrutura lógica presente no diagrama apresentado é do tipo\n",
    "\n",
    "![title](img/4cf78f3b04261ff30f47.png)\n",
    "\n",
    "- a) SE ENTÃO.\n",
    "- b) CASO SELECIONE.\n",
    "- c) CASO REPITA\n",
    "- d) SE ENTÃO SENÃO."
   ]
  },
  {
   "cell_type": "markdown",
   "metadata": {},
   "source": [
    "(IF/RJ - 2015) Com relação à estrutura de controle enquanto <teste> faça ... fim enquanto, avalie se as afirmativas a seguir são falsas (F) ou verdadeiras (V):\n",
    "\n",
    "✓ A condição de saída do loop ocorre quando o <teste> é VERDADEIRO.\n",
    "\n",
    "✓ O teste de controle da estrutura é realizado no início da execução.\n",
    "\n",
    "✓ O fluxo de execução das instruções contidas no loop permanece se o resultado do <teste> é FALSO.\n",
    "\n",
    "As afirmativas são respectivamente:\n",
    "\n",
    "```\n",
    " a) F, F e V.\n",
    " b) F, V e F.\n",
    " c) F, V e V.\n",
    " d) V, V e F.\n",
    " e) V, F e V.\n",
    "```"
   ]
  },
  {
   "cell_type": "markdown",
   "metadata": {},
   "source": [
    "(MDA - 2014) O fluxograma a seguir representa a estrutura de controle enquanto... faça.\n",
    "\n",
    "![title](img/imagem-019.jpg)\n",
    "\n",
    "Observe as afirmativas a seguir.\n",
    "\n",
    "- Após a execução, será impressa uma sequência de números.\n",
    "- Na saída da estrutura, K terá um valor específico.\n",
    "- As instruções no loop serão executadas n vezes.\n",
    "\n",
    "A sequência de números e os valores de K e de n serão, respectivamente:\n",
    "```\n",
    " a) ímpares de 1 a 13, 14 e 7.\n",
    " b) pares e impares de 1 a 13, 13 e 13.\n",
    " c) ímpares de 1 a 13, 13 e 6.\n",
    " d) pares de 2 a 12, 14 e 6.\n",
    " e) pares de 2 a 12, 13 e 7.\n",
    " ```"
   ]
  },
  {
   "cell_type": "markdown",
   "metadata": {},
   "source": [
    "(Serpro - 2013) A estrutura de decisão SE/ENTÃO/SENÃO, ou IF/THEN/ELSE, permite que seja sempre executado um comando. Isso porque, caso a condição seja verdadeira, o comando da condição SE/ENTÃO será executado; caso contrário, o comando da condição SENÃO (falsa) será executado.\n",
    "\n",
    "( ) certo        (   ) errado"
   ]
  },
  {
   "cell_type": "markdown",
   "metadata": {},
   "source": [
    "(UNIRIO - 2012) Em um algoritmo, apresentado o seguinte código: \n",
    "\n",
    "```\n",
    "\"Se Condição1 então \n",
    "    Se Condição2 então \n",
    "        Comando1 \n",
    "Senão \n",
    "   Comando2 \n",
    "Comando3\" \n",
    "```\n",
    "\n",
    "Quando a Condição1 for verdadeira, a próxima instrução a ser executada será :\n",
    "```\n",
    " a) Comando2. \n",
    " b) Se Condição2 então. \n",
    " c) Comando1. \n",
    " d) Senão. \n",
    " e) Comando3.\n",
    "```"
   ]
  },
  {
   "cell_type": "markdown",
   "metadata": {},
   "source": [
    "(Banco da Amazônia - 2012) O comando while utilizado em algoritmos implementa laços com teste antecipado de condições, testando a condição e, sendo ela verdadeira, executando o bloco de comandos.\n",
    "\n",
    "(   ) Certo        (   ) Errado"
   ]
  },
  {
   "cell_type": "markdown",
   "metadata": {},
   "source": [
    "(TSE - 2012) As siglas e significados LIFO Last In, First Out e FIFO First In, First Out referem-se, respectivamente, às seguintes estruturas de dados\n",
    "```\n",
    "a) Fila e Pilha.\n",
    "b) Pilha e Fila.\n",
    "```"
   ]
  }
 ],
 "metadata": {
  "kernelspec": {
   "display_name": "Python 3",
   "language": "python",
   "name": "python3"
  },
  "language_info": {
   "codemirror_mode": {
    "name": "ipython",
    "version": 3
   },
   "file_extension": ".py",
   "mimetype": "text/x-python",
   "name": "python",
   "nbconvert_exporter": "python",
   "pygments_lexer": "ipython3",
   "version": "3.6.4"
  }
 },
 "nbformat": 4,
 "nbformat_minor": 2
}
