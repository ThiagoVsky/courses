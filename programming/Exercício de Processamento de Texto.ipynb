{
 "cells": [
  {
   "cell_type": "markdown",
   "metadata": {},
   "source": [
    "## Exercício de Processamento de Texto"
   ]
  },
  {
   "cell_type": "markdown",
   "metadata": {},
   "source": [
    "### Considere o texto abaixo, extraído da Wikipedia sobre linguagens de programação. "
   ]
  },
  {
   "cell_type": "markdown",
   "metadata": {},
   "source": [
    "Uma linguagem de programação é um método padronizado para comunicar instruções para um computador. É um conjunto de regras sintáticas e semânticas usadas para definir um programa de computador. Permite que um programador especifique precisamente sobre quais dados um computador vai atuar, como estes dados serão armazenados ou transmitidos e quais ações devem ser tomadas sob várias circunstâncias. Linguagens de programação podem ser usadas para expressar algoritmos com precisão. O conjunto de palavras (lexemas classificados em tokens), compostos de acordo com essas regras, constituem o código fonte de um software. Esse código fonte é depois traduzido para código de máquina, que é executado pelo microprocessador. Uma das principais metas das linguagens de programação é que programadores tenham uma maior produtividade, permitindo expressar suas intenções mais facilmente do que quando comparado com a linguagem que um computador entende nativamente (código de máquina). Assim, linguagens de programação são projetadas para adotar uma sintaxe de nível mais alto, que pode ser mais facilmente entendida por programadores humanos. Linguagens de programação são ferramentas importantes para que programadores e engenheiros de software possam escrever programas mais organizados e com maior rapidez. Linguagens de programação também tornam os programas menos dependentes de computadores ou ambientes computacionais específicos (propriedade chamada de portabilidade). Isto acontece porque programas escritos em linguagens de programação são traduzidos para o código de máquina do computador no qual será executado em vez de ser diretamente executado. Uma meta ambiciosa do Fortran, uma das primeiras linguagens de programação, era esta independência da máquina onde seria executada."
   ]
  },
  {
   "cell_type": "markdown",
   "metadata": {},
   "source": [
    "**Objetivo:** saber as palavras que aparecem mais de duas vezes no texto.\n",
    "\n",
    "**Instruções:**\n",
    "\n",
    "- Grupo 1: eliminar as stopwords e caracteres especiais\n",
    "- Grupo 2: colocar cada palavra em um vetor\n",
    "- Grupo 3: contar as palavras\n",
    "- Grupo 4: listar as que tem mais de x ocorrências\n",
    "\n",
    "**Obs:**\n",
    "\n",
    "- Escrevam pseudocódigo\n",
    "- A saída de cada grupo servirá como entrada do trabalho do grupo seguinte "
   ]
  },
  {
   "cell_type": "markdown",
   "metadata": {},
   "source": [
    "## Exemplo de solução"
   ]
  },
  {
   "cell_type": "markdown",
   "metadata": {},
   "source": [
    "Obs: Esteja a vontade para implementar outras soluções. Lembre-se que as linguagens de programação geralmente têm pacotes prontos para boa parte das operações de processamento de texto. Ou seja, o código abaixo pode ser bem menor e mais eficiente se usar recursos próprios das linguagens de programação."
   ]
  },
  {
   "cell_type": "code",
   "execution_count": 32,
   "metadata": {
    "collapsed": true
   },
   "outputs": [],
   "source": [
    "texto = \"Uma linguagem de programação é um método padronizado para comunicar instruções para um computador. É um conjunto de regras sintáticas e semânticas usadas para definir um programa de computador. Permite que um programador especifique precisamente sobre quais dados um computador vai atuar, como estes dados serão armazenados ou transmitidos e quais ações devem ser tomadas sob várias circunstâncias. Linguagens de programação podem ser usadas para expressar algoritmos com precisão. O conjunto de palavras (lexemas classificados em tokens), compostos de acordo com essas regras, constituem o código fonte de um software. Esse código fonte é depois traduzido para código de máquina, que é executado pelo microprocessador. Uma das principais metas das linguagens de programação é que programadores tenham uma maior produtividade, permitindo expressar suas intenções mais facilmente do que quando comparado com a linguagem que um computador entende nativamente (código de máquina). Assim, linguagens de programação são projetadas para adotar uma sintaxe de nível mais alto, que pode ser mais facilmente entendida por programadores humanos. Linguagens de programação são ferramentas importantes para que programadores e engenheiros de software possam escrever programas mais organizados e com maior rapidez. Linguagens de programação também tornam os programas menos dependentes de computadores ou ambientes computacionais específicos (propriedade chamada de portabilidade). Isto acontece porque programas escritos em linguagens de programação são traduzidos para o código de máquina do computador no qual será executado em vez de ser diretamente executado. Uma meta ambiciosa do Fortran, uma das primeiras linguagens de programação, era esta independência da máquina onde seria executada.\"\n"
   ]
  },
  {
   "cell_type": "code",
   "execution_count": 33,
   "metadata": {},
   "outputs": [
    {
     "name": "stdout",
     "output_type": "stream",
     "text": [
      "UMA => 6\n",
      "LINGUAGEM => 2\n",
      "PROGRAMAÇÃO => 8\n",
      "É => 5\n",
      "UM => 8\n",
      "COMPUTADOR => 5\n",
      "CONJUNTO => 2\n",
      "REGRAS => 2\n",
      "USADAS => 2\n",
      "QUAIS => 2\n",
      "DADOS => 2\n",
      "SER => 4\n",
      "LINGUAGENS => 7\n",
      "EXPRESSAR => 2\n",
      "O => 3\n",
      " => 3\n",
      "CÓDIGO => 5\n",
      "FONTE => 2\n",
      "SOFTWARE => 2\n",
      "MÁQUINA => 4\n",
      "EXECUTADO => 3\n",
      "PROGRAMADORES => 3\n",
      "MAIOR => 2\n",
      "MAIS => 4\n",
      "FACILMENTE => 2\n",
      "PROGRAMAS => 3\n"
     ]
    }
   ],
   "source": [
    "def eliminarStop(texto, palavra):\n",
    "    return texto.replace(palavra, \" \")\n",
    "\n",
    "def limpaTexto(texto):\n",
    "    # existem outras várias, procure pesquisar listas de stopwords em português\n",
    "    stopWords = [\" de \", \" que \", \" ou \", \" em \", \" e \", \" do \", \" da \", \" das \", \" são \", \" com \", \" para \"]\n",
    "    caracteres = [\".\", \",\", \":\",\"(\",\")\"]\n",
    "    \n",
    "    for l in stopWords:\n",
    "        texto = eliminarStop(texto, l)\n",
    "        \n",
    "    #eliminar caracteres especiais\n",
    "    for l in caracteres:\n",
    "        texto = eliminarStop(texto, l)\n",
    "\n",
    "    return texto\n",
    "\n",
    "def textToArray(texto):\n",
    "    palavras = []\n",
    "    palavra = \"\"\n",
    "    for letra in texto:\n",
    "        if letra==\" \" and len(palavra)>0:\n",
    "            palavras.append(palavra.replace(\" \",\"\").upper())\n",
    "            palavra=\"\"\n",
    "        elif letra!=\"\":\n",
    "            palavra +=letra\n",
    "        else:\n",
    "            palavra=\"\"\n",
    "            continue\n",
    "    return palavras\n",
    "    \n",
    "def contarPalavras(vetor):\n",
    "    dicionario = {}\n",
    "    for v in vetor:\n",
    "        if v in dicionario:\n",
    "            dicionario[v] = dicionario[v]+1\n",
    "        else:\n",
    "            dicionario[v] = 1\n",
    "    return dicionario\n",
    "    \n",
    "def listarPalavras(dic, cont):\n",
    "    for key,val in dic.items():\n",
    "        if val>=cont:\n",
    "            print(key, \"=>\", val)\n",
    "\n",
    "textoSemStopWords = limpaTexto(texto)\n",
    "vetorPalavras = textToArray(textoSemStopWords)\n",
    "contagemPalavras = contarPalavras(vetorPalavras)\n",
    "listarPalavras(contagemPalavras, 2)\n"
   ]
  },
  {
   "cell_type": "code",
   "execution_count": null,
   "metadata": {
    "collapsed": true
   },
   "outputs": [],
   "source": []
  }
 ],
 "metadata": {
  "kernelspec": {
   "display_name": "Python 3",
   "language": "python",
   "name": "python3"
  },
  "language_info": {
   "codemirror_mode": {
    "name": "ipython",
    "version": 3
   },
   "file_extension": ".py",
   "mimetype": "text/x-python",
   "name": "python",
   "nbconvert_exporter": "python",
   "pygments_lexer": "ipython3",
   "version": "3.6.1"
  }
 },
 "nbformat": 4,
 "nbformat_minor": 2
}
