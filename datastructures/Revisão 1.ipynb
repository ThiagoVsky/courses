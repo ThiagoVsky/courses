{
 "cells": [
  {
   "cell_type": "markdown",
   "metadata": {},
   "source": [
    "## Revisão"
   ]
  },
  {
   "cell_type": "markdown",
   "metadata": {},
   "source": [
    "**Operadores:**\n",
    "```\n",
    "(*): multiplicação\n",
    "(+): soma\n",
    "(-): subtração\n",
    "(/): divisão\n",
    "(**): potência\n",
    "(%): resto da divisão\n",
    "```"
   ]
  },
  {
   "cell_type": "markdown",
   "metadata": {},
   "source": [
    "**Funções:**\n",
    "\n",
    "```\n",
    "print: imprime um texto no console. Exemplo: print(\"Python\"), imprime Python na tela\n",
    "input: lê algo do teclado. Exemplo: nome = input(\"Qual é o seu nome\"), pede ao usuário para digitar algo e armazena na variável nome\n",
    "int: converte uma string para inteiro. Exemplo: int(\"3\"), converte a string \"3\" no número 3\n",
    "str: converte um inteiro para uma string. Exemplo: str(3), converte o número 3 na string \"3\"\n",
    "```"
   ]
  },
  {
   "cell_type": "markdown",
   "metadata": {},
   "source": [
    "1) Abaixo é implementada uma pilha. Quando os valores forem desempilhados, qual seria o primeiro valor a ser impresso?"
   ]
  },
  {
   "cell_type": "code",
   "execution_count": null,
   "metadata": {
    "collapsed": true
   },
   "outputs": [],
   "source": [
    "notas = []\n",
    "notas.append(8)\n",
    "notas.append(9)\n",
    "notas.append(4)"
   ]
  },
  {
   "cell_type": "markdown",
   "metadata": {},
   "source": [
    "2) Abaixo é implementada uma fila. Quando os valores forem tirados da fila, qual seria o primeiro valor a ser impresso?"
   ]
  },
  {
   "cell_type": "code",
   "execution_count": null,
   "metadata": {
    "collapsed": true
   },
   "outputs": [],
   "source": [
    "import queue\n",
    "notas = queue.Queue()\n",
    "notas.put(8)\n",
    "notas.put(9)\n",
    "notas.put(4)"
   ]
  },
  {
   "cell_type": "markdown",
   "metadata": {},
   "source": [
    "3) De acordo com o código abaixo, o que será impresso no final?"
   ]
  },
  {
   "cell_type": "code",
   "execution_count": null,
   "metadata": {
    "collapsed": true
   },
   "outputs": [],
   "source": [
    "lista = [\"C\",\"PHP\",\"Python\",\"Java\",\"C#\",\"R\",\"VB\",\"Julia\",\"Cobol\"]\n",
    "linguagens = []\n",
    "\n",
    "for item in lista:\n",
    "    linguagens.append(item)\n",
    "\n",
    "print(linguagens.pop())"
   ]
  },
  {
   "cell_type": "markdown",
   "metadata": {},
   "source": [
    "4) Para se remover um valor de uma lista, basta usar a função remove(x), onde x é o valor a ser removido. A função len retorna a quantidade de valores de uma lista/pilha. Dessa forma, de acordo com o código abaixo, o que será impresso no final?"
   ]
  },
  {
   "cell_type": "code",
   "execution_count": null,
   "metadata": {
    "collapsed": true
   },
   "outputs": [],
   "source": [
    "lista = [\"C\",\"PHP\",\"Python\",\"Java\",\"C#\",\"R\",\"VB\",\"Julia\",\"Cobol\"]\n",
    "linguagens = []\n",
    "\n",
    "for item in lista:\n",
    "    if len(linguagens)>6:\n",
    "        break\n",
    "    linguagens.append(item)\n",
    "\n",
    "print(len(linguagens))"
   ]
  },
  {
   "cell_type": "markdown",
   "metadata": {},
   "source": [
    "5) Considerando que a função range(inicio, fim) gera uma sequência numérica de  inicio a fim-1, o que acontecerá se o programa abaixo for executado?"
   ]
  },
  {
   "cell_type": "code",
   "execution_count": null,
   "metadata": {
    "collapsed": true
   },
   "outputs": [],
   "source": [
    "pilha = []\n",
    "for i in range(1,6):\n",
    "    pilha.append(1*3)\n",
    "print(pilha)"
   ]
  },
  {
   "cell_type": "markdown",
   "metadata": {},
   "source": [
    "6) Considerando uma fila de clientes, definida abaixo, quantos seriam atendidos e quem deixaria de ser atendido (do primeiro para o último) ao final da execução do programa abaixo?"
   ]
  },
  {
   "cell_type": "code",
   "execution_count": null,
   "metadata": {
    "collapsed": true
   },
   "outputs": [],
   "source": [
    "import queue\n",
    "fila = queue.Queue()\n",
    "\n",
    "fila.put(\"D\")\n",
    "fila.put(\"A\")\n",
    "fila.put(\"C\")\n",
    "fila.put(\"E\")\n",
    "fila.put(\"B\")\n",
    "fila.put(\"H\")\n",
    "fila.put(\"J\")\n",
    "fila.put(\"I\")\n",
    "\n",
    "for i in range(4):\n",
    "    print(\"Atendendo cliente:\", fila.get())"
   ]
  },
  {
   "cell_type": "markdown",
   "metadata": {},
   "source": [
    "7) O programa abaixo deve buscar uma linguagem digitada pelo usuário em uma lista com nomes de linguagens de programação, além de informar em qual posição da lista a linguagem está localizada. No entanto, ainda falta um ajuste no código para cumprir esse objetivo. Descreva esse ajuste, sem usar recursos de indexação em lista de Python"
   ]
  },
  {
   "cell_type": "code",
   "execution_count": null,
   "metadata": {
    "collapsed": true
   },
   "outputs": [],
   "source": [
    "lista = [\"C\",\"PHP\",\"Python\",\"Java\",\"C#\",\"R\",\"VB\",\"Julia\",\"Cobol\"]\n",
    "linguagem = input(\"Digite o nome de uma linguagem de programação\")\n",
    "\n",
    "posicao = 0\n",
    "\n",
    "for item in lista:\n",
    "    if item==linguagem:\n",
    "        print(\"Achou\")\n",
    "        break\n",
    "        \n",
    "print(\"A posição do elemento é\", posicao)"
   ]
  },
  {
   "cell_type": "markdown",
   "metadata": {},
   "source": [
    "8) (adaptado) Escreva um programa Python some os itens de uma lista."
   ]
  },
  {
   "cell_type": "code",
   "execution_count": null,
   "metadata": {
    "collapsed": true
   },
   "outputs": [],
   "source": []
  },
  {
   "cell_type": "markdown",
   "metadata": {},
   "source": [
    "9) (adaptado) Escreva um programa Python que retorne o maior número de uma lista, sem usar funções próprias da linguagem Python"
   ]
  },
  {
   "cell_type": "code",
   "execution_count": null,
   "metadata": {
    "collapsed": true
   },
   "outputs": [],
   "source": []
  },
  {
   "cell_type": "markdown",
   "metadata": {},
   "source": [
    "10) Escreva um programa que pergunte ao usuário o tamanho máximo de uma lista e gere uma nova lista copiando os valores da lista antiga até que se atinja o tamanho máximo. No exemplo abaixo, se o usuário digitar 2, a nova lista terá C e PHP apenas."
   ]
  },
  {
   "cell_type": "code",
   "execution_count": null,
   "metadata": {
    "collapsed": true
   },
   "outputs": [],
   "source": [
    "lista = [\"C\",\"PHP\",\"Python\",\"Java\",\"C#\",\"R\",\"VB\",\"Julia\",\"Cobol\"]"
   ]
  },
  {
   "cell_type": "markdown",
   "metadata": {},
   "source": [
    "11) (Princeton) Escreva um programa que lê uma seqüência de caracteres e os imprime em ordem inversa. Use uma pilha e não use funções da linguagem."
   ]
  },
  {
   "cell_type": "code",
   "execution_count": null,
   "metadata": {
    "collapsed": true
   },
   "outputs": [],
   "source": [
    "texto = input(\"Digite uma frase para ser invertida\")\n",
    "for letra in texto:\n",
    "    #continue a partir daqui"
   ]
  },
  {
   "cell_type": "markdown",
   "metadata": {},
   "source": [
    "12) Escreva um programa que lê num inteiro positivo e imprima o binário    representação desse número inteiro. Dica: divida o número inteiro por 2 e o método int() transforma um número decimal em inteiro"
   ]
  },
  {
   "cell_type": "code",
   "execution_count": 14,
   "metadata": {},
   "outputs": [
    {
     "name": "stdout",
     "output_type": "stream",
     "text": [
      "Digite um número156\n",
      "[0, 0, 1, 1, 1, 0, 0, 1]\n"
     ]
    }
   ],
   "source": [
    "num = int(input(\"Digite um número\"))\n"
   ]
  },
  {
   "cell_type": "markdown",
   "metadata": {},
   "source": [
    "13) Crie um programa que peça ao usuário que digite quantas notas quiser (uma por vez). Ou seja, seu programa deverá funcionar se o usuário digitar 3, 4 ou 10 notas. Após digitar as notas, seu sistema deverá informar se o aluno foi aprovado (a média mínima é 6)"
   ]
  },
  {
   "cell_type": "code",
   "execution_count": null,
   "metadata": {
    "collapsed": true
   },
   "outputs": [],
   "source": []
  },
  {
   "cell_type": "markdown",
   "metadata": {},
   "source": [
    "14) Crie um programa que peça ao usuário para armazenar uma tarefa ou voltar atrás. Ao final, seu programa deverá imprimir quais tarefas ficaram pendentes"
   ]
  },
  {
   "cell_type": "code",
   "execution_count": null,
   "metadata": {
    "collapsed": true
   },
   "outputs": [],
   "source": []
  },
  {
   "cell_type": "markdown",
   "metadata": {},
   "source": [
    "15) Dada a lista abaixo, crie um programa que imprima o valor e sua posição na lista"
   ]
  },
  {
   "cell_type": "code",
   "execution_count": 16,
   "metadata": {},
   "outputs": [
    {
     "name": "stdout",
     "output_type": "stream",
     "text": [
      "True\n"
     ]
    }
   ],
   "source": [
    "lista = [\"C\",\"PHP\",\"Python\",\"Java\",\"C#\",\"R\",\"VB\",\"Julia\",\"Cobol\"]"
   ]
  },
  {
   "cell_type": "markdown",
   "metadata": {},
   "source": [
    "16) Crie um programa para que pergunte ao usuário dois nomes de linguagens e substitua na lista abaixo a primeira pela segunda. Se o usuário digitar Cobol e depois SQL, seu código deverá trocar Cobol por SQL na lista abaixo"
   ]
  },
  {
   "cell_type": "code",
   "execution_count": 19,
   "metadata": {},
   "outputs": [
    {
     "name": "stdout",
     "output_type": "stream",
     "text": [
      "Digite uma linguagem que sairád\n",
      "Digite uma linguagem novad\n"
     ]
    }
   ],
   "source": [
    "lista = [\"C\",\"PHP\",\"Python\",\"Java\",\"C#\",\"R\",\"VB\",\"Julia\",\"Cobol\"]\n",
    "l1 = input(\"Digite uma linguagem que sairá\")\n",
    "l2 = input(\"Digite uma linguagem nova\")\n"
   ]
  },
  {
   "cell_type": "markdown",
   "metadata": {},
   "source": [
    "17) Crie um programa que conte o número de ocorrências de um elemento em uma lista. Você não deve usar funções prontas de Python"
   ]
  },
  {
   "cell_type": "code",
   "execution_count": null,
   "metadata": {
    "collapsed": true
   },
   "outputs": [],
   "source": [
    "lista = [\"C\",\"PHP\",\"Python\",\"C\", \"PHP\", \"Java\", \"C\"]\n",
    "linguagem = input(\"Digite o nome de uma linguagem\")"
   ]
  }
 ],
 "metadata": {
  "kernelspec": {
   "display_name": "Python 3",
   "language": "python",
   "name": "python3"
  },
  "language_info": {
   "codemirror_mode": {
    "name": "ipython",
    "version": 3
   },
   "file_extension": ".py",
   "mimetype": "text/x-python",
   "name": "python",
   "nbconvert_exporter": "python",
   "pygments_lexer": "ipython3",
   "version": "3.6.1"
  }
 },
 "nbformat": 4,
 "nbformat_minor": 2
}
