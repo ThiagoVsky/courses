{
 "cells": [
  {
   "cell_type": "markdown",
   "metadata": {},
   "source": [
    "Questão 1: Considerando o programa abaixo e sabendo que o usuário digitou 3 e 6 (nessa ordem), preencha no campo resposta o valor final da variável total:"
   ]
  },
  {
   "cell_type": "code",
   "execution_count": 1,
   "metadata": {},
   "outputs": [
    {
     "name": "stdout",
     "output_type": "stream",
     "text": [
      "Digite um número3\n",
      "Digite outro número6\n",
      "O novo número é  7.5\n"
     ]
    }
   ],
   "source": [
    "num1 = int(input(\"Digite um número\"))\n",
    "num2 = int(input(\"Digite outro número\"))\n",
    "\n",
    "total = num2 + num1/2\n",
    "\n",
    "print(\"O novo número é \", total)"
   ]
  },
  {
   "cell_type": "markdown",
   "metadata": {},
   "source": [
    "Questão 2: Considerando o programa abaixo e sabendo que o usuário digitou 200 e 40 (nessa ordem), o que seria impresso na ordem exata de execução?"
   ]
  },
  {
   "cell_type": "code",
   "execution_count": 2,
   "metadata": {},
   "outputs": [
    {
     "name": "stdout",
     "output_type": "stream",
     "text": [
      "Digite o valor do salário300\n",
      "Digite o percentual de aumento20\n",
      "360.0\n",
      "300.0\n"
     ]
    }
   ],
   "source": [
    "salario = float(input(\"Digite o valor do salário\"))\n",
    "aumento = float(input(\"Digite o percentual de aumento\"))\n",
    "\n",
    "novoSalario = salario*(1+aumento/100)\n",
    "\n",
    "print(novoSalario)\n",
    "print(salario)"
   ]
  },
  {
   "cell_type": "markdown",
   "metadata": {},
   "source": [
    "Questão 3: O programa abaixo foi executado diversas vezes e, após o usuário digitar um valor, o programa imprimiu a situação do aluno. Para cada valor digitado, coloque do lado a situação do aluno (“Reprovado”, “Recuperação” ou “Aprovado”):"
   ]
  },
  {
   "cell_type": "code",
   "execution_count": 7,
   "metadata": {},
   "outputs": [
    {
     "name": "stdout",
     "output_type": "stream",
     "text": [
      "Qual a média do aluno?5\n",
      "Reprovado\n"
     ]
    }
   ],
   "source": [
    "media = float(input(\"Qual a média do aluno?\"))\n",
    "\n",
    "if 0 < media <=5:\n",
    "    print(\"Reprovado\")\n",
    "else:\n",
    "    if 5 < media < 6:\n",
    "        print(\"Recuperação\")\n",
    "    else:\n",
    "        print(\"Aprovado\")"
   ]
  },
  {
   "cell_type": "markdown",
   "metadata": {},
   "source": [
    "| Valor Digitado | Situação |\n",
    "| --- |--- |\n",
    "| 1 | Reprovado |\n",
    "| 9| Aprovado |\n",
    "| -2 | Aprovado |\n",
    "| 6 | Aprovado |\n",
    "| 5 | Reprovado |"
   ]
  },
  {
   "cell_type": "markdown",
   "metadata": {},
   "source": [
    "Questão 4: Para cada execução do programa abaixo, indique na tabela os valores finais das variáveis precoA e precoB:"
   ]
  },
  {
   "cell_type": "code",
   "execution_count": 13,
   "metadata": {},
   "outputs": [
    {
     "name": "stdout",
     "output_type": "stream",
     "text": [
      "Digite o valor do produto 180\n",
      "Digite o valor do produto 290\n",
      "190\n",
      "90\n"
     ]
    }
   ],
   "source": [
    "precoA = int(input(\"Digite o valor do produto 1\"))\n",
    "precoB = int(input(\"Digite o valor do produto 2\"))\n",
    "\n",
    "if precoA>precoB:\n",
    "    precoB = precoB*2\n",
    "else:\n",
    "    if precoA==precoB:\n",
    "        precoB = precoB*1.5\n",
    "    else:\n",
    "        precoA = precoB*2 + 10\n",
    "\n",
    "print(precoA)\n",
    "print(precoB)"
   ]
  },
  {
   "cell_type": "markdown",
   "metadata": {},
   "source": [
    "| Valor Digitado 1 | Valor Digitado 2 | precoA | precoB\n",
    "| --- |--- | --- |--- |\n",
    "| 150 | 300 | 610 | 300 |\n",
    "| 10 | 30 | 70 | 30 |\n",
    "| 20 | 5 | 20 | 10  |\n",
    "| 40 | 40 | 40 | 60  |\n",
    "| 80 | 90 | 190 | 90 |"
   ]
  },
  {
   "cell_type": "markdown",
   "metadata": {},
   "source": [
    "Questão 5: Ao executar o programa abaixo, qual é a média final do aluno?"
   ]
  },
  {
   "cell_type": "code",
   "execution_count": 14,
   "metadata": {},
   "outputs": [
    {
     "name": "stdout",
     "output_type": "stream",
     "text": [
      "Média 8.0\n"
     ]
    }
   ],
   "source": [
    "notas = (7,4,3,8)\n",
    "soma = 10\n",
    "for nota in notas:\n",
    "    soma = soma + nota\n",
    "print(\"Média\", soma/4)"
   ]
  },
  {
   "cell_type": "markdown",
   "metadata": {},
   "source": [
    "Questão 6: Ao executar o programa abaixo, o usuário digitou DF e SP (nessa ordem). Qual será o valor final da variável percentual?"
   ]
  },
  {
   "cell_type": "code",
   "execution_count": 15,
   "metadata": {},
   "outputs": [
    {
     "name": "stdout",
     "output_type": "stream",
     "text": [
      "Digite um estadoDF\n",
      "Digite outro estadoSP\n",
      "Percentual 5\n"
     ]
    }
   ],
   "source": [
    "origem = input(\"Digite um estado\")\n",
    "destino = input(\"Digite outro estado\")\n",
    "\n",
    "percentual = 18\n",
    "\n",
    "if origem==\"SP\" and destino==\"DF\":\n",
    "    percentual = 12\n",
    "if origem==\"GO\" or destino==\"DF\":\n",
    "    percentual = 7\n",
    "else:\n",
    "    percentual = 5\n",
    "    \n",
    "print(\"Percentual\", percentual)"
   ]
  },
  {
   "cell_type": "markdown",
   "metadata": {},
   "source": [
    "Questão 7: Um usuário pretendia digitar os números 3, 4, 1,2, 2, -2, 1, 2, 3, 1, 2, 0, mas o programa encerrou antes que ele digitasse todos os valores. Qual foi o último valor digitado?"
   ]
  },
  {
   "cell_type": "code",
   "execution_count": 17,
   "metadata": {},
   "outputs": [
    {
     "name": "stdout",
     "output_type": "stream",
     "text": [
      "Digite um número de 1 a 103\n",
      "Digite um número de 1 a 104\n",
      "Digite um número de 1 a 101\n",
      "Digite um número de 1 a 102\n",
      "Digite um número de 1 a 102\n",
      "3.0\n"
     ]
    }
   ],
   "source": [
    "soma = 0\n",
    "rodadas = 10\n",
    "num = 0\n",
    "while soma <= rodadas:\n",
    "    num = int(input(\"Digite um número de 1 a 10\"))\n",
    "    soma = soma + num\n",
    "    if soma > 20:\n",
    "        break\n",
    "print(soma/4)"
   ]
  },
  {
   "cell_type": "markdown",
   "metadata": {},
   "source": [
    "Questão 8: Ao executar o programa abaixo, qual será o valor final da variável mediaFinal:"
   ]
  },
  {
   "cell_type": "code",
   "execution_count": 18,
   "metadata": {},
   "outputs": [
    {
     "name": "stdout",
     "output_type": "stream",
     "text": [
      "5.0\n"
     ]
    }
   ],
   "source": [
    "notas = (8,5,7,3)\n",
    "mediaFinal = 0\n",
    "soma = 0\n",
    "\n",
    "for i in notas:\n",
    "    if i < 4:\n",
    "        mediaFinal = 0\n",
    "    else:\n",
    "        soma = soma + i\n",
    "\n",
    "mediaFinal = soma / 4\n",
    "print(mediaFinal)"
   ]
  },
  {
   "cell_type": "markdown",
   "metadata": {},
   "source": [
    "Questão 9: Para evitar cálculos manuais, um cliente lhe solicitou que implementasse um programa de cálculo de reajuste de preços de 8 produtos da sua empresa mas lhe pediu que esse programa possa ser usado depois para cálculo de reajuste de outras listas de produtos. Continue a implementação abaixo desse programa considerando os requisitos acima, sabendo que você só precisa implementar de 2 a 4 linhas para o cálculo e uma para imprimir os novos valores de cada produto."
   ]
  },
  {
   "cell_type": "code",
   "execution_count": 19,
   "metadata": {},
   "outputs": [
    {
     "name": "stdout",
     "output_type": "stream",
     "text": [
      "O novo preço é 120.0\n",
      "O novo preço é 72.0\n",
      "O novo preço é 24.0\n",
      "O novo preço é 36.0\n",
      "O novo preço é 6.0\n",
      "O novo preço é 24.0\n"
     ]
    }
   ],
   "source": [
    "precos = (100,60,20,30,5,20)\n",
    "reajuste = 1.20\n",
    "\n",
    "for preco in precos:\n",
    "    print(\"O novo preço é\", preco*reajuste)"
   ]
  }
 ],
 "metadata": {
  "kernelspec": {
   "display_name": "Python 3",
   "language": "python",
   "name": "python3"
  },
  "language_info": {
   "codemirror_mode": {
    "name": "ipython",
    "version": 3
   },
   "file_extension": ".py",
   "mimetype": "text/x-python",
   "name": "python",
   "nbconvert_exporter": "python",
   "pygments_lexer": "ipython3",
   "version": "3.6.1"
  }
 },
 "nbformat": 4,
 "nbformat_minor": 2
}
