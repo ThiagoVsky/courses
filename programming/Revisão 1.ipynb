{
 "cells": [
  {
   "cell_type": "markdown",
   "metadata": {},
   "source": [
    "## Revisão"
   ]
  },
  {
   "cell_type": "markdown",
   "metadata": {},
   "source": [
    "**Operadores:**\n",
    "```\n",
    "(*): multiplicação\n",
    "(+): soma\n",
    "(-): subtração\n",
    "(/): divisão\n",
    "(**): potência\n",
    "(%): resto da divisão\n",
    "```"
   ]
  },
  {
   "cell_type": "markdown",
   "metadata": {},
   "source": [
    "**Funções:**\n",
    "\n",
    "```\n",
    "print: imprime um texto no console. Exemplo: print(\"Python\"), imprime Python na tela\n",
    "input: lê algo do teclado. Exemplo: nome = input(\"Qual é o seu nome\"), pede ao usuário para digitar algo e armazena na variável nome\n",
    "int: converte uma string para inteiro. Exemplo: int(\"3\"), converte a string \"3\" no número 3\n",
    "str: converte um inteiro para uma string. Exemplo: str(3), converte o número 3 na string \"3\"\n",
    "```"
   ]
  },
  {
   "cell_type": "markdown",
   "metadata": {},
   "source": [
    "1) Considerando o código abaixo, o que seria impresso ao final do programa?"
   ]
  },
  {
   "cell_type": "code",
   "execution_count": null,
   "metadata": {
    "collapsed": true
   },
   "outputs": [],
   "source": [
    "i = 3\n",
    "j = 4\n",
    "h = i * j\n",
    "print(h/3)"
   ]
  },
  {
   "cell_type": "markdown",
   "metadata": {},
   "source": [
    "2) Supondo que o usuário digitou 100, o que será impresso ao final do programa?\n",
    "\n",
    "```\n",
    "(a) 375   (b) 100  (c) 125  (d) 250  (e) 200\n",
    "```"
   ]
  },
  {
   "cell_type": "code",
   "execution_count": null,
   "metadata": {
    "collapsed": true
   },
   "outputs": [],
   "source": [
    "valor = int(input(\"Qual é o valor do produto?\"))\n",
    "valor = 300\n",
    "print(200*1.25)"
   ]
  },
  {
   "cell_type": "markdown",
   "metadata": {},
   "source": [
    "3) Considere o programa abaixo, no qual o usuário deve calcular a temperatura em graus fahrenheit para uma dada entrada em Celsius. O que o usuário deve digitar para que seja impresso 308 ao final do programa?\n"
   ]
  },
  {
   "cell_type": "code",
   "execution_count": null,
   "metadata": {
    "collapsed": true
   },
   "outputs": [],
   "source": [
    "temp = int(input(\"Digite a temperatura em Celsius\"))\n",
    "f = temp + 273\n",
    "print(temp)"
   ]
  },
  {
   "cell_type": "markdown",
   "metadata": {},
   "source": [
    "4) Uma empresa deseja criar um sistema para aumentar o salário de seus funcionários a partir de um percentual de reajuste. Para resolver esse problema o desenvolvedor implementou o código ilustrado a seguir. Na execução do programa, o que deve ser digitado pelo usuário para que seja impresso 1250 no final?\n"
   ]
  },
  {
   "cell_type": "code",
   "execution_count": null,
   "metadata": {
    "collapsed": true
   },
   "outputs": [],
   "source": [
    "salario = int(input(\"Qual o salário do funcionário?\"))\n",
    "percentual = 25\n",
    "novoSalario = salario*(1+(percentual/100))\n",
    "print(\"O novo salário é?\", salario)"
   ]
  },
  {
   "cell_type": "markdown",
   "metadata": {},
   "source": [
    "5) Considere o cálculo da área de um triângulo retângulo, em que divide-se por 2 o produto da base pela altura.Exemplo: se um retângulo tem base 10 e altura 8, qual seria a área? Implemente usando variáveis para todos os valores manipulados. "
   ]
  },
  {
   "cell_type": "code",
   "execution_count": null,
   "metadata": {
    "collapsed": true
   },
   "outputs": [],
   "source": []
  },
  {
   "cell_type": "markdown",
   "metadata": {},
   "source": [
    "6) O que será impresso ao final do programa abaixo, caso o usuário digite 8 e 5, respectivamente."
   ]
  },
  {
   "cell_type": "code",
   "execution_count": null,
   "metadata": {
    "collapsed": true
   },
   "outputs": [],
   "source": [
    "nota1 = int(input(\"Digite a primeira nota\"))\n",
    "nota2 = int(input(\"Digite a primeira nota\"))\n",
    "\n",
    "if nota1+nota2/2>6:\n",
    "    print(\"Aprovado\")\n",
    "else:\n",
    "    print(\"Reprovado\")"
   ]
  },
  {
   "cell_type": "markdown",
   "metadata": {},
   "source": [
    "7) O código acima tem um erro de lógica, em que o aluno é considerado aprovado mesmo que sua média seja menor do que 6. Descreva o que deveria ser feito para que esse erro seja corrigido."
   ]
  },
  {
   "cell_type": "code",
   "execution_count": null,
   "metadata": {
    "collapsed": true
   },
   "outputs": [],
   "source": []
  },
  {
   "cell_type": "markdown",
   "metadata": {},
   "source": [
    "8) Analisando o código abaixo, qual seria o valor final do percentual se o usuário digitar SP e DF (nessa ordem)?"
   ]
  },
  {
   "cell_type": "code",
   "execution_count": 1,
   "metadata": {},
   "outputs": [
    {
     "name": "stdout",
     "output_type": "stream",
     "text": [
      "Digite um estadoDF\n",
      "Digite outro estadoSP\n",
      "Percentual 5\n"
     ]
    }
   ],
   "source": [
    "origem = input(\"Digite um estado\")\n",
    "destino = input(\"Digite outro estado\")\n",
    "\n",
    "percentual = 18\n",
    "\n",
    "if origem==\"SP\" and destino==\"DF\":\n",
    "    percentual = 12\n",
    "if origem==\"GO\" or destino==\"DF\":\n",
    "    percentual = 7\n",
    "else:\n",
    "    percentual = 5\n",
    "    \n",
    "print(\"Percentual\", percentual)"
   ]
  },
  {
   "cell_type": "code",
   "execution_count": 3,
   "metadata": {},
   "outputs": [
    {
     "name": "stdout",
     "output_type": "stream",
     "text": [
      "Digite um estadoDF\n",
      "Digite outro estadoSP\n",
      "Percentual 18\n"
     ]
    }
   ],
   "source": [
    "origem = input(\"Digite um estado\")\n",
    "destino = input(\"Digite outro estado\")\n",
    "\n",
    "percentual = 18\n",
    "\n",
    "if origem==\"SP\" and destino==\"DF\":\n",
    "    percentual = 12\n",
    "if origem==\"GO\" or destino==\"DF\":\n",
    "    percentual = 7\n",
    "else:\n",
    "    percentual = 5\n",
    "    \n",
    "print(\"Percentual\", percentual)"
   ]
  },
  {
   "cell_type": "markdown",
   "metadata": {},
   "source": [
    "9) Se o usuário digitar 3 e 5, respectivamente, o que seria impresso no final?"
   ]
  },
  {
   "cell_type": "code",
   "execution_count": null,
   "metadata": {
    "collapsed": true
   },
   "outputs": [],
   "source": [
    "a = int(input(\"Digite a primeira nota\"))\n",
    "b = int(input(\"Digite a primeira nota\"))\n",
    "c = 0\n",
    "\n",
    "if a>b:\n",
    "    c = a*b+1\n",
    "elif a==b:\n",
    "    c = a**2\n",
    "else:\n",
    "    c = b**2\n",
    "    \n",
    "print(c)"
   ]
  },
  {
   "cell_type": "code",
   "execution_count": 5,
   "metadata": {},
   "outputs": [
    {
     "name": "stdout",
     "output_type": "stream",
     "text": [
      "Digite a primeira nota3\n",
      "Digite a primeira nota5\n",
      "9\n"
     ]
    }
   ],
   "source": [
    "a = int(input(\"Digite a primeira nota\"))\n",
    "b = int(input(\"Digite a primeira nota\"))\n",
    "c = 0\n",
    "\n",
    "if a>b:\n",
    "    c = a*b+1\n",
    "elif a<b:\n",
    "    c = a**2\n",
    "if a>b or a==b:\n",
    "    c = b\n",
    "    \n",
    "print(c)"
   ]
  },
  {
   "cell_type": "markdown",
   "metadata": {},
   "source": [
    "10) Quantas vezes será executada a instrução de impressão?"
   ]
  },
  {
   "cell_type": "code",
   "execution_count": null,
   "metadata": {
    "collapsed": true
   },
   "outputs": [],
   "source": [
    "notas = (10, 4, 6, 8, 9)\n",
    "\n",
    "for nota in notas:\n",
    "    print(nota)\n",
    "    if nota<6:\n",
    "        break"
   ]
  },
  {
   "cell_type": "markdown",
   "metadata": {},
   "source": [
    "11) Como você modificaria o código acima para que, caso o aluno tire uma nota menor do que 6, ele já seja considerado reprovado?"
   ]
  },
  {
   "cell_type": "code",
   "execution_count": null,
   "metadata": {
    "collapsed": true
   },
   "outputs": [],
   "source": []
  },
  {
   "cell_type": "markdown",
   "metadata": {},
   "source": [
    "12) O código abaixo só será encerrado se o usuário digitar a letra \"x\". Se o usuário digitar (nessa ordem) \"a\", \"d\", \"t\", \"x\", quantas vezes será impressa a frase \"Final do programa\"?"
   ]
  },
  {
   "cell_type": "code",
   "execution_count": null,
   "metadata": {
    "collapsed": true
   },
   "outputs": [],
   "source": [
    "while True:\n",
    "    letra = input(\"Digite uma letra\")\n",
    "    if letra==\"x\":\n",
    "        break\n",
    "print(\"Final do programa\")"
   ]
  },
  {
   "cell_type": "markdown",
   "metadata": {},
   "source": [
    "13) O que será impresso ao executar o código abaixo?\n",
    "\n",
    "```\n",
    "a) Python 2x   b) Python 3x   c) Python 1x\n",
    "```"
   ]
  },
  {
   "cell_type": "code",
   "execution_count": null,
   "metadata": {
    "collapsed": true
   },
   "outputs": [],
   "source": [
    "i = 0\n",
    "while (i < 3): \n",
    "    print(\"Python\");\n",
    "    i+=1\n"
   ]
  },
  {
   "cell_type": "markdown",
   "metadata": {},
   "source": [
    "14) O que será impresso ao executar o código abaixo?\n",
    "```\n",
    "a) Executando 2x e Fim  b) Executando 3x e Fim c) Executando 2x e Fim 2x\n",
    "```"
   ]
  },
  {
   "cell_type": "code",
   "execution_count": null,
   "metadata": {
    "collapsed": true
   },
   "outputs": [],
   "source": [
    "i = 0\n",
    "while (i < 3):\n",
    "    print(\"Executando\")\n",
    "    i+=1\n",
    "\n",
    "print(\"Fim\")"
   ]
  },
  {
   "cell_type": "markdown",
   "metadata": {},
   "source": [
    "15) O que será impresso ao executar o código abaixo?\n",
    "```\n",
    "a) Imprimirá Python 3x  b) Imprimirá Python 2x  c) Não imprimirá nada\n",
    "```"
   ]
  },
  {
   "cell_type": "code",
   "execution_count": null,
   "metadata": {
    "collapsed": true
   },
   "outputs": [],
   "source": [
    "i = 3\n",
    "while i < 0:\n",
    "    print(\"Python\")\n"
   ]
  },
  {
   "cell_type": "markdown",
   "metadata": {},
   "source": [
    "16) O que será impresso no final?\n",
    "\n",
    "```\n",
    "a) 6   b) 5    c) 7     d) 4\n",
    "```"
   ]
  },
  {
   "cell_type": "code",
   "execution_count": null,
   "metadata": {
    "collapsed": true
   },
   "outputs": [],
   "source": [
    "x = 3\n",
    "i = 0\n",
    "while i < 3:\n",
    "  x += 1\n",
    "  i += 1\n",
    "\n",
    "print(x)"
   ]
  },
  {
   "cell_type": "markdown",
   "metadata": {},
   "source": [
    "17) O que será impresso ao executar esse código?\n",
    "\n",
    "```\n",
    "a) Dará erro   \n",
    "b) Imprimirá 4, 5 e 6 \n",
    "c) Imprimirá 3 e 4\n",
    "d) Imprimirá 3, 4 e 5 \n",
    "e) Imprimirá 4 e 5\n",
    "```"
   ]
  },
  {
   "cell_type": "code",
   "execution_count": null,
   "metadata": {
    "collapsed": true
   },
   "outputs": [],
   "source": [
    "i = 3\n",
    "while i < 6:\n",
    "    print(i)\n",
    "    i += 1\n"
   ]
  },
  {
   "cell_type": "markdown",
   "metadata": {},
   "source": [
    "18) O que será aconterá se rodar o código abaixo?\n",
    "\n",
    "```\n",
    "a) Imprimirá 0 e 1  \n",
    "b) Imprimirá 1, 2 e 3\n",
    "c) Imprimirá 1, 2, 3 e 4\n",
    "d) Imprimirá 0, 1 e 2\n",
    "e) Imprimirá 1 e 2\n",
    "```"
   ]
  },
  {
   "cell_type": "code",
   "execution_count": null,
   "metadata": {
    "collapsed": true
   },
   "outputs": [],
   "source": [
    "i = 0\n",
    "while i < 3:\n",
    "    print(i)\n",
    "    i += 1\n"
   ]
  },
  {
   "cell_type": "markdown",
   "metadata": {},
   "source": [
    "19) Construa um programa que lerá uma sequência de caracteres informada pelo usuário e informará quantas vogais tem. "
   ]
  },
  {
   "cell_type": "code",
   "execution_count": null,
   "metadata": {
    "collapsed": true
   },
   "outputs": [],
   "source": [
    "texto = input(\"Digite uma frase para que se conte as vogais\")\n",
    "for letra in texto:\n",
    "    print(letra)\n",
    "    #continue a partir daqui"
   ]
  },
  {
   "cell_type": "markdown",
   "metadata": {},
   "source": [
    "20) O código abaixo retorna o mês corrente em forma numérica. Você deve completá-lo de modo que seja impresso o mês por extenso, sem usar funções próprias da linguagem"
   ]
  },
  {
   "cell_type": "code",
   "execution_count": null,
   "metadata": {
    "collapsed": true
   },
   "outputs": [],
   "source": [
    "from datetime import datetime\n",
    "\n",
    "data = datetime.now()\n",
    "mes = data.month"
   ]
  },
  {
   "cell_type": "markdown",
   "metadata": {},
   "source": [
    "21) Escreva um programa que pergunte ao usuário uma mensagem e o número de vezes essa mensagem deve ser impressa. Após a digitação, seu código deverá imprimir essa mensagem de acordo com o número de vezes solicitado"
   ]
  },
  {
   "cell_type": "code",
   "execution_count": null,
   "metadata": {
    "collapsed": true
   },
   "outputs": [],
   "source": []
  },
  {
   "cell_type": "markdown",
   "metadata": {},
   "source": [
    "22) Crie um programa que peça dois números, a e b. Após o usuário digitar esses números, seu programa deve imprimir todos os números múltiplos de b existentes entre 1 e a. "
   ]
  },
  {
   "cell_type": "code",
   "execution_count": null,
   "metadata": {
    "collapsed": true
   },
   "outputs": [],
   "source": []
  },
  {
   "cell_type": "markdown",
   "metadata": {},
   "source": [
    "23) Escreva um programa que, dado um texto, informe quantas palavras tem. Por exemplo: a frase \"Lorem ipsum dolor sit amet, consectetur adipiscing elit. Vivamus tempus.\" tem 10 palavras."
   ]
  },
  {
   "cell_type": "code",
   "execution_count": null,
   "metadata": {
    "collapsed": true
   },
   "outputs": [],
   "source": []
  }
 ],
 "metadata": {
  "kernelspec": {
   "display_name": "Python 3",
   "language": "python",
   "name": "python3"
  },
  "language_info": {
   "codemirror_mode": {
    "name": "ipython",
    "version": 3
   },
   "file_extension": ".py",
   "mimetype": "text/x-python",
   "name": "python",
   "nbconvert_exporter": "python",
   "pygments_lexer": "ipython3",
   "version": "3.6.1"
  }
 },
 "nbformat": 4,
 "nbformat_minor": 2
}
