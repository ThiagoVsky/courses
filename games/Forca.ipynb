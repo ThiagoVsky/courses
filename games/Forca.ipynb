{
 "cells": [
  {
   "cell_type": "markdown",
   "metadata": {},
   "source": [
    "# Exemplo de implementação da Forca"
   ]
  },
  {
   "cell_type": "code",
   "execution_count": null,
   "metadata": {
    "collapsed": true
   },
   "outputs": [],
   "source": [
    "import random\n",
    "\n",
    "f = open('../python/languages_names.txt')\n",
    "palavras = []\n",
    "for i in f:\n",
    "    palavras.append(i.lower().replace(\" \",\"\").replace(\"\\n\",\"\"))"
   ]
  },
  {
   "cell_type": "code",
   "execution_count": null,
   "metadata": {},
   "outputs": [],
   "source": [
    "palavra = palavras[random.randint(0,len(palavras)-1)]\n",
    "tentativas = 2 * len(palavra)\n",
    "chutes = []\n",
    "guess = [\"_\"] * len(palavra)\n",
    "falta = len(palavra)\n",
    "\n",
    "print(\"A palavra é\", guess)\n",
    "\n",
    "while tentativas>0:\n",
    "    if falta==0:\n",
    "        print(\"Ganhou!!!!\")\n",
    "        break\n",
    "    tentativas-=1\n",
    "    letra = input(\"\")\n",
    "    if letra in chutes:\n",
    "        print(\"Vc já disse essa \")\n",
    "    else:\n",
    "        chutes.append(letra)\n",
    "    indices = [i for i, x in enumerate(palavra) if x == letra]\n",
    "    if len(indices)>0:\n",
    "        for pos in indices:\n",
    "            falta-=1\n",
    "            guess[pos] = letra\n",
    "        print(guess)\n",
    "    else:\n",
    "        print(\"Errou!!! Faltam {} tentativas\".format(tentativas))\n",
    "    \n",
    "print(\"A palavra era:\", palavra)"
   ]
  }
 ],
 "metadata": {
  "kernelspec": {
   "display_name": "Python 3",
   "language": "python",
   "name": "python3"
  },
  "language_info": {
   "codemirror_mode": {
    "name": "ipython",
    "version": 3
   },
   "file_extension": ".py",
   "mimetype": "text/x-python",
   "name": "python",
   "nbconvert_exporter": "python",
   "pygments_lexer": "ipython3",
   "version": "3.6.1"
  }
 },
 "nbformat": 4,
 "nbformat_minor": 2
}
