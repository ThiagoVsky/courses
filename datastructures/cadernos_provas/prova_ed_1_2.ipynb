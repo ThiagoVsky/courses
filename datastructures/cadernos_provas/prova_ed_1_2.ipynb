{
 "cells": [
  {
   "cell_type": "markdown",
   "metadata": {},
   "source": [
    "Questão 1: Qual o valor final da variável usuário?"
   ]
  },
  {
   "cell_type": "code",
   "execution_count": 1,
   "metadata": {},
   "outputs": [
    {
     "name": "stdout",
     "output_type": "stream",
     "text": [
      "B\n"
     ]
    }
   ],
   "source": [
    "pilha = []\n",
    "\n",
    "pilha.append(\"G\")\n",
    "pilha.append(\"M\")\n",
    "pilha.append(\"L\")\n",
    "pilha.append(\"R\")\n",
    "\n",
    "usuario = pilha.pop()\n",
    "\n",
    "print(usuario)"
   ]
  },
  {
   "cell_type": "markdown",
   "metadata": {},
   "source": [
    "Questão 2: Qual o valor final da variável usuário?"
   ]
  },
  {
   "cell_type": "code",
   "execution_count": 3,
   "metadata": {},
   "outputs": [
    {
     "name": "stdout",
     "output_type": "stream",
     "text": [
      "A\n"
     ]
    }
   ],
   "source": [
    "import queue\n",
    "\n",
    "fila = queue.Queue()\n",
    "\n",
    "fila.put(\"T\")\n",
    "fila.put(\"U\")\n",
    "fila.put(\"F\")\n",
    "fila.put(\"A\")\n",
    "\n",
    "usuario = fila.get()\n",
    "\n",
    "print(usuario)"
   ]
  },
  {
   "cell_type": "markdown",
   "metadata": {},
   "source": [
    "Questão 3: Uma empresa deseja implementar uma solução em que seus clientes possam montar seus carrinhos de compras. Por limitações de orçamento, a solução implementada deve apenas, na primeira versão, permitir que o usuário desfaça a operação anterior. \n",
    "\n",
    "Considerando o exposto acima, qual seria a estrutura de dados mais adequada para esse tipo de necessidade?"
   ]
  },
  {
   "cell_type": "markdown",
   "metadata": {},
   "source": [
    "Resposta: *Pilha*"
   ]
  },
  {
   "cell_type": "markdown",
   "metadata": {},
   "source": [
    "Questão 4: Considerando uma pilha e a série de operações abaixo, indique na segunda coluna o valor que sairá e, na terceira coluna pilha corrente (em ordem), na qual o primeiro valor a esquerda foi o primeiro a chegar e o mais a direita o último a chegar:"
   ]
  },
  {
   "cell_type": "markdown",
   "metadata": {},
   "source": [
    "| Operação | Valor que saiu | Pilha Atual |\n",
    "| --- | --- | --- |\n",
    "| Push A | - | A |\n",
    "| Pop | A | - |\n",
    "| Push B | - | B |\n",
    "| Push C | - | B C |\n",
    "| Pop | C | B |\n",
    "| Push D | - | B D |\n",
    "| Push F | - | B D F |\n",
    "| Push G | - | B D F G |\n",
    "| Pop | G | B D F |\n",
    "| Pop | F | B D |\n"
   ]
  },
  {
   "cell_type": "markdown",
   "metadata": {},
   "source": [
    "Questão 5: Ao executar o programa abaixo, o que será impresso?"
   ]
  },
  {
   "cell_type": "code",
   "execution_count": 4,
   "metadata": {},
   "outputs": [
    {
     "name": "stdout",
     "output_type": "stream",
     "text": [
      "Reprovado\n"
     ]
    }
   ],
   "source": [
    "pilhaNotas = [4,8,6,4,8]\n",
    "\n",
    "nota1 = pilhaNotas.pop()\n",
    "if nota1<6:\n",
    "    print(\"Reprovado\")\n",
    "else:\n",
    "    if nota1==10:\n",
    "        print(\"Aprovado\")\n",
    "    else:\n",
    "        print(\"Aguardando novas notas\")"
   ]
  },
  {
   "cell_type": "markdown",
   "metadata": {},
   "source": [
    "Questão 6: Ao executar o programa abaixo e o usuário digitar C, A e B (nessa ordem), quem será o primeiro a ser atendido?"
   ]
  },
  {
   "cell_type": "code",
   "execution_count": 5,
   "metadata": {},
   "outputs": [
    {
     "name": "stdout",
     "output_type": "stream",
     "text": [
      "Qual é o seu nome?G\n",
      "Qual é o seu nome?F\n",
      "Qual é o seu nome?M\n",
      "O primeiro a ser atendido é G\n"
     ]
    }
   ],
   "source": [
    "import queue\n",
    "fila = queue.Queue()\n",
    "\n",
    "nome = input(\"Qual é o seu nome?\")\n",
    "fila.put(nome)\n",
    "\n",
    "nome = input(\"Qual é o seu nome?\")\n",
    "fila.put(nome)\n",
    "\n",
    "nome = input(\"Qual é o seu nome?\")\n",
    "fila.put(nome)\n",
    "\n",
    "print(\"O primeiro a ser atendido é\", fila.get())"
   ]
  },
  {
   "cell_type": "markdown",
   "metadata": {},
   "source": [
    "Questão 7: Considerando que uma letra indica uma operação de PUSH em uma pilha e um * indica uma operação de POP em uma pilha, qual será a pilha resultante da série de operações abaixo:\n",
    "\n",
    "**A B C \\* D E F \\* \\* G H \\* \\* J K L \\***"
   ]
  },
  {
   "cell_type": "markdown",
   "metadata": {},
   "source": [
    "Resposta: A B ~~C~~ \\* D ~~E~~ ~~F~~ \\* \\* ~~G~~ ~~H~~ \\* \\* J K ~~L~~ \\*\n",
    "\n",
    "A B D J K"
   ]
  },
  {
   "cell_type": "markdown",
   "metadata": {},
   "source": [
    "Questão 8: Ao executar o programa abaixo duas vezes, quantas notas serão impressas se o usuário digitar 6 na primeira vez e 4 na segunda vez?"
   ]
  },
  {
   "cell_type": "code",
   "execution_count": 2,
   "metadata": {},
   "outputs": [
    {
     "name": "stdout",
     "output_type": "stream",
     "text": [
      "Digite a nova nota4\n",
      "6\n",
      "Saiu\n"
     ]
    }
   ],
   "source": [
    "notas = [6,8,4,10]\n",
    "\n",
    "novaNota = int(input(\"Digite a nova nota\"))\n",
    "\n",
    "notas.insert(1, novaNota)\n",
    "\n",
    "for nota in notas:\n",
    "    if nota<6:\n",
    "        print(\"Saiu\")\n",
    "        break\n",
    "    else:\n",
    "        print(nota)"
   ]
  }
 ],
 "metadata": {
  "kernelspec": {
   "display_name": "Python 3",
   "language": "python",
   "name": "python3"
  },
  "language_info": {
   "codemirror_mode": {
    "name": "ipython",
    "version": 3
   },
   "file_extension": ".py",
   "mimetype": "text/x-python",
   "name": "python",
   "nbconvert_exporter": "python",
   "pygments_lexer": "ipython3",
   "version": "3.6.1"
  }
 },
 "nbformat": 4,
 "nbformat_minor": 2
}
