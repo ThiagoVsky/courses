{
 "cells": [
  {
   "cell_type": "markdown",
   "metadata": {},
   "source": [
    "Questão 1: Considerando o programa abaixo e sabendo que o usuário digitou 3 e 6 (nessa ordem), preencha no campo resposta o valor final da variável total:"
   ]
  },
  {
   "cell_type": "code",
   "execution_count": 1,
   "metadata": {},
   "outputs": [
    {
     "name": "stdout",
     "output_type": "stream",
     "text": [
      "Digite um número3\n",
      "Digite outro número6\n",
      "O novo número é,  5.0\n"
     ]
    }
   ],
   "source": [
    "num1 = int(input(\"Digite um número\"))\n",
    "num2 = int(input(\"Digite outro número\"))\n",
    "\n",
    "total = num1 + num2/3\n",
    "\n",
    "print(\"O novo número é \", total)"
   ]
  },
  {
   "cell_type": "markdown",
   "metadata": {},
   "source": [
    "Questão 2: Considerando o programa abaixo e sabendo que o usuário digitou 200 e 40 (nessa ordem), o que seria impresso na ordem exata de execução?"
   ]
  },
  {
   "cell_type": "code",
   "execution_count": 2,
   "metadata": {},
   "outputs": [
    {
     "name": "stdout",
     "output_type": "stream",
     "text": [
      "Digite o valor do salário200\n",
      "Digite o percentual de aumento40\n",
      "280.0\n",
      "200.0\n"
     ]
    }
   ],
   "source": [
    "salario = float(input(\"Digite o valor do salário\"))\n",
    "aumento = float(input(\"Digite o percentual de aumento\"))\n",
    "\n",
    "novoSalario = salario*(1+aumento/100)\n",
    "\n",
    "print(novoSalario)\n",
    "print(salario)"
   ]
  },
  {
   "cell_type": "markdown",
   "metadata": {},
   "source": [
    "Questão 3: O programa abaixo foi executado diversas vezes e, após o usuário digitar um valor, o programa imprimiu a situação do aluno. Para cada valor digitado, coloque do lado a situação do aluno (“Reprovado”, “Recuperação” ou “Aprovado”):"
   ]
  },
  {
   "cell_type": "code",
   "execution_count": 8,
   "metadata": {},
   "outputs": [
    {
     "name": "stdout",
     "output_type": "stream",
     "text": [
      "Qual a média do aluno?4\n",
      "Reprovado\n"
     ]
    }
   ],
   "source": [
    "media = float(input(\"Qual a média do aluno?\"))\n",
    "\n",
    "if 0 < media <=5:\n",
    "    print(\"Reprovado\")\n",
    "else:\n",
    "    if 5 < media < 6:\n",
    "        print(\"Recuperação\")\n",
    "    else:\n",
    "        print(\"Aprovado\")"
   ]
  },
  {
   "cell_type": "markdown",
   "metadata": {},
   "source": [
    "| Valor Digitado | Situação |\n",
    "| --- |--- |\n",
    "| 5 | Reprovado |\n",
    "| 8 | Aprovado |\n",
    "| 1 | Reprovado |\n",
    "| -5.5 | Aprovado |\n",
    "| 4 | Reprovado |"
   ]
  },
  {
   "cell_type": "markdown",
   "metadata": {},
   "source": [
    "Questão 4: Para cada execução do programa abaixo, indique na tabela os valores finais das variáveis precoA e precoB:"
   ]
  },
  {
   "cell_type": "code",
   "execution_count": 13,
   "metadata": {},
   "outputs": [
    {
     "name": "stdout",
     "output_type": "stream",
     "text": [
      "Digite o valor do produto 140\n",
      "Digite o valor do produto 250\n",
      "110\n",
      "50\n"
     ]
    }
   ],
   "source": [
    "precoA = int(input(\"Digite o valor do produto 1\"))\n",
    "precoB = int(input(\"Digite o valor do produto 2\"))\n",
    "\n",
    "if precoA>precoB:\n",
    "    precoB = precoB*2\n",
    "else:\n",
    "    if precoA==precoB:\n",
    "        precoB = precoB*1.5\n",
    "    else:\n",
    "        precoA = precoB*2 + 10\n",
    "\n",
    "print(precoA)\n",
    "print(precoB)"
   ]
  },
  {
   "cell_type": "markdown",
   "metadata": {},
   "source": [
    "| Valor Digitado 1 | Valor Digitado 2 | precoA | precoB\n",
    "| --- |--- | --- |--- |\n",
    "| 100 | 200 |410 | 200 |\n",
    "| 50 | 20 |50 | 40 |\n",
    "| 60 | 60 |60 | 90 |\n",
    "| 70 | 20 |70 | 40 |\n",
    "| 40 | 50 |110 | 50|"
   ]
  },
  {
   "cell_type": "markdown",
   "metadata": {},
   "source": [
    "Questão 5: Ao executar o programa abaixo, qual é a média final do aluno?"
   ]
  },
  {
   "cell_type": "code",
   "execution_count": 14,
   "metadata": {},
   "outputs": [
    {
     "name": "stdout",
     "output_type": "stream",
     "text": [
      "Média 10.0\n"
     ]
    }
   ],
   "source": [
    "notas = (10,6,5,9)\n",
    "soma = 10\n",
    "for nota in notas:\n",
    "    soma = soma + nota\n",
    "print(\"Média\", soma/4)"
   ]
  },
  {
   "cell_type": "markdown",
   "metadata": {},
   "source": [
    "Questão 6: Ao executar o programa abaixo, o usuário digitou DF e SP (nessa ordem). Qual será o valor final da variável percentual?"
   ]
  },
  {
   "cell_type": "code",
   "execution_count": 15,
   "metadata": {},
   "outputs": [
    {
     "name": "stdout",
     "output_type": "stream",
     "text": [
      "Digite um estadoDF\n",
      "Digite outro estadoSP\n",
      "Percentual 18\n"
     ]
    }
   ],
   "source": [
    "origem = input(\"Digite um estado\")\n",
    "destino = input(\"Digite outro estado\")\n",
    "\n",
    "percentual = 18\n",
    "\n",
    "if origem==\"SP\" and destino==\"DF\":\n",
    "    percentual = 12\n",
    "if origem==\"GO\" or destino==\"DF\":\n",
    "    percentual = 7\n",
    "    \n",
    "print(\"Percentual\", percentual)"
   ]
  },
  {
   "cell_type": "markdown",
   "metadata": {},
   "source": [
    "Questão 7: Um usuário pretendia digitar os números 2, 3, 2, 1, 4, -3, 1, 4, 1, 2, 0, mas o programa encerrou antes que ele digitasse todos os valores. Qual foi o último valor digitado?"
   ]
  },
  {
   "cell_type": "code",
   "execution_count": 20,
   "metadata": {},
   "outputs": [
    {
     "name": "stdout",
     "output_type": "stream",
     "text": [
      "Digite um número de 1 a 102\n",
      "Digite um número de 1 a 103\n",
      "Digite um número de 1 a 102\n",
      "Digite um número de 1 a 101\n",
      "Digite um número de 1 a 104\n",
      "3.0\n"
     ]
    }
   ],
   "source": [
    "soma = 0\n",
    "rodadas = 10\n",
    "num = 0\n",
    "while soma <= rodadas:\n",
    "    num = int(input(\"Digite um número de 1 a 10\"))\n",
    "    soma = soma + num\n",
    "    if soma > 20:\n",
    "        break\n",
    "print(soma/4)"
   ]
  },
  {
   "cell_type": "markdown",
   "metadata": {},
   "source": [
    "Questão 8: Ao executar o programa abaixo, qual será o valor final da variável mediaFinal:"
   ]
  },
  {
   "cell_type": "code",
   "execution_count": 18,
   "metadata": {},
   "outputs": [
    {
     "name": "stdout",
     "output_type": "stream",
     "text": [
      "6.0\n"
     ]
    }
   ],
   "source": [
    "notas = (10,5,4,5)\n",
    "mediaFinal = 0\n",
    "soma = 0\n",
    "\n",
    "for i in notas:\n",
    "    if i < 4:\n",
    "        mediaFinal = 0\n",
    "    else:\n",
    "        soma = soma + i\n",
    "\n",
    "mediaFinal = soma / 4\n",
    "print(mediaFinal)"
   ]
  },
  {
   "cell_type": "markdown",
   "metadata": {},
   "source": [
    "Questão 9: Uma faculdade deseja implementar um programa para cálculo de médias de notas de provas, de modo que seja calculada a média independente de quantas notas o aluno terá. Ou seja, o programa deve calcular a média para uma turma com 3 provas e para outra turma com 4 provas. Continue a implementação abaixo desse programa considerando os requisitos acima, sabendo que você só precisa implementar de 3 a 4 linhas para o cálculo e mais uma para imprimir a média."
   ]
  },
  {
   "cell_type": "code",
   "execution_count": 19,
   "metadata": {},
   "outputs": [
    {
     "name": "stdout",
     "output_type": "stream",
     "text": [
      "6.0\n"
     ]
    }
   ],
   "source": [
    "notas = (10,6,4,8,2,6)\n",
    "quantidade = len(notas)\n",
    "soma = 0\n",
    "\n",
    "for nota in notas:\n",
    "    soma += nota\n",
    "print(soma/quantidade)"
   ]
  }
 ],
 "metadata": {
  "kernelspec": {
   "display_name": "Python 3",
   "language": "python",
   "name": "python3"
  },
  "language_info": {
   "codemirror_mode": {
    "name": "ipython",
    "version": 3
   },
   "file_extension": ".py",
   "mimetype": "text/x-python",
   "name": "python",
   "nbconvert_exporter": "python",
   "pygments_lexer": "ipython3",
   "version": "3.6.1"
  }
 },
 "nbformat": 4,
 "nbformat_minor": 2
}
