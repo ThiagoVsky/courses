{
 "cells": [
  {
   "cell_type": "markdown",
   "metadata": {},
   "source": [
    "Questão 1: Qual o valor final da variável usuário?"
   ]
  },
  {
   "cell_type": "code",
   "execution_count": 1,
   "metadata": {},
   "outputs": [
    {
     "name": "stdout",
     "output_type": "stream",
     "text": [
      "B\n"
     ]
    }
   ],
   "source": [
    "pilha = []\n",
    "\n",
    "pilha.append(\"A\")\n",
    "pilha.append(\"C\")\n",
    "pilha.append(\"D\")\n",
    "pilha.append(\"B\")\n",
    "\n",
    "usuario = pilha.pop()\n",
    "\n",
    "print(usuario)"
   ]
  },
  {
   "cell_type": "markdown",
   "metadata": {},
   "source": [
    "Questão 2: Qual o valor final da variável usuário?"
   ]
  },
  {
   "cell_type": "code",
   "execution_count": 3,
   "metadata": {},
   "outputs": [
    {
     "name": "stdout",
     "output_type": "stream",
     "text": [
      "A\n"
     ]
    }
   ],
   "source": [
    "import queue\n",
    "\n",
    "fila = queue.Queue()\n",
    "\n",
    "fila.put(\"A\")\n",
    "fila.put(\"C\")\n",
    "fila.put(\"D\")\n",
    "fila.put(\"B\")\n",
    "\n",
    "usuario = fila.get()\n",
    "\n",
    "print(usuario)"
   ]
  },
  {
   "cell_type": "markdown",
   "metadata": {},
   "source": [
    "Questão 3: Uma empresa deseja implementar uma solução em que seus clientes possam montar seus carrinhos de compras, indicando a ordem de prioridade dos itens para comprar. Além disso, essa empresa deseja que seus clientes possam manusear esse carrinho à vontade, inserindo, removendo ou bucando itens sempre que desejar. \n",
    "\n",
    "Considerando o exposto acima, qual seria a estrutura de dados mais adequada para esse tipo de necessidade?"
   ]
  },
  {
   "cell_type": "markdown",
   "metadata": {},
   "source": [
    "Resposta: *Listas*"
   ]
  },
  {
   "cell_type": "markdown",
   "metadata": {},
   "source": [
    "Questão 4: Considerando uma pilha e a série de operações abaixo, indique na segunda coluna o valor que sairá e, na terceira coluna pilha corrente (em ordem), na qual o primeiro valor a esquerda foi o primeiro a chegar e o mais a direita o último a chegar:"
   ]
  },
  {
   "cell_type": "markdown",
   "metadata": {},
   "source": [
    "| Operação | Valor que saiu | Pilha Atual |\n",
    "| --- | --- | --- |\n",
    "| Push A | - | A |\n",
    "| Push B | - | A B |\n",
    "| Pop | B | A |\n",
    "| Push C | - | A C |\n",
    "| Push D | - | A C D |\n",
    "| Push E | - | A C D E |\n",
    "| Pop | E | A C D |\n",
    "| Push F | - | A C D F |\n",
    "| Pop | F | A C D |\n",
    "| Push G | - | A C D G |"
   ]
  },
  {
   "cell_type": "markdown",
   "metadata": {},
   "source": [
    "Questão 5: Ao executar o programa abaixo, o que será impresso?"
   ]
  },
  {
   "cell_type": "code",
   "execution_count": 4,
   "metadata": {},
   "outputs": [
    {
     "name": "stdout",
     "output_type": "stream",
     "text": [
      "Reprovado\n"
     ]
    }
   ],
   "source": [
    "pilhaNotas = [10,8,6,4,4]\n",
    "\n",
    "nota1 = pilhaNotas.pop()\n",
    "if nota1<6:\n",
    "    print(\"Reprovado\")\n",
    "else:\n",
    "    if nota1==10:\n",
    "        print(\"Aprovado\")\n",
    "    else:\n",
    "        print(\"Aguardando novas notas\")"
   ]
  },
  {
   "cell_type": "markdown",
   "metadata": {},
   "source": [
    "Questão 6: Ao executar o programa abaixo e o usuário digitar G, F e M (nessa ordem), quem será o primeiro a ser atendido?"
   ]
  },
  {
   "cell_type": "code",
   "execution_count": 5,
   "metadata": {},
   "outputs": [
    {
     "name": "stdout",
     "output_type": "stream",
     "text": [
      "Qual é o seu nome?G\n",
      "Qual é o seu nome?F\n",
      "Qual é o seu nome?M\n",
      "O primeiro a ser atendido é G\n"
     ]
    }
   ],
   "source": [
    "import queue\n",
    "fila = queue.Queue()\n",
    "\n",
    "nome = input(\"Qual é o seu nome?\")\n",
    "fila.put(nome)\n",
    "\n",
    "nome = input(\"Qual é o seu nome?\")\n",
    "fila.put(nome)\n",
    "\n",
    "nome = input(\"Qual é o seu nome?\")\n",
    "fila.put(nome)\n",
    "\n",
    "print(\"O primeiro a ser atendido é\", fila.get())"
   ]
  },
  {
   "cell_type": "markdown",
   "metadata": {},
   "source": [
    "Questão 7: Considerando que uma letra indica uma operação de PUSH em uma pilha e um * indica uma operação de POP em uma pilha, qual será a pilha resultante da série de operações abaixo:\n",
    "\n",
    "**A \\* B C D E \\* \\* F \\* \\* G H I J K \\* \\* L**"
   ]
  },
  {
   "cell_type": "markdown",
   "metadata": {},
   "source": [
    "Resposta: ~~A~~ \\* B ~~C~~ ~~D~~ ~~E~~ \\* \\* ~~F~~ \\* \\* G H I ~~J~~ ~~K~~ \\* \\* L\n",
    "\n",
    "B G H I L"
   ]
  },
  {
   "cell_type": "markdown",
   "metadata": {},
   "source": [
    "Questão 8: Ao executar o programa abaixo duas vezes, quantas notas serão impressas se o usuário digitar 6 na primeira vez e 4 na segunda vez?"
   ]
  },
  {
   "cell_type": "code",
   "execution_count": 8,
   "metadata": {},
   "outputs": [
    {
     "name": "stdout",
     "output_type": "stream",
     "text": [
      "Digite a nova nota4\n",
      "10\n",
      "Saiu\n"
     ]
    }
   ],
   "source": [
    "notas = [10,4,8]\n",
    "\n",
    "notaNota = int(input(\"Digite a nova nota\"))\n",
    "\n",
    "notas.insert(1, notaNota)\n",
    "\n",
    "for nota in notas:\n",
    "    if nota<6:\n",
    "        print(\"Saiu\")\n",
    "        break\n",
    "    else:\n",
    "        print(nota)"
   ]
  }
 ],
 "metadata": {
  "kernelspec": {
   "display_name": "Python 3",
   "language": "python",
   "name": "python3"
  },
  "language_info": {
   "codemirror_mode": {
    "name": "ipython",
    "version": 3
   },
   "file_extension": ".py",
   "mimetype": "text/x-python",
   "name": "python",
   "nbconvert_exporter": "python",
   "pygments_lexer": "ipython3",
   "version": "3.6.1"
  }
 },
 "nbformat": 4,
 "nbformat_minor": 2
}
