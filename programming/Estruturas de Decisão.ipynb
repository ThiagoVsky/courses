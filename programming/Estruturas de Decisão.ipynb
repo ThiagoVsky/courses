{
 "cells": [
  {
   "cell_type": "markdown",
   "metadata": {},
   "source": [
    "# Estruturas de Decisão"
   ]
  },
  {
   "cell_type": "markdown",
   "metadata": {},
   "source": [
    "## Introdução"
   ]
  },
  {
   "cell_type": "markdown",
   "metadata": {},
   "source": [
    "Uma estrutura de decisão é um tipo especial de estruturas de controle, utilizada para controlar o fluxo de execução de um programa a partir da decisão sobre uma ou mais condições. \n",
    "\n",
    "Considere o seguinte exemplo: um programa deve imprimir uma mensagem de Bom dia/Boa tarde/Boa noite de acordo com a hora do dia. Explicando melhor, o programa irá imprimir apenas uma das três frases, onde aquela que será escolhida dependerá de que horas o program está sendo executado.\n",
    "\n",
    "Separando esse exemplo entre condições, temos a seguinte tabela abaixo:"
   ]
  },
  {
   "cell_type": "markdown",
   "metadata": {},
   "source": [
    "|Condição|Instrução|\n",
    "|:--:|:--:|\n",
    "|Hora entre 6 e 12|Imprimir Bom dia|\n",
    "|Hora entre 12 e 18|Imprimir Boa tarde|\n",
    "|Hora entre 18 e 24:00|Imprimir Boa noite|"
   ]
  },
  {
   "cell_type": "markdown",
   "metadata": {},
   "source": [
    "Logo, a partir da hora do dia, o programa decidirá qual das três instruções será executada. Colocando isso em uma linguagem informal:\n",
    "\n",
    "```\n",
    "SE HORA MAIOR que 6 E menor que 12 ENTÃO\n",
    "    Imprima Bom dia\n",
    "CASO CONTRÁRIO\n",
    "    SE HORA MAIOR OU IGUAL a 12 E menor que 18 ENTÃO\n",
    "        Imprima Boa tarde\n",
    "    CASO CONTRÁRIO \n",
    "        SE HORA MAIOR OU IGUAL a 18 E menor que 24 ENTÃO\n",
    "            Imprima Boa noite\n",
    "\n",
    "```   \n",
    "   "
   ]
  },
  {
   "cell_type": "markdown",
   "metadata": {},
   "source": [
    "Ou seja, apenas uma das três instruções de impressão será executada, visto que uma hora não pode ser ao mesmo tempo 11 e 14, por exemplo. Usa-se estruturas de decisão para implementar esse tipo de controle de fluxo em linguagens de programação."
   ]
  },
  {
   "cell_type": "markdown",
   "metadata": {},
   "source": [
    "## IF/ELSE"
   ]
  },
  {
   "cell_type": "markdown",
   "metadata": {},
   "source": [
    "Em Python, a estrutura de decisão é feita através do uso do IF/ElSE. Veja um exemplo abaixo:"
   ]
  },
  {
   "cell_type": "code",
   "execution_count": null,
   "metadata": {
    "collapsed": true
   },
   "outputs": [],
   "source": [
    "# a variável abaixo armazena o resto da divisão de 9 por 2\n",
    "resto = 9 % 2\n",
    "\n",
    "if resto==1:\n",
    "    print(\"O número é ímpar\")\n",
    "else:\n",
    "    print(\"O número é par\")\n"
   ]
  },
  {
   "cell_type": "markdown",
   "metadata": {},
   "source": [
    "Note que as linhas do *if* e *else* devem ser encerradas com dois pontos (:). Além disso, as instruções que fazem parte dos blocos do *if* e *else* devem estar indentadas. Veja um exemplo abaixo em que a falta disso causará erro:"
   ]
  },
  {
   "cell_type": "code",
   "execution_count": null,
   "metadata": {
    "collapsed": true
   },
   "outputs": [],
   "source": [
    "# a variável abaixo armazena o resto da divisão de 9 por 2\n",
    "resto = 9 % 2\n",
    "\n",
    "if resto==1:\n",
    "print(\"O número é ímpar\") # essa linha dará o erro expected an indented block\n",
    "else:\n",
    "    print(\"O número é par\")"
   ]
  },
  {
   "cell_type": "markdown",
   "metadata": {},
   "source": [
    "Existem basicamente três formas de usar a estrutura de decisão em Python:"
   ]
  },
  {
   "cell_type": "markdown",
   "metadata": {},
   "source": [
    "1) Apenas usando o if:"
   ]
  },
  {
   "cell_type": "code",
   "execution_count": null,
   "metadata": {
    "collapsed": true
   },
   "outputs": [],
   "source": [
    "resto = 9 % 2\n",
    "\n",
    "if resto==1:\n",
    "    print(\"O número não é ímpar\")"
   ]
  },
  {
   "cell_type": "markdown",
   "metadata": {},
   "source": [
    "2) Usando if e else:"
   ]
  },
  {
   "cell_type": "code",
   "execution_count": null,
   "metadata": {
    "collapsed": true
   },
   "outputs": [],
   "source": [
    "# Com if e else\n",
    "\n",
    "resto = 9 % 2\n",
    "\n",
    "if resto==1:\n",
    "    print(\"O número não é ímpar\")\n",
    "else:\n",
    "    print(\"O número é par\")"
   ]
  },
  {
   "cell_type": "markdown",
   "metadata": {},
   "source": [
    "3) Usando if e else aninhados"
   ]
  },
  {
   "cell_type": "code",
   "execution_count": null,
   "metadata": {
    "collapsed": true
   },
   "outputs": [],
   "source": [
    "resto = 9 % 2\n",
    "\n",
    "if resto==1:\n",
    "    print(\"O número não é ímpar\")\n",
    "else: \n",
    "    if resto==0:\n",
    "        print(\"O número é par\")\n",
    "    else:\n",
    "        print(\"Indefinido\")"
   ]
  },
  {
   "cell_type": "markdown",
   "metadata": {},
   "source": [
    "Essa terceira forma pode ser simplificada com o uso da palavra reservada elif no lugar do else if:"
   ]
  },
  {
   "cell_type": "code",
   "execution_count": null,
   "metadata": {
    "collapsed": true
   },
   "outputs": [],
   "source": [
    "resto = 9 % 2\n",
    "\n",
    "if resto==1:\n",
    "    print(\"O número não é ímpar\")\n",
    "elif resto==0:\n",
    "    print(\"O número é par\")\n",
    "else:\n",
    "    print(\"Indefinido\")"
   ]
  },
  {
   "cell_type": "markdown",
   "metadata": {},
   "source": [
    "Repare que o código fica com menos indentações do que usando a forma expandida do if-else-if aninhados."
   ]
  },
  {
   "cell_type": "markdown",
   "metadata": {},
   "source": [
    "## Uso de Condições"
   ]
  },
  {
   "cell_type": "markdown",
   "metadata": {},
   "source": [
    "Em um if tradicional, o programa irá decidir qual fluxo de execução será seguido de acordo com a condição definida no if. Considere o código abaixo:"
   ]
  },
  {
   "cell_type": "markdown",
   "metadata": {},
   "source": [
    "```\n",
    "if nota > 10:\n",
    "    notaFinal = 10\n",
    "else:\n",
    "    notaFinal = nota\n",
    "```"
   ]
  },
  {
   "cell_type": "markdown",
   "metadata": {},
   "source": [
    "Ou seja, se a variável nota tiver um valor maior do que 10, então a variável notaFinal será 10. Caso contrário, a notaFinal terá o mesmo valor da nota. No if acima, a condição que será avaliada se o programa seguirá um fluxo ou outro é a expressão *nota > 10*."
   ]
  },
  {
   "cell_type": "markdown",
   "metadata": {},
   "source": [
    "Esse tipo de expressão retorna um valor booleano, ou seja, True/False. Veja abaixo alguns exemplos (aproveite o uso do Jupyter Notebook para alterar os exemplos abaixo para \"testar\" outros exemplos):"
   ]
  },
  {
   "cell_type": "code",
   "execution_count": null,
   "metadata": {
    "collapsed": true
   },
   "outputs": [],
   "source": [
    "#Exemplo 1\n",
    "nota = 11\n",
    "condicao = nota > 10 # nota é maior do que 10?\n",
    "print(condicao)"
   ]
  },
  {
   "cell_type": "code",
   "execution_count": null,
   "metadata": {
    "collapsed": true
   },
   "outputs": [],
   "source": [
    "#Exemplo 2\n",
    "nota = 8\n",
    "condicao = nota < 10  # nota é menor do que 10?\n",
    "print(condicao)"
   ]
  },
  {
   "cell_type": "code",
   "execution_count": null,
   "metadata": {
    "collapsed": true
   },
   "outputs": [],
   "source": [
    "#Exemplo 3\n",
    "nota = 10\n",
    "condicao = nota >= 10 # nota é maior ou igual a 10?\n",
    "print(condicao)"
   ]
  },
  {
   "cell_type": "code",
   "execution_count": null,
   "metadata": {
    "collapsed": true
   },
   "outputs": [],
   "source": [
    "#Exemplo 4\n",
    "nota = 11\n",
    "condicao = nota <= 10 # nota é menor ou igual a 10?\n",
    "print(condicao)"
   ]
  },
  {
   "cell_type": "code",
   "execution_count": null,
   "metadata": {
    "collapsed": true
   },
   "outputs": [],
   "source": [
    "#Exemplo 5\n",
    "nota = 10\n",
    "condicao = nota == 10 # nota é igual a 10?\n",
    "print(condicao)"
   ]
  },
  {
   "cell_type": "code",
   "execution_count": null,
   "metadata": {
    "collapsed": true
   },
   "outputs": [],
   "source": [
    "#Exemplo 6\n",
    "nota1 = 10\n",
    "nota2 = 8\n",
    "condicao = nota1 != nota2 # nota1 é diferente de nota2?\n",
    "print(condicao)"
   ]
  },
  {
   "cell_type": "markdown",
   "metadata": {},
   "source": [
    "Ao executar os exemplos acima, o valor da variável condicao é sempre True/False. Logo, é uma expressão que retorna True/False que será avaliada em uma estrutura de controle para decidir qual fluxo seguir. Veja mais exemplos:"
   ]
  },
  {
   "cell_type": "code",
   "execution_count": null,
   "metadata": {
    "collapsed": true
   },
   "outputs": [],
   "source": [
    "linguagem = \"Python\"\n",
    "\n",
    "if linguagem==\"Java\":\n",
    "    print(\"System.out.println\")\n",
    "elif linguagem==\"Python\":\n",
    "    print(\"print\")\n",
    "else:\n",
    "    print(\"Linguagem desconhecida\")"
   ]
  },
  {
   "cell_type": "markdown",
   "metadata": {},
   "source": [
    "No exemplo acima, comparamos o valor de uma variável com uma string. Isso é perfeitamente possível, assim como o uso de resultado de funções:"
   ]
  },
  {
   "cell_type": "code",
   "execution_count": null,
   "metadata": {
    "collapsed": true
   },
   "outputs": [],
   "source": [
    "nome = \"Estrutura de Dados\"\n",
    "\n",
    "if len(nome)>10:\n",
    "    print(\"Texto grande demais\")    "
   ]
  },
  {
   "cell_type": "markdown",
   "metadata": {},
   "source": [
    "No exemplo acima, usamos o resultado da função *len*, que retorna o tamanho (ou quantidade de itens) de um objeto. No caso de uma string, a função *len* retorna o comprimento dela. Outra forma de fazer o código acima:"
   ]
  },
  {
   "cell_type": "code",
   "execution_count": null,
   "metadata": {
    "collapsed": true
   },
   "outputs": [],
   "source": [
    "nome = \"Estrutura de Dados\"\n",
    "comprimento = len(nome)\n",
    "\n",
    "if comprimento>10:\n",
    "    print(\"Texto grande demais\")"
   ]
  },
  {
   "cell_type": "markdown",
   "metadata": {},
   "source": [
    "Note que, ao invés de chamarmos a função no próprio if, criamos uma variável antes e armazenamos o resultado da função *len* dentro dela. Depois usamos essa variável para fazer a comparação no if. "
   ]
  },
  {
   "cell_type": "markdown",
   "metadata": {},
   "source": [
    "## Condições Combinadas"
   ]
  },
  {
   "cell_type": "markdown",
   "metadata": {},
   "source": [
    "Também é possível combinar mais de uma expressão lógica em um if. Veja:"
   ]
  },
  {
   "cell_type": "code",
   "execution_count": null,
   "metadata": {
    "collapsed": true
   },
   "outputs": [],
   "source": [
    "hora = 14\n",
    "\n",
    "if hora>=12 and hora<18:\n",
    "    print (\"Boa tarde\")"
   ]
  },
  {
   "cell_type": "markdown",
   "metadata": {},
   "source": [
    "Ou seja, apenas imprimirá \"Boa tarde\" **apenas** se hora for maior/igual a 12 E menor do que 18. Para isso se usa o and. "
   ]
  },
  {
   "cell_type": "markdown",
   "metadata": {},
   "source": [
    "Uma outra forma de de fazer a expressão acima:"
   ]
  },
  {
   "cell_type": "code",
   "execution_count": null,
   "metadata": {},
   "outputs": [],
   "source": [
    "hora = 14\n",
    "\n",
    "if 12 <= hora <18:\n",
    "    print (\"Boa tarde\")"
   ]
  },
  {
   "cell_type": "markdown",
   "metadata": {},
   "source": [
    "Veja outros exemplos:"
   ]
  },
  {
   "cell_type": "code",
   "execution_count": null,
   "metadata": {
    "collapsed": true
   },
   "outputs": [],
   "source": [
    "nota1 = 10\n",
    "nota2 = 3\n",
    "\n",
    "if nota1<6 or nota2<6:\n",
    "    print (\"Aluno reprovado\")"
   ]
  },
  {
   "cell_type": "code",
   "execution_count": null,
   "metadata": {
    "collapsed": true
   },
   "outputs": [],
   "source": [
    "nota1 = 10\n",
    "nota2 = 3\n",
    "trabalho = 4\n",
    "\n",
    "if (nota1<6 or nota2<6) and trabalho<=4:\n",
    "    print (\"Aluno reprovado\")"
   ]
  },
  {
   "cell_type": "markdown",
   "metadata": {},
   "source": [
    "No exemplo acima, combinamos expressões com E (and) e OU (or). Além disso, usamos parênteses para indicar a precedência desejada na comparação lógica."
   ]
  },
  {
   "cell_type": "markdown",
   "metadata": {},
   "source": [
    "Você também pode usar o not:"
   ]
  },
  {
   "cell_type": "code",
   "execution_count": null,
   "metadata": {},
   "outputs": [],
   "source": [
    "nota = 6\n",
    "\n",
    "if not nota > 6:\n",
    "    print(\"Reprovado\")"
   ]
  },
  {
   "cell_type": "markdown",
   "metadata": {},
   "source": [
    "## Exercícios"
   ]
  },
  {
   "cell_type": "markdown",
   "metadata": {},
   "source": [
    "**Ex 1: Implemente um programa que pergunte a idade do usuário. Se a idade for maior do que 18, então o sistema deve imprimir \"Acesso Autorizado\". Caso contrário, o programa imprimirá \"Acesso Negado\". Lembre-se que deverá converter a saída da leitura do teclado para um valor inteiro (use a função int(valor-a-ser-convertido))**"
   ]
  },
  {
   "cell_type": "code",
   "execution_count": null,
   "metadata": {
    "collapsed": true
   },
   "outputs": [],
   "source": [
    "# implemente aqui"
   ]
  },
  {
   "cell_type": "markdown",
   "metadata": {},
   "source": [
    "**Ex 2: Na célula abaixo, foram implementadas linhas para que o programa pegue a hora do sistema. Você deve completar o programa abaixo, de modo que imprima uma mensagem de saudação dependendo da hora do dia. Use if-else aninhados.**"
   ]
  },
  {
   "cell_type": "code",
   "execution_count": null,
   "metadata": {
    "collapsed": true
   },
   "outputs": [],
   "source": [
    "import datetime\n",
    "now = datetime.datetime.now()\n",
    "hora = now.hour\n",
    "print(\"São {} horas\".format(hora))\n",
    "\n",
    "# complete o exercício a partir daqui"
   ]
  },
  {
   "cell_type": "markdown",
   "metadata": {},
   "source": [
    "**Ex 3: Implemente um programa que calcule a média de 3 notas e imprima \"Aprovado\", se a média for maior do que 6, e imprima \"Reprovado\", caso contrário.**"
   ]
  },
  {
   "cell_type": "code",
   "execution_count": null,
   "metadata": {
    "collapsed": true
   },
   "outputs": [],
   "source": [
    "nota1 = 8\n",
    "nota2 = 3\n",
    "nota3 = 10\n",
    "\n",
    "# continue a partir daqui"
   ]
  },
  {
   "cell_type": "markdown",
   "metadata": {},
   "source": [
    "**Ex 4: Modifique o programa acima, de acordo com seguintes requisitos adicionais:**\n",
    "\n",
    "- O programa deve pedir ao usuário que digite as 3 notas\n",
    "- Caso a média fique entre 5 e 6, então deverá ser impresso \"Recuperação\""
   ]
  },
  {
   "cell_type": "code",
   "execution_count": null,
   "metadata": {
    "collapsed": true
   },
   "outputs": [],
   "source": [
    "# reimplemente o programa do exercício anterior, agora utilizando os requisitos adicionais"
   ]
  },
  {
   "cell_type": "markdown",
   "metadata": {},
   "source": [
    "** Ex 5: Faça um programa que informe ao usuário o seu novo salário, de acordo com o percentual abaixo**\n",
    "\n",
    "- Até 1000: 20%\n",
    "- De 1000 a 5000: 10% \n",
    "- De 5000 a 10000: 5%\n",
    "- Acima de 10000: 2%\n",
    "\n",
    "**O sistema deve perguntar ao usuário qual é o seu salário e o sistema deve informar o novo salário de acordo com a tabela acima.**"
   ]
  },
  {
   "cell_type": "code",
   "execution_count": null,
   "metadata": {
    "collapsed": true
   },
   "outputs": [],
   "source": [
    "# implemente a partir daqui"
   ]
  },
  {
   "cell_type": "markdown",
   "metadata": {},
   "source": [
    "** Ex 6: Continue o programa abaixo que imprima uma mensagem específica para cada versão do Windows (7, 8, 10 e outras). Esteja livre para criar frases diferentes para cada versão do Windows. Exemplo: se for Windows 10, o sistema imprimirá uma mensagem. Se for Windows 8, imprimirá outra mensagem e o mesmo se aplica às demais versões. O código para pegar a versão do Windows da sua máquina está implementado abaixo** "
   ]
  },
  {
   "cell_type": "code",
   "execution_count": null,
   "metadata": {},
   "outputs": [],
   "source": [
    "import sys\n",
    "\n",
    "versaoWindows = sys.getwindowsversion().major\n",
    "\n",
    "# continue a partir daqui"
   ]
  },
  {
   "cell_type": "markdown",
   "metadata": {},
   "source": [
    "**Ex 7: Em aplicações de processamento de texto, como análise de tweets, é bastante comum procurar se se determinadas palavras estão no texto. Um exemplo do uso desse tipo de busca é a mineração de redes sociais para análise de opiniões sobre determinado produto/marca. **\n",
    "\n",
    "**A função find, da classe string procura uma substring dentro de uma string. Use esse método para verificar se uma determinada substring encontra-se dentro de uma string. As duas (string e substring) são dadas abaixo ** "
   ]
  },
  {
   "cell_type": "code",
   "execution_count": null,
   "metadata": {},
   "outputs": [],
   "source": [
    "# exemplo de uso da função find()\n",
    "nome = \"Python\"\n",
    "# retorna a posição se a substring dada existe na string procurada. \n",
    "# Se não encontra, retorna o número -1\n",
    "posicao = nome.find(\"th\") \n",
    "print(posicao)\n",
    "\n",
    "# variáveis do exercício\n",
    "texto = \"Python é uma linguagem de programação bastante utilizada no mercado #TimePython\"\n",
    "procurar = \"programação\"\n",
    "\n",
    "# implemente a partir daqui\n"
   ]
  }
 ],
 "metadata": {
  "kernelspec": {
   "display_name": "Python 3",
   "language": "python",
   "name": "python3"
  },
  "language_info": {
   "codemirror_mode": {
    "name": "ipython",
    "version": 3
   },
   "file_extension": ".py",
   "mimetype": "text/x-python",
   "name": "python",
   "nbconvert_exporter": "python",
   "pygments_lexer": "ipython3",
   "version": "3.6.1"
  }
 },
 "nbformat": 4,
 "nbformat_minor": 2
}
